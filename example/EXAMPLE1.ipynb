{
 "cells": [
  {
   "cell_type": "code",
   "execution_count": 1,
   "metadata": {},
   "outputs": [
    {
     "name": "stderr",
     "output_type": "stream",
     "text": [
      "\u001b[32m\u001b[1m  Activating\u001b[22m\u001b[39m project at `~/git/BigRiverQTL.jl`\n"
     ]
    }
   ],
   "source": [
    "using Pkg\n",
    "Pkg.activate(\"../\")"
   ]
  },
  {
   "cell_type": "code",
   "execution_count": 2,
   "metadata": {
    "collapsed": true,
    "jupyter": {
     "outputs_hidden": true
    }
   },
   "outputs": [],
   "source": [
    "Pkg.instantiate()"
   ]
  },
  {
   "cell_type": "code",
   "execution_count": 3,
   "metadata": {},
   "outputs": [],
   "source": [
    "using Revise"
   ]
  },
  {
   "cell_type": "code",
   "execution_count": 4,
   "metadata": {},
   "outputs": [],
   "source": [
    "using BigRiverQTLPlots\n",
    "using Random, Statistics\n",
    "using Plots\n",
    "using Helium\n",
    "using BigRiverQTL\n",
    "using CSV\n",
    "using DataFrames\n",
    "using BulkLMM"
   ]
  },
  {
   "cell_type": "code",
   "execution_count": 5,
   "metadata": {},
   "outputs": [],
   "source": [
    "##############\n",
    "# BXD spleen #\n",
    "##############\n",
    "\n",
    "########\n",
    "# Data #\n",
    "########\n",
    "data_dir = joinpath(@__DIR__, \"../data/BXD/\");\n",
    "file = joinpath(data_dir, \"bxd.json\");"
   ]
  },
  {
   "cell_type": "code",
   "execution_count": 6,
   "metadata": {},
   "outputs": [],
   "source": [
    "# Transforming data to a optimised and accessible data type\n",
    "data = get_geneticstudydata(file);"
   ]
  },
  {
   "cell_type": "code",
   "execution_count": 9,
   "metadata": {},
   "outputs": [],
   "source": [
    "gInfo=data.gmap;\n",
    "pInfo=data.phenocov;\n",
    "pheno=data.pheno;\n",
    "pheno=data.pheno.val;\n",
    "geno=reduce(hcat, data.geno.val);\n",
    "geno_processed=convert(Array{Float64}, geno);"
   ]
  },
  {
   "cell_type": "code",
   "execution_count": 10,
   "metadata": {},
   "outputs": [],
   "source": [
    "#################\n",
    "# Preprocessing #\n",
    "#################\n",
    "traitID = 1112;\n",
    "pheno_y = pheno[:, traitID];\n",
    "pheno_y2=ones(length(pheno_y));\n",
    "idx_nothing = findall(x->x!=nothing,pheno_y)\n",
    "pheno_y2[idx_nothing]=pheno_y[idx_nothing];"
   ]
  },
  {
   "cell_type": "code",
   "execution_count": 11,
   "metadata": {},
   "outputs": [],
   "source": [
    "###########\n",
    "# Kinship #\n",
    "###########\n",
    "kinship = kinship_gs(geno_processed,.99);"
   ]
  },
  {
   "cell_type": "code",
   "execution_count": 12,
   "metadata": {},
   "outputs": [],
   "source": [
    "########\n",
    "# Scan #\n",
    "########\n",
    "\n",
    "single_results_perms = scan(\n",
    "\tpheno_y2,\n",
    "\tgeno_processed,\n",
    "\tkinship;\n",
    "\tpermutation_test = true,\n",
    "\tnperms = 1000,\n",
    ");"
   ]
  },
  {
   "cell_type": "code",
   "execution_count": 13,
   "metadata": {},
   "outputs": [],
   "source": [
    "########\n",
    "# Data #\n",
    "########\n",
    "bulklmmdir = dirname(pathof(BulkLMM));\n",
    "\n",
    "gmap_file = joinpath(bulklmmdir, \"..\", \"data\", \"bxdData\", \"gmap.csv\");\n",
    "gInfo2 = BulkLMM.CSV.read(gmap_file, BulkLMM.DataFrames.DataFrame);\n"
   ]
  },
  {
   "cell_type": "code",
   "execution_count": 14,
   "metadata": {},
   "outputs": [
    {
     "data": {
      "text/plain": [
       "gmap2df (generic function with 1 method)"
      ]
     },
     "metadata": {},
     "output_type": "display_data"
    }
   ],
   "source": [
    "function gmap2df(gmap::Gmap)\n",
    "    # Locus = reduce(vcat,gmap.marker_name);\n",
    "    # Mb= reduce(vcat,gmap.pos);\n",
    "    start=0\n",
    "    Chr =repeat([\"0\"],sum(length.(gmap.marker_name)))\n",
    "    \n",
    "    # Pos =repeat([\"Missing\"],sum(length.(gmap.marker_name)))\n",
    "    \n",
    "    for i in eachindex(gmap.chr)\n",
    "        l_i=length(gmap.marker_name[i])\n",
    "        Chr[start+1:l_i+start] .= gmap.chr[i]\n",
    "        start=start+l_i\n",
    "    end\n",
    "    df=DataFrame(\n",
    "        Locus = reduce(vcat,gmap.marker_name),\n",
    "        Chr = Chr,\n",
    "        Pos= reduce(vcat,gmap.pos)\n",
    "    )\n",
    "        # Cm = repeat([\"Missing\"],sum(length.(gmap.marker_name)))\n",
    "    return df\n",
    "\n",
    "end"
   ]
  },
  {
   "cell_type": "code",
   "execution_count": 15,
   "metadata": {},
   "outputs": [
    {
     "data": {
      "text/html": [
       "<div><div style = \"float: left;\"><span>7320×3 DataFrame</span></div><div style = \"float: right;\"><span style = \"font-style: italic;\">7295 rows omitted</span></div><div style = \"clear: both;\"></div></div><div class = \"data-frame\" style = \"overflow-x: scroll;\"><table class = \"data-frame\" style = \"margin-bottom: 6px;\"><thead><tr class = \"header\"><th class = \"rowNumber\" style = \"font-weight: bold; text-align: right;\">Row</th><th style = \"text-align: left;\">Locus</th><th style = \"text-align: left;\">Chr</th><th style = \"text-align: left;\">Pos</th></tr><tr class = \"subheader headerLastRow\"><th class = \"rowNumber\" style = \"font-weight: bold; text-align: right;\"></th><th title = \"String\" style = \"text-align: left;\">String</th><th title = \"String\" style = \"text-align: left;\">String</th><th title = \"Float64\" style = \"text-align: left;\">Float64</th></tr></thead><tbody><tr><td class = \"rowNumber\" style = \"font-weight: bold; text-align: right;\">1</td><td style = \"text-align: left;\">rs31443144</td><td style = \"text-align: left;\">1</td><td style = \"text-align: right;\">1.499</td></tr><tr><td class = \"rowNumber\" style = \"font-weight: bold; text-align: right;\">2</td><td style = \"text-align: left;\">rs6269442</td><td style = \"text-align: left;\">1</td><td style = \"text-align: right;\">1.499</td></tr><tr><td class = \"rowNumber\" style = \"font-weight: bold; text-align: right;\">3</td><td style = \"text-align: left;\">rs32285189</td><td style = \"text-align: left;\">1</td><td style = \"text-align: right;\">1.62623</td></tr><tr><td class = \"rowNumber\" style = \"font-weight: bold; text-align: right;\">4</td><td style = \"text-align: left;\">rs258367496</td><td style = \"text-align: left;\">1</td><td style = \"text-align: right;\">1.62623</td></tr><tr><td class = \"rowNumber\" style = \"font-weight: bold; text-align: right;\">5</td><td style = \"text-align: left;\">rs32430919</td><td style = \"text-align: left;\">1</td><td style = \"text-align: right;\">1.75345</td></tr><tr><td class = \"rowNumber\" style = \"font-weight: bold; text-align: right;\">6</td><td style = \"text-align: left;\">rs36251697</td><td style = \"text-align: left;\">1</td><td style = \"text-align: right;\">1.88068</td></tr><tr><td class = \"rowNumber\" style = \"font-weight: bold; text-align: right;\">7</td><td style = \"text-align: left;\">rs30658298</td><td style = \"text-align: left;\">1</td><td style = \"text-align: right;\">2.00791</td></tr><tr><td class = \"rowNumber\" style = \"font-weight: bold; text-align: right;\">8</td><td style = \"text-align: left;\">rs51852623</td><td style = \"text-align: left;\">1</td><td style = \"text-align: right;\">2.00791</td></tr><tr><td class = \"rowNumber\" style = \"font-weight: bold; text-align: right;\">9</td><td style = \"text-align: left;\">rs31879829</td><td style = \"text-align: left;\">1</td><td style = \"text-align: right;\">2.13513</td></tr><tr><td class = \"rowNumber\" style = \"font-weight: bold; text-align: right;\">10</td><td style = \"text-align: left;\">rs36742481</td><td style = \"text-align: left;\">1</td><td style = \"text-align: right;\">2.13513</td></tr><tr><td class = \"rowNumber\" style = \"font-weight: bold; text-align: right;\">11</td><td style = \"text-align: left;\">rs6365999</td><td style = \"text-align: left;\">1</td><td style = \"text-align: right;\">2.26236</td></tr><tr><td class = \"rowNumber\" style = \"font-weight: bold; text-align: right;\">12</td><td style = \"text-align: left;\">rs13470446</td><td style = \"text-align: left;\">1</td><td style = \"text-align: right;\">2.38959</td></tr><tr><td class = \"rowNumber\" style = \"font-weight: bold; text-align: right;\">13</td><td style = \"text-align: left;\">Affy_10344635</td><td style = \"text-align: left;\">1</td><td style = \"text-align: right;\">2.77718</td></tr><tr><td style = \"text-align: right;\">&vellip;</td><td style = \"text-align: right;\">&vellip;</td><td style = \"text-align: right;\">&vellip;</td><td style = \"text-align: right;\">&vellip;</td></tr><tr><td class = \"rowNumber\" style = \"font-weight: bold; text-align: right;\">7309</td><td style = \"text-align: left;\">rs31466210</td><td style = \"text-align: left;\">X</td><td style = \"text-align: right;\">50.0875</td></tr><tr><td class = \"rowNumber\" style = \"font-weight: bold; text-align: right;\">7310</td><td style = \"text-align: left;\">rs212815990</td><td style = \"text-align: left;\">X</td><td style = \"text-align: right;\">50.2147</td></tr><tr><td class = \"rowNumber\" style = \"font-weight: bold; text-align: right;\">7311</td><td style = \"text-align: left;\">rs227685113</td><td style = \"text-align: left;\">X</td><td style = \"text-align: right;\">50.2147</td></tr><tr><td class = \"rowNumber\" style = \"font-weight: bold; text-align: right;\">7312</td><td style = \"text-align: left;\">rs31551153</td><td style = \"text-align: left;\">X</td><td style = \"text-align: right;\">50.6023</td></tr><tr><td class = \"rowNumber\" style = \"font-weight: bold; text-align: right;\">7313</td><td style = \"text-align: left;\">rs31556818</td><td style = \"text-align: left;\">X</td><td style = \"text-align: right;\">50.7295</td></tr><tr><td class = \"rowNumber\" style = \"font-weight: bold; text-align: right;\">7314</td><td style = \"text-align: left;\">rs31275062</td><td style = \"text-align: left;\">X</td><td style = \"text-align: right;\">50.7295</td></tr><tr><td class = \"rowNumber\" style = \"font-weight: bold; text-align: right;\">7315</td><td style = \"text-align: left;\">rs47382998</td><td style = \"text-align: left;\">X</td><td style = \"text-align: right;\">51.1171</td></tr><tr><td class = \"rowNumber\" style = \"font-weight: bold; text-align: right;\">7316</td><td style = \"text-align: left;\">rs13484107</td><td style = \"text-align: left;\">X</td><td style = \"text-align: right;\">51.2443</td></tr><tr><td class = \"rowNumber\" style = \"font-weight: bold; text-align: right;\">7317</td><td style = \"text-align: left;\">rs3693969</td><td style = \"text-align: left;\">X</td><td style = \"text-align: right;\">51.3716</td></tr><tr><td class = \"rowNumber\" style = \"font-weight: bold; text-align: right;\">7318</td><td style = \"text-align: left;\">DXMit223</td><td style = \"text-align: left;\">X</td><td style = \"text-align: right;\">51.4988</td></tr><tr><td class = \"rowNumber\" style = \"font-weight: bold; text-align: right;\">7319</td><td style = \"text-align: left;\">rs31638776</td><td style = \"text-align: left;\">X</td><td style = \"text-align: right;\">51.7552</td></tr><tr><td class = \"rowNumber\" style = \"font-weight: bold; text-align: right;\">7320</td><td style = \"text-align: left;\">rs31639754</td><td style = \"text-align: left;\">X</td><td style = \"text-align: right;\">51.7552</td></tr></tbody></table></div>"
      ],
      "text/latex": [
       "\\begin{tabular}{r|ccc}\n",
       "\t& Locus & Chr & Pos\\\\\n",
       "\t\\hline\n",
       "\t& String & String & Float64\\\\\n",
       "\t\\hline\n",
       "\t1 & rs31443144 & 1 & 1.499 \\\\\n",
       "\t2 & rs6269442 & 1 & 1.499 \\\\\n",
       "\t3 & rs32285189 & 1 & 1.62623 \\\\\n",
       "\t4 & rs258367496 & 1 & 1.62623 \\\\\n",
       "\t5 & rs32430919 & 1 & 1.75345 \\\\\n",
       "\t6 & rs36251697 & 1 & 1.88068 \\\\\n",
       "\t7 & rs30658298 & 1 & 2.00791 \\\\\n",
       "\t8 & rs51852623 & 1 & 2.00791 \\\\\n",
       "\t9 & rs31879829 & 1 & 2.13513 \\\\\n",
       "\t10 & rs36742481 & 1 & 2.13513 \\\\\n",
       "\t11 & rs6365999 & 1 & 2.26236 \\\\\n",
       "\t12 & rs13470446 & 1 & 2.38959 \\\\\n",
       "\t13 & Affy\\_10344635 & 1 & 2.77718 \\\\\n",
       "\t14 & rs6376963 & 1 & 2.90441 \\\\\n",
       "\t15 & rs30847416 & 1 & 3.16082 \\\\\n",
       "\t16 & rs32759286 & 1 & 3.16082 \\\\\n",
       "\t17 & rs31625087 & 1 & 3.28805 \\\\\n",
       "\t18 & rs31716357 & 1 & 3.28805 \\\\\n",
       "\t19 & rs3677817 & 1 & 3.41527 \\\\\n",
       "\t20 & rs47937185 & 1 & 3.41527 \\\\\n",
       "\t21 & rs32140280 & 1 & 3.67168 \\\\\n",
       "\t22 & rs32096391 & 1 & 3.67168 \\\\\n",
       "\t23 & rs47493511 & 1 & 3.79891 \\\\\n",
       "\t24 & rs31190522 & 1 & 3.92613 \\\\\n",
       "\t$\\dots$ & $\\dots$ & $\\dots$ & $\\dots$ \\\\\n",
       "\\end{tabular}\n"
      ],
      "text/plain": [
       "\u001b[1m7320×3 DataFrame\u001b[0m\n",
       "\u001b[1m  Row \u001b[0m│\u001b[1m Locus       \u001b[0m\u001b[1m Chr    \u001b[0m\u001b[1m Pos      \u001b[0m\n",
       "      │\u001b[90m String      \u001b[0m\u001b[90m String \u001b[0m\u001b[90m Float64  \u001b[0m\n",
       "──────┼───────────────────────────────\n",
       "    1 │ rs31443144   1        1.499\n",
       "    2 │ rs6269442    1        1.499\n",
       "    3 │ rs32285189   1        1.62623\n",
       "    4 │ rs258367496  1        1.62623\n",
       "    5 │ rs32430919   1        1.75345\n",
       "    6 │ rs36251697   1        1.88068\n",
       "    7 │ rs30658298   1        2.00791\n",
       "    8 │ rs51852623   1        2.00791\n",
       "  ⋮   │      ⋮         ⋮        ⋮\n",
       " 7314 │ rs31275062   X       50.7295\n",
       " 7315 │ rs47382998   X       51.1171\n",
       " 7316 │ rs13484107   X       51.2443\n",
       " 7317 │ rs3693969    X       51.3716\n",
       " 7318 │ DXMit223     X       51.4988\n",
       " 7319 │ rs31638776   X       51.7552\n",
       " 7320 │ rs31639754   X       51.7552\n",
       "\u001b[36m                     7305 rows omitted\u001b[0m"
      ]
     },
     "metadata": {},
     "output_type": "display_data"
    }
   ],
   "source": [
    "gInfo3=gmap2df(gInfo)"
   ]
  },
  {
   "cell_type": "code",
   "execution_count": 16,
   "metadata": {},
   "outputs": [
    {
     "name": "stderr",
     "output_type": "stream",
     "text": [
      "WARNING: both BigRiverQTL and BigRiverQTLPlots export \"plot_QTL\"; uses of it in module Main must be qualified\n"
     ]
    },
    {
     "ename": "UndefVarError",
     "evalue": "UndefVarError: `plot_QTL` not defined",
     "output_type": "error",
     "traceback": [
      "UndefVarError: `plot_QTL` not defined\n",
      "\n",
      "Stacktrace:\n",
      " [1] top-level scope\n",
      "   @ ~/git/BigRiverQTL.jl/example/jl_notebook_cell_df34fa98e69747e1a8f8a730347b8e2f_X26sZmlsZQ==.jl:5"
     ]
    }
   ],
   "source": [
    "########\n",
    "# Plot #\n",
    "########\n",
    "\n",
    "plot_QTL(single_results_perms, gInfo3, mbColname = \"Pos\")\n",
    "\n"
   ]
  },
  {
   "cell_type": "code",
   "execution_count": 23,
   "metadata": {},
   "outputs": [
    {
     "data": {
      "text/plain": [
       "Gmap([\"1\", \"2\", \"3\", \"4\", \"5\", \"6\", \"7\", \"8\", \"9\", \"10\", \"11\", \"12\", \"13\", \"14\", \"15\", \"16\", \"17\", \"18\", \"19\", \"X\"], [[\"rs31443144\", \"rs6269442\", \"rs32285189\", \"rs258367496\", \"rs32430919\", \"rs36251697\", \"rs30658298\", \"rs51852623\", \"rs31879829\", \"rs36742481\"  …  \"rs13476310\", \"rs31478915\", \"rs33174703\", \"rs30453157\", \"rs32271175\", \"rs13476313\", \"rs45997766\", \"rs32662997\", \"rs29611294\", \"rs29609526\"], [\"rs33299937\", \"rs13476332\", \"rs13476335\", \"Affy_4430433etal\", \"rs33562363\", \"rs13476350\", \"rs13476352\", \"rs29825025\", \"rs13476355\", \"Affy_PC2_15\"  …  \"rs27683255\", \"rs27683096\", \"rs27680502\", \"rs27680457\", \"rs27680311\", \"rs6305540\", \"rs33599721\", \"rs27654345\", \"rs27652608\", \"rs6317711\"], [\"rs29619692\", \"rs13476950\", \"rs30702264\", \"rs13476958\", \"rs29623223\", \"rs13476961\", \"rs30460351\", \"rs29659075\", \"rs29660738\", \"rs29655312\"  …  \"rs30703217\", \"rs30801216\", \"rs13477514\", \"rs13477515\", \"rs30916671\", \"rs31290414\", \"rs30892471\", \"rs30353501\", \"rs13477528\", \"rs36403089\"], [\"rs27666058\", \"rs27697666\", \"rs32600963\", \"rs13477538\", \"rs32074103\", \"rs27662557\", \"rs32414082\", \"rs32143059\", \"rs27674739\", \"rs3674982\"  …  \"rs31877045\", \"rs13478069\", \"rs32709617\", \"rs32275108\", \"rs6316711\", \"rs33205750\", \"rs32830116\", \"rs32035551\", \"rs3693087\", \"rs6279100\"], [\"rs31232890\", \"rs29503906\", \"rs31184306\", \"rs29628794\", \"rs3664617\", \"rs30663086\", \"rs31019259\", \"rs33685759\", \"rs50122585\", \"rs29678115\"  …  \"rs33098228\", \"rs50373720\", \"rs49528261\", \"rs51417856\", \"rs32360916\", \"rs33285057\", \"rs32381987\", \"rs49106962\", \"rs29561707\", \"UT_PChr5_distal\"], [\"rs32426984\", \"rs30759941\", \"rs13478602\", \"rs30654669\", \"rs6180149\", \"rs32448234\", \"rs29924446\", \"rs30754715\", \"rs30860624\", \"rs30715633\"  …  \"UNCHS019380\", \"rs30705815\", \"UNCHS019382\", \"rs3659280\", \"UNCHS019385\", \"UNCHS019387\", \"rs52218228\", \"UNCHS019397\", \"rs30113154\", \"rs30950360\"], [\"rs47865777\", \"rs33894188\", \"rs50429611\", \"Affy_10549655_Esp8l1\", \"Affy_10549582_Tsen34\", \"rs32523680\", \"rs37227876\", \"rs31568496\", \"rs31427805\", \"rs32197605\"  …  \"rs50538240\", \"rs13479566\", \"rs51334413\", \"rs13459436\", \"rs49639182\", \"rs32086595\", \"rs3686436\", \"rs36619627\", \"rs48865460\", \"rs31524937\"], [\"Affy_PC8_3\", \"rs33166255\", \"rs13479603\", \"rs13479605\", \"rs33492257\", \"rs6343961\", \"rs3669185\", \"rs30106314\", \"rs30110612\", \"rs33547044\"  …  \"rs32862148\", \"rs13480026\", \"rs6400423\", \"gnf08.128.727\", \"rs3697596\", \"rs3699035\", \"rs13480045\", \"rs3716715\", \"rs3695597\", \"rs47916452\"], [\"9p_no_data\", \"rs30062839\", \"rs33672596\", \"rs30410408\", \"rs13480068\", \"rs29840614\", \"rs13480073\", \"rs29645163\", \"rs29976601\", \"rs48489234\"  …  \"rs13459114\", \"rs29688168\", \"rs29590687\", \"rs33627861\", \"rs244262344\", \"rs33529922\", \"rs46806543\", \"rs33728593\", \"rs49693645\", \"rs8254378\"], [\"rs29340013\", \"rs48506138\", \"rs50943600\", \"rs50477269\", \"rs51815932\", \"rs4228079\", \"rs29351111\", \"rs29323465\", \"rs29357304\", \"rs29331870\"  …  \"rs236754101\", \"rs4228523\", \"rs49753574\", \"rs29349118\", \"rs263217390\", \"rs29358519\", \"rs29383570\", \"rs29317988\", \"rs13480822\", \"rs29324660\"], [\"rs3659787\", \"rs29393599\", \"rs3668599\", \"rs3659787_asmbl_err\", \"rs48112727\", \"rs26910437\", \"rs47711056\", \"rs26881758\", \"rs3714397\", \"rs26894635\"  …  \"rs45879589\", \"rs27045781\", \"rs6211180\", \"rs108887146\", \"rs27030198\", \"rs13466219\", \"rs26966802\", \"rs29388476\", \"rs29437770\", \"rs26984211\"], [\"12p_no_data\", \"rs49275488\", \"rs29158719\", \"rs13481285\", \"rs51514130\", \"rs29157735\", \"rs29178345\", \"rs31594883\", \"rs29130001\", \"rs29197328\"  …  \"rs30764581\", \"rs3694890\", \"rs52428434\", \"rs30964684\", \"rs3657665\", \"rs48941180\", \"rs4135448\", \"rs30974581\", \"rs30531472\", \"rs46749284\"], [\"13p1_no_data\", \"rs46025818\", \"rs13481676\", \"Affy_PC13_7\", \"Affy_4995717etal\", \"rs13459139\", \"rs29224209\", \"UNC130018533\", \"rs3701757\", \"rs49627996\"  …  \"rs30555132\", \"rs29241776\", \"rs46587884\", \"rs13482033\", \"rs37957999\", \"rs13482038\", \"rs242691943\", \"rs6397687\", \"rs3675054\", \"rs47117760\"], [\"14P_no_data\", \"rs4230140\", \"rs48403312\", \"rs30643712\", \"rs30642877\", \"rs31187642\", \"rs31042846\", \"rs107630194\", \"rs30677101\", \"rs13482084\"  …  \"rs30801242\", \"rs30852708\", \"rs30792453\", \"rs47251162\", \"rs3691815\", \"rs49957564\", \"rs51911760\", \"rs6384035\", \"rs46397554\", \"rs31233932\"], [\"rs50363876\", \"rs32510776\", \"rs13459177\", \"rs32254950\", \"rs31600970\", \"rs32165107\", \"rs13459145_bad\", \"rs13482420\", \"rs31671106\", \"Affy_PC15_10\"  …  \"rs3686133\", \"rs32358174\", \"rs32481346\", \"rs32150119\", \"rs236827534\", \"rs31727228\", \"rs13482752\", \"rs31914636\", \"rs49636068\", \"rs51776716\"], [\"16p_no_data\", \"rs4152511\", \"rs4153115\", \"rs4153128\", \"rs52691579\", \"rs4153643\", \"rs32272203\", \"rs4153739\", \"rs4153776\", \"rs30962333\"  …  \"rs4221305\", \"rs50983737\", \"rs4221572\", \"rs3696981\", \"rs48138307\", \"rs4221651\", \"rs8274734\", \"rs4221741\", \"rs51882638\", \"rs4221911\"], [\"rs33085767\", \"rs6310831\", \"rs33637510\", \"rs33246290\", \"rs3716567\", \"rs47357828\", \"rs33373629\", \"rs29533489\", \"rs33127430\", \"rs30715327\"  …  \"rs33266347\", \"rs50707939\", \"rs48280013\", \"rs3662979\", \"rs6288047\", \"rs33886537\", \"rs33370949\", \"rs3711932\", \"rs33065068\", \"rs33101718\"], [\"rs29800434\", \"rs30254612\", \"rs29843141\", \"rs29721302\", \"rs29868304\", \"rs29813018\", \"rs30275959\", \"rs13483198\", \"rs13483200\", \"rs4231742\"  …  \"rs30129861\", \"rs3671719\", \"rs52291314\", \"rs29724441\", \"rs13483484\", \"rs29932748\", \"rs29929154\", \"rs48107432\", \"rs50036435\", \"rs37900754\"], [\"rs30887186\", \"UNCHS047057\", \"rs47010034\", \"rs39045033\", \"rs31157180\", \"rs13483502\", \"rs31081691\", \"rs13483503\", \"rs50395346\", \"rs6350768\"  …  \"rs30352862\", \"rs30664274\", \"rs30699409\", \"rs30456155\", \"rs31110714\", \"rs243906130\", \"rs52159860\", \"rs45799102\", \"rs6193060\", \"rs30353293\"], [\"ChrXp_no_data\", \"Affy_17539964\", \"rs33445744\", \"rs13483712\", \"rs33467391\", \"rs259091772\", \"rs33515262\", \"rs49731748\", \"rs31242252\", \"rs262034202\"  …  \"rs227685113\", \"rs31551153\", \"rs31556818\", \"rs31275062\", \"rs47382998\", \"rs13484107\", \"rs3693969\", \"DXMit223\", \"rs31638776\", \"rs31639754\"]], [[1.499, 1.499, 1.6262264631053922, 1.6262264631053922, 1.7534529262107843, 1.8806793893161764, 2.0079058524215685, 2.0079058524215685, 2.1351323155269606, 2.1351323155269606  …  95.2959352416493, 95.42316170475469, 95.42316170475469, 95.81075860425943, 95.81075860425943, 95.93798506736482, 95.93798506736482, 96.19439532381054, 96.19439532381054, 96.19439532381054], [3.546, 3.546, 4.202167982895093, 4.202167982895093, 6.665939003866672, 7.322106986761765, 7.5785172432074885, 8.653786106409399, 8.781012569514791, 9.437180552409885  …  103.59511984795546, 103.59511984795546, 103.85153010440118, 103.97875656750657, 103.97875656750657, 104.10598303061195, 104.10598303061195, 104.23320949371734, 104.23320949371734, 104.23320949371734], [0.647, 0.903410256445723, 1.159820512891446, 1.159820512891446, 1.159820512891446, 1.2870469759968381, 1.2870469759968381, 1.4142734391022302, 1.5414999022076223, 1.5414999022076223  …  74.47044434756684, 74.85804124707158, 75.1144515035173, 75.37086175996302, 76.59037404139887, 76.59037404139887, 76.71760050450426, 76.71760050450426, 76.71760050450426, 76.71760050450426], [1.808, 1.9352264631053921, 2.191636719551115, 2.191636719551115, 2.448046975996838, 2.448046975996838, 2.5752734391022303, 2.5752734391022303, 2.9628703386069684, 3.2192805950526915  …  72.44448944503303, 72.83208634453777, 73.21968324404251, 73.74051657860228, 73.86774304170767, 73.86774304170767, 74.66139384543467, 74.91780410188039, 75.43863743644016, 75.43863743644016], [1.859, 1.859, 1.986226463105392, 1.986226463105392, 2.113452926210784, 2.113452926210784, 2.2406793893161763, 2.2406793893161763, 2.3679058524215684, 2.7555027519263064  …  86.35656696367512, 86.48379342678051, 86.48379342678051, 86.6110198898859, 86.99861678939064, 87.25502704583636, 87.25502704583636, 87.38225350894174, 87.38225350894174, 87.76985040844649], [1.342, 1.342, 1.4692264631053922, 1.4692264631053922, 1.5964529262107843, 1.7236793893161764, 1.7236793893161764, 1.8509058524215685, 1.8509058524215685, 2.2385027519263065  …  78.26903492510122, 78.78986825966099, 78.78986825966099, 78.91709472276638, 78.91709472276638, 79.04432118587177, 79.17154764897715, 79.17154764897715, 79.29877411208254, 79.42600057518793], [1.826, 1.826, 1.9532264631053922, 2.0804529262107843, 2.3368631826565074, 2.3368631826565074, 2.4640896457618995, 3.2577404494889035, 3.6453373489936416, 3.9017476054393647  …  78.51563760986396, 78.77204786630968, 79.42821584920478, 79.55544231231016, 80.77495459374602, 80.77495459374602, 81.03136485019174, 81.03136485019174, 81.15859131329712, 81.15859131329712], [1.795, 2.87026886320191, 3.1266791196476333, 3.9203299233746374, 4.0475563864800295, 4.841207190207033, 4.968433653312425, 4.968433653312425, 5.095660116417816, 5.3520703728635395  …  55.19644848705581, 55.19644848705581, 55.990099290782815, 55.990099290782815, 56.24650954722854, 56.24650954722854, 56.50291980367427, 56.63014626677966, 56.63014626677966, 56.63014626677966], [0.0, 0.0, 0.127226463105392, 0.920877266832396, 1.577045249727489, 2.2332132326225818, 2.360439695727974, 3.5799519771638337, 3.5799519771638337, 3.707178440269226  …  69.36773069551818, 69.75532759502292, 69.75532759502292, 70.27616092958269, 70.27616092958269, 70.40338739268807, 71.19703819641508, 71.85320617931018, 71.85320617931018, 72.1096164357559], [0.0, 0.0, 0.127226463105392, 0.127226463105392, 0.254452926210784, 0.254452926210784, 0.254452926210784, 0.38167938931617607, 0.38167938931617607, 0.508905852421568  …  65.25605189714743, 65.38327836025282, 65.38327836025282, 65.63968861669854, 65.76691507980392, 65.76691507980392, 65.89414154290931, 65.89414154290931, 66.8274748989065, 66.8274748989065], [2.966, 3.0932264631053923, 3.4808233626101304, 4.556092225812041, 4.683318688917432, 4.683318688917432, 4.939728945363155, 4.939728945363155, 5.4605622799229225, 5.4605622799229225  …  73.55144896254694, 73.55144896254694, 74.34509976627395, 74.34509976627395, 74.47232622937933, 74.47232622937933, 74.47232622937933, 74.72873648582505, 76.39540356401463, 76.78300046351937], [1.585, 1.585, 1.585, 1.585, 1.585, 2.378650803727004, 2.635061060172727, 2.635061060172727, 2.762287523278119, 3.2831208578378863  …  60.890733911418444, 61.27833081092318, 61.534741067368905, 61.6619675304743, 61.6619675304743, 61.918377786920026, 62.17478804336575, 62.17478804336575, 62.17478804336575, 62.17478804336575], [1.742, 1.742, 1.742, 1.869226463105392, 2.390059797665159, 2.6464700541108823, 2.9028803105566054, 4.269000681398955, 4.269000681398955, 4.396227144504347  …  59.008897451268865, 59.008897451268865, 59.008897451268865, 59.13612391437426, 59.263350377479654, 59.263350377479654, 59.263350377479654, 60.196683733476846, 61.41619601491271, 61.67260627135843], [2.024, 2.024, 2.280410256445723, 2.280410256445723, 2.5368205128914463, 2.5368205128914463, 2.6640469759968384, 2.6640469759968384, 2.6640469759968384, 2.7912734391022305  …  51.550462288411076, 51.550462288411076, 52.34411309213808, 52.34411309213808, 52.471339555243475, 52.471339555243475, 52.471339555243475, 52.471339555243475, 52.59856601834887, 52.854976274794595], [1.619, 1.619, 1.875410256445723, 1.875410256445723, 2.002636719551115, 2.002636719551115, 4.301489348757255, 5.5210016301931155, 6.740513911628976, 7.534164715355979  …  59.8822293814857, 59.8822293814857, 60.009455844591095, 60.009455844591095, 60.13668230769649, 60.13668230769649, 60.26390877080188, 60.39113523390728, 60.39113523390728, 60.39113523390728], [2.058, 2.058, 2.058, 2.185226463105392, 2.185226463105392, 2.441636719551115, 2.568863182656507, 2.6960896457618992, 2.6960896457618992, 2.9524999022076224  …  56.77808887965449, 56.77808887965449, 57.43425686254958, 57.43425686254958, 57.561483325654976, 57.561483325654976, 57.68870978876037, 57.815936251865764, 58.07234650831149, 58.07234650831149], [1.97, 1.97, 2.097226463105392, 2.224452926210784, 2.745286260770551, 2.745286260770551, 4.4119533389601315, 4.4119533389601315, 5.068121321855225, 5.068121321855225  …  57.3908994594599, 57.3908994594599, 57.5181259225653, 58.3117767262923, 58.3117767262923, 58.56818698273803, 58.56818698273803, 58.82459723918375, 58.82459723918375, 58.82459723918375], [2.149, 2.149, 2.276226463105392, 2.276226463105392, 2.403452926210784, 2.403452926210784, 2.9242862607705513, 3.0515127238759434, 3.1787391869813355, 4.693890957656146  …  60.71571680047629, 61.236550135036055, 61.236550135036055, 61.36377659814145, 61.49100306124684, 61.74741331769257, 61.74741331769257, 61.74741331769257, 61.87463978079796, 62.00186624390336], [3.096, 3.096, 3.352410256445723, 3.4796367195511153, 3.4796367195511153, 3.7360469759968384, 3.7360469759968384, 3.8632734391022305, 3.9904999022076226, 3.9904999022076226  …  55.228590122422666, 55.35581658552806, 55.483043048633455, 55.483043048633455, 55.61026951173885, 55.61026951173885, 56.13110284629862, 56.13110284629862, 56.51869974580335, 56.51869974580335], [1.398, 1.398, 4.5511631273772695, 4.5511631273772695, 4.678389590482661, 4.678389590482661, 4.805616053588053, 4.932842516693444, 5.1892527731391676, 5.1892527731391676  …  50.21469684025399, 50.60229373975873, 50.72952020286412, 50.72952020286412, 51.11711710236886, 51.24434356547425, 51.37157002857965, 51.49879649168504, 51.75520674813077, 51.75520674813077]])"
      ]
     },
     "metadata": {},
     "output_type": "display_data"
    }
   ],
   "source": [
    "gInfo"
   ]
  },
  {
   "cell_type": "code",
   "execution_count": 31,
   "metadata": {},
   "outputs": [
    {
     "ename": "MethodError",
     "evalue": "MethodError: no method matching plot_QTL(::@NamedTuple{sigma2_e::Float64, h2_null::Float64, lod::Vector{Float64}, L_perms::Matrix{Float64}}, ::Gmap; mbColname::String)\n\nClosest candidates are:\n  plot_QTL(::NamedTuple, !Matched::DataFrame; chrColname, mbColname, significance, kwargs...)\n   @ BigRiverQTLPlots ~/.julia/packages/BigRiverQTLPlots/3RIW6/src/qtl/plot_QTL.jl:49\n",
     "output_type": "error",
     "traceback": [
      "MethodError: no method matching plot_QTL(::@NamedTuple{sigma2_e::Float64, h2_null::Float64, lod::Vector{Float64}, L_perms::Matrix{Float64}}, ::Gmap; mbColname::String)\n",
      "\n",
      "Closest candidates are:\n",
      "  plot_QTL(::NamedTuple, !Matched::DataFrame; chrColname, mbColname, significance, kwargs...)\n",
      "   @ BigRiverQTLPlots ~/.julia/packages/BigRiverQTLPlots/3RIW6/src/qtl/plot_QTL.jl:49\n",
      "\n",
      "\n",
      "Stacktrace:\n",
      " [1] top-level scope\n",
      "   @ ~/git/BigRiverQTL.jl/example/jl_notebook_cell_df34fa98e69747e1a8f8a730347b8e2f_X31sZmlsZQ==.jl:1"
     ]
    }
   ],
   "source": [
    "plot_QTL(single_results_perms, gInfo, mbColname = \"Pos\")"
   ]
  }
 ],
 "metadata": {
  "jupytext": {
   "formats": "ipynb,auto:light"
  },
  "kernelspec": {
   "display_name": "Julia 1.10.3",
   "language": "julia",
   "name": "julia-1.10"
  },
  "language_info": {
   "file_extension": ".jl",
   "mimetype": "application/julia",
   "name": "julia",
   "version": "1.10.3"
  }
 },
 "nbformat": 4,
 "nbformat_minor": 4
}
