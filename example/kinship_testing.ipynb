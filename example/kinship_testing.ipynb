{
 "cells": [
  {
   "cell_type": "markdown",
   "id": "58b449c1-c84d-43e7-9440-2e4c518b9fb4",
   "metadata": {},
   "source": [
    "# Testing Kinship functions"
   ]
  },
  {
   "cell_type": "code",
   "execution_count": 1,
   "id": "cb278171-c79d-4e34-ad31-6ae846b33cd7",
   "metadata": {},
   "outputs": [],
   "source": [
    "using Pkg, Revise"
   ]
  },
  {
   "cell_type": "code",
   "execution_count": 2,
   "id": "16b122cb-2db4-4ea0-a54d-7bfd19a21043",
   "metadata": {},
   "outputs": [
    {
     "data": {
      "text/plain": [
       "\"/Users/durbadalghosh/git/BigRiverQTL.jl/example\""
      ]
     },
     "execution_count": 2,
     "metadata": {},
     "output_type": "execute_result"
    }
   ],
   "source": [
    "pwd()"
   ]
  },
  {
   "cell_type": "code",
   "execution_count": 3,
   "id": "40af0814-688d-4c98-b3b5-c56b9ce5a42b",
   "metadata": {},
   "outputs": [
    {
     "name": "stderr",
     "output_type": "stream",
     "text": [
      "\u001b[32m\u001b[1m  Activating\u001b[22m\u001b[39m project at `~/git/BigRiverQTL.jl`\n"
     ]
    }
   ],
   "source": [
    "Pkg.activate(\"..\")"
   ]
  },
  {
   "cell_type": "code",
   "execution_count": 4,
   "id": "bc2c30bf-9475-4e86-8649-7f031d7a69eb",
   "metadata": {},
   "outputs": [],
   "source": [
    "Pkg.instantiate()"
   ]
  },
  {
   "cell_type": "markdown",
   "id": "4d0fcead-dedc-48eb-978e-44ac528efd5a",
   "metadata": {},
   "source": [
    "### Libraries"
   ]
  },
  {
   "cell_type": "code",
   "execution_count": 5,
   "id": "3d8b2fac-88a8-4724-8460-b8d56492990c",
   "metadata": {},
   "outputs": [],
   "source": [
    "using BigRiverQTL"
   ]
  },
  {
   "cell_type": "code",
   "execution_count": 6,
   "id": "006e3233-b049-4215-bff2-edba82780874",
   "metadata": {},
   "outputs": [],
   "source": [
    "using Statistics\n",
    "using Distributed\n",
    "using LinearAlgebra\n",
    "import StatsBase: sample\n",
    "# include(\"Miscellanea.jl\")"
   ]
  },
  {
   "cell_type": "markdown",
   "id": "2d4ff65b-fb1b-45c9-80e5-1e55b9858647",
   "metadata": {},
   "source": [
    "### Data"
   ]
  },
  {
   "cell_type": "code",
   "execution_count": 7,
   "id": "09590627-3522-400e-98d3-701c31509867",
   "metadata": {
    "lines_to_next_cell": 2
   },
   "outputs": [
    {
     "data": {
      "text/plain": [
       "20×12 Matrix{Float64}:\n",
       " 4.44965e-9  1.21848e-6  1.21848e-6  0.999998    …  2.25839e-12  1.0\n",
       " 1.21848e-6  4.44965e-9  0.999998    1.21848e-6     1.0          2.25839e-12\n",
       " 4.44965e-9  1.21848e-6  1.21848e-6  0.999998       2.25839e-12  1.0\n",
       " 1.21848e-6  0.999998    4.44965e-9  1.21848e-6     8.34192e-16  2.25839e-12\n",
       " 0.999998    1.21848e-6  1.21848e-6  4.44965e-9     2.25839e-12  8.34192e-16\n",
       " 0.999998    1.21848e-6  1.21848e-6  4.44965e-9  …  2.25839e-12  8.34192e-16\n",
       " 0.999998    1.21848e-6  1.21848e-6  4.44965e-9     2.25839e-12  8.34192e-16\n",
       " 2.52546e-5  0.999973    2.03526e-7  1.21937e-6     1.1656e-7    6.76649e-9\n",
       " 1.21848e-6  4.44965e-9  0.999998    1.21848e-6     1.0          2.25839e-12\n",
       " 1.21848e-6  0.999998    4.44965e-9  1.21848e-6     8.34192e-16  2.25839e-12\n",
       " 4.44965e-9  1.21848e-6  1.21848e-6  0.999998    …  2.25839e-12  1.0\n",
       " 0.999998    1.21848e-6  1.21848e-6  4.44965e-9     2.25839e-12  8.34192e-16\n",
       " 4.44965e-9  1.21848e-6  1.21848e-6  0.999998       2.25839e-12  1.0\n",
       " 1.21848e-6  4.44965e-9  0.999998    1.21848e-6     1.0          2.25839e-12\n",
       " 4.44965e-9  1.21848e-6  1.21848e-6  0.999998       2.25839e-12  1.0\n",
       " 1.21848e-6  0.999998    4.44965e-9  1.21848e-6  …  8.34192e-16  2.25839e-12\n",
       " 1.21848e-6  0.999998    4.44965e-9  1.21848e-6     8.34192e-16  2.25839e-12\n",
       " 0.999998    1.21848e-6  1.21848e-6  4.44965e-9     2.25839e-12  8.34192e-16\n",
       " 4.44965e-9  1.21848e-6  1.21848e-6  0.999998       2.25839e-12  1.0\n",
       " 4.44965e-9  1.21848e-6  1.21848e-6  0.999998       2.25839e-12  1.0"
      ]
     },
     "execution_count": 7,
     "metadata": {},
     "output_type": "execute_result"
    }
   ],
   "source": [
    "#genoprob\n",
    "gpr=[4.44965e-9  1.21848e-6  1.21848e-6  0.999998    8.34238e-16  2.23014e-12  2.23014e-12  1.0          8.34192e-16  2.25839e-12  2.25839e-12  1.0\n",
    " 1.21848e-6  4.44965e-9  0.999998    1.21848e-6  2.23014e-12  8.34238e-16  1.0          2.23014e-12  2.25839e-12  8.34192e-16  1.0          2.25839e-12\n",
    " 4.44965e-9  1.21848e-6  1.21848e-6  0.999998    8.34238e-16  2.23014e-12  2.23014e-12  1.0          8.34192e-16  2.25839e-12  2.25839e-12  1.0\n",
    " 1.21848e-6  0.999998    4.44965e-9  1.21848e-6  2.23014e-12  1.0          8.34238e-16  2.23014e-12  2.25839e-12  1.0          8.34192e-16  2.25839e-12\n",
    " 0.999998    1.21848e-6  1.21848e-6  4.44965e-9  1.0          2.23014e-12  2.23014e-12  8.34238e-16  1.0          2.25839e-12  2.25839e-12  8.34192e-16\n",
    " 0.999998    1.21848e-6  1.21848e-6  4.44965e-9  1.0          2.23014e-12  2.23014e-12  8.34238e-16  1.0          2.25839e-12  2.25839e-12  8.34192e-16\n",
    " 0.999998    1.21848e-6  1.21848e-6  4.44965e-9  1.0          2.23014e-12  2.23014e-12  8.34238e-16  1.0          2.25839e-12  2.25839e-12  8.34192e-16\n",
    " 2.52546e-5  0.999973    2.03526e-7  1.21937e-6  0.000287185  0.999713     1.16563e-7   6.15819e-9   0.000315571  0.999684     1.1656e-7    6.76649e-9\n",
    " 1.21848e-6  4.44965e-9  0.999998    1.21848e-6  2.23014e-12  8.34238e-16  1.0          2.23014e-12  2.25839e-12  8.34192e-16  1.0          2.25839e-12\n",
    " 1.21848e-6  0.999998    4.44965e-9  1.21848e-6  2.23014e-12  1.0          8.34238e-16  2.23014e-12  2.25839e-12  1.0          8.34192e-16  2.25839e-12\n",
    " 4.44965e-9  1.21848e-6  1.21848e-6  0.999998    8.34238e-16  2.23014e-12  2.23014e-12  1.0          8.34192e-16  2.25839e-12  2.25839e-12  1.0\n",
    " 0.999998    1.21848e-6  1.21848e-6  4.44965e-9  1.0          2.23014e-12  2.23014e-12  8.34238e-16  1.0          2.25839e-12  2.25839e-12  8.34192e-16\n",
    " 4.44965e-9  1.21848e-6  1.21848e-6  0.999998    8.34238e-16  2.23014e-12  2.23014e-12  1.0          8.34192e-16  2.25839e-12  2.25839e-12  1.0\n",
    " 1.21848e-6  4.44965e-9  0.999998    1.21848e-6  2.23014e-12  8.34238e-16  1.0          2.23014e-12  2.25839e-12  8.34192e-16  1.0          2.25839e-12\n",
    " 4.44965e-9  1.21848e-6  1.21848e-6  0.999998    8.34238e-16  2.23014e-12  2.23014e-12  1.0          8.34192e-16  2.25839e-12  2.25839e-12  1.0\n",
    " 1.21848e-6  0.999998    4.44965e-9  1.21848e-6  2.23014e-12  1.0          8.34238e-16  2.23014e-12  2.25839e-12  1.0          8.34192e-16  2.25839e-12\n",
    " 1.21848e-6  0.999998    4.44965e-9  1.21848e-6  2.23014e-12  1.0          8.34238e-16  2.23014e-12  2.25839e-12  1.0          8.34192e-16  2.25839e-12\n",
    " 0.999998    1.21848e-6  1.21848e-6  4.44965e-9  1.0          2.23014e-12  2.23014e-12  8.34238e-16  1.0          2.25839e-12  2.25839e-12  8.34192e-16\n",
    " 4.44965e-9  1.21848e-6  1.21848e-6  0.999998    8.34238e-16  2.23014e-12  2.23014e-12  1.0          8.34192e-16  2.25839e-12  2.25839e-12  1.0\n",
    " 4.44965e-9  1.21848e-6  1.21848e-6  0.999998    8.34238e-16  2.23014e-12  2.23014e-12  1.0          8.34192e-16  2.25839e-12  2.25839e-12  1.0\n",
    "]"
   ]
  },
  {
   "cell_type": "code",
   "execution_count": 8,
   "id": "05d69afa-df45-41d6-98cf-70cecf8ae931",
   "metadata": {
    "lines_to_next_cell": 2
   },
   "outputs": [
    {
     "data": {
      "text/plain": [
       "4×6 Matrix{Float64}:\n",
       " 0.047619   0.0952381  0.142857  0.190476  0.238095  0.285714\n",
       " 1.0        0.0        0.0       0.0       0.0       0.0\n",
       " 0.166251   0.166418   0.166584  0.16675   0.166916  0.167082\n",
       " 0.0473934  0.0947867  0.14218   0.189573  0.236967  0.2891"
      ]
     },
     "execution_count": 8,
     "metadata": {},
     "output_type": "execute_result"
    }
   ],
   "source": [
    "# Another constructed data set\n",
    "gene_mat=[[1 2 3 4 5 6]/sum([1 2 3 4 5 6]); [1 0 0 0 0 0]/sum([1 0 0 0 0 0]); [1001 1002 1003 1004 1005 1006]/sum([1001 1002 1003 1004 1005 1006]); \n",
    "    [1 2 3 4 5 6.1]/sum([1 2 3 4 5 6.1])]"
   ]
  },
  {
   "cell_type": "code",
   "execution_count": 9,
   "id": "56193082-1cc0-4886-95f1-08f7dbd58ba1",
   "metadata": {},
   "outputs": [
    {
     "data": {
      "text/plain": [
       "5×10 Matrix{Float64}:\n",
       " 1.0  2.0  0.0  2.0  0.0  2.0  1.0  1.0  2.0  0.0\n",
       " 1.0  2.0  0.0  1.0  2.0  2.0  1.0  1.0  2.0  2.0\n",
       " 2.0  0.0  2.0  2.0  2.0  2.0  0.0  0.0  0.0  1.0\n",
       " 1.0  0.0  2.0  2.0  2.0  0.0  1.0  0.0  0.0  1.0\n",
       " 2.0  2.0  1.0  0.0  1.0  0.0  1.0  2.0  2.0  0.0"
      ]
     },
     "execution_count": 9,
     "metadata": {},
     "output_type": "execute_result"
    }
   ],
   "source": [
    "# Another constructed data set for functions like \"kinship_ctr\" and \"kinship_std\".\n",
    "gene_mat2=rand([0.0, 1.0, 2.0], 5, 10)"
   ]
  },
  {
   "cell_type": "markdown",
   "id": "b0951d8d-cc1d-42c9-a351-e23b1269d921",
   "metadata": {},
   "source": [
    "## Check the data sets for different functions:"
   ]
  },
  {
   "cell_type": "markdown",
   "id": "489a1821-435d-4c0c-b526-eb92d8ade74d",
   "metadata": {},
   "source": [
    "### We will check the following properties for each kinship matrix: \n",
    "* Dimensions: $n \\times n$ where $n$ is the number of subjects.\n",
    "* All elements in the diagonals are $1$.\n",
    "* All elements in each kinship matrix lie between $-1$ and $1$.\n",
    "* Symmetric\n",
    "* Positive Definite\n",
    "\n",
    "We create a function \"kinship_test\" to test all the mentioned properties. "
   ]
  },
  {
   "cell_type": "code",
   "execution_count": 10,
   "id": "2f8542ca-7d68-4ca6-9c96-9e87bf0c490f",
   "metadata": {},
   "outputs": [
    {
     "data": {
      "text/plain": [
       "kinship_test (generic function with 1 method)"
      ]
     },
     "execution_count": 10,
     "metadata": {},
     "output_type": "execute_result"
    }
   ],
   "source": [
    "# Checks the above mentioned properties\n",
    "function kinship_test(kinmat::Matrix{Float64})\n",
    "    a=zeros(4)\n",
    "    \n",
    "    #checking dimensions\n",
    "    if(size(kinmat,1)==size(kinmat,2))\n",
    "        a[1]=1\n",
    "        else(a[1]==0)\n",
    "        println(\"The matrix is not a square matrix.\")\n",
    "    end\n",
    "    \n",
    "    # checking if all elements between -1 and 1\n",
    "    if(maximum(kinmat)<=1.0 && minimum(kinmat)>=-1.0)\n",
    "        a[2]=1\n",
    "        else(a[2]==0)\n",
    "        println(\"Not all elements of the matrix lie between -1 and 1.\")\n",
    "    end\n",
    "\n",
    "    # checking if all elements in the diagonal are 1\n",
    "    if(diag(kinmat)==ones(size(kinmat,1)))\n",
    "        a[3]=1\n",
    "        else(a[3]==0)\n",
    "        println(\"Not all elements of the diagonal  are 1.\")\n",
    "    end\n",
    "\n",
    "    # checking if 'kinmat' symmetric and positive definite\n",
    "    if(isposdef(kinmat)==1)\n",
    "        a[4]=1\n",
    "        else(a[4]==0)\n",
    "        println(\"The matrix is not positive definite.\")\n",
    "    end\n",
    "    \n",
    "    if(a==ones(4))\n",
    "        println(\"All mentioned properties of a kinship matrix are satisfied.\")\n",
    "        \n",
    "    \n",
    "    \n",
    "    \n",
    "    \n",
    "    \n",
    "    \n",
    "        \n",
    "    \n",
    "        \n",
    "\n",
    "    end\n",
    "        \n",
    "        \n",
    "end\n",
    "    "
   ]
  },
  {
   "cell_type": "markdown",
   "id": "4fecf918-a24f-4358-9efc-c7f13f8d733d",
   "metadata": {},
   "source": [
    "## Testing \"calckinship\""
   ]
  },
  {
   "cell_type": "code",
   "execution_count": 11,
   "id": "58416e0c-f08a-41a7-a6ab-849cad8a6c35",
   "metadata": {},
   "outputs": [
    {
     "data": {
      "text/plain": [
       "20×20 Matrix{Float64}:\n",
       " 1.0       0.5       0.999999  0.5       …  0.5       0.999999  0.999999\n",
       " 0.5       1.0       0.5       0.5          0.5       0.5       0.5\n",
       " 0.999999  0.5       1.0       0.5          0.5       0.999999  0.999999\n",
       " 0.5       0.5       0.5       1.0          0.5       0.5       0.5\n",
       " 0.5       0.5       0.5       0.5          0.999999  0.5       0.5\n",
       " 0.5       0.5       0.5       0.5       …  0.999999  0.5       0.5\n",
       " 0.5       0.5       0.5       0.5          0.999999  0.5       0.5\n",
       " 0.5       0.5       0.5       0.999895     0.500105  0.5       0.5\n",
       " 0.5       0.999999  0.5       0.5          0.5       0.5       0.5\n",
       " 0.5       0.5       0.5       0.999999     0.5       0.5       0.5\n",
       " 0.999999  0.5       0.999999  0.5       …  0.5       0.999999  0.999999\n",
       " 0.5       0.5       0.5       0.5          0.999999  0.5       0.5\n",
       " 0.999999  0.5       0.999999  0.5          0.5       0.999999  0.999999\n",
       " 0.5       0.999999  0.5       0.5          0.5       0.5       0.5\n",
       " 0.999999  0.5       0.999999  0.5          0.5       0.999999  0.999999\n",
       " 0.5       0.5       0.5       0.999999  …  0.5       0.5       0.5\n",
       " 0.5       0.5       0.5       0.999999     0.5       0.5       0.5\n",
       " 0.5       0.5       0.5       0.5          1.0       0.5       0.5\n",
       " 0.999999  0.5       0.999999  0.5          0.5       1.0       0.999999\n",
       " 0.999999  0.5       0.999999  0.5          0.5       0.999999  1.0"
      ]
     },
     "execution_count": 11,
     "metadata": {},
     "output_type": "execute_result"
    }
   ],
   "source": [
    "A=calckinship(gpr)"
   ]
  },
  {
   "cell_type": "code",
   "execution_count": 12,
   "id": "f430db6e-729e-402b-90ba-25450f2ec4d2",
   "metadata": {},
   "outputs": [
    {
     "name": "stdout",
     "output_type": "stream",
     "text": [
      "All mentioned properties of a kinship matrix are satisfied.\n"
     ]
    }
   ],
   "source": [
    "kinship_test(A)"
   ]
  },
  {
   "cell_type": "code",
   "execution_count": 13,
   "id": "d43a1fde-1e62-4f6a-9af6-9371e56e7103",
   "metadata": {},
   "outputs": [
    {
     "data": {
      "text/plain": [
       "4×4 Matrix{Float64}:\n",
       " 1.0       0.68254   0.722268  0.735575\n",
       " 0.68254   1.0       0.722084  0.682464\n",
       " 0.722268  0.722084  1.0       0.722269\n",
       " 0.735575  0.682464  0.722269  1.0"
      ]
     },
     "execution_count": 13,
     "metadata": {},
     "output_type": "execute_result"
    }
   ],
   "source": [
    "A=calckinship(gene_mat)"
   ]
  },
  {
   "cell_type": "code",
   "execution_count": 14,
   "id": "f5c0efb7-1ae6-4917-996a-f0473e9b6b39",
   "metadata": {},
   "outputs": [
    {
     "name": "stdout",
     "output_type": "stream",
     "text": [
      "All mentioned properties of a kinship matrix are satisfied.\n"
     ]
    }
   ],
   "source": [
    "kinship_test(A)"
   ]
  },
  {
   "cell_type": "markdown",
   "id": "570aee68-1841-4a32-a5d7-09b9d0dce583",
   "metadata": {},
   "source": [
    "***Testing \"kinship_man\"***"
   ]
  },
  {
   "cell_type": "code",
   "execution_count": 15,
   "id": "07df3669-a190-428a-9523-f79c0a71c3fd",
   "metadata": {},
   "outputs": [
    {
     "data": {
      "text/plain": [
       "12×12 Matrix{Float64}:\n",
       " 1.0       0.500003  0.599999  0.4       …  0.500018  0.599999  0.399999\n",
       " 0.500003  1.0       0.600002  0.400003     0.999984  0.600001  0.400002\n",
       " 0.599999  0.600002  1.0       0.500001     0.600015  0.999999  0.5\n",
       " 0.4       0.400003  0.500001  1.0          0.400017  0.500001  0.999999\n",
       " 0.999986  0.500016  0.599986  0.399986     0.50003   0.599986  0.399986\n",
       " 0.500016  0.999986  0.600014  0.400015  …  0.999999  0.600014  0.400014\n",
       " 0.599999  0.600001  0.999999  0.500001     0.600016  1.0       0.5\n",
       " 0.399999  0.400002  0.5       0.999999     0.400016  0.5       1.0\n",
       " 0.999985  0.500017  0.599984  0.399985     0.500032  0.599984  0.399984\n",
       " 0.500018  0.999984  0.600015  0.400017     1.0       0.600016  0.400016\n",
       " 0.599999  0.600001  0.999999  0.500001  …  0.600016  1.0       0.5\n",
       " 0.399999  0.400002  0.5       0.999999     0.400016  0.5       1.0"
      ]
     },
     "execution_count": 15,
     "metadata": {},
     "output_type": "execute_result"
    }
   ],
   "source": [
    "A=kinship_man(gpr)"
   ]
  },
  {
   "cell_type": "code",
   "execution_count": 16,
   "id": "751ee901-9356-4c08-acad-e0a7075c5774",
   "metadata": {},
   "outputs": [
    {
     "name": "stdout",
     "output_type": "stream",
     "text": [
      "All mentioned properties of a kinship matrix are satisfied.\n"
     ]
    }
   ],
   "source": [
    "kinship_test(A)"
   ]
  },
  {
   "cell_type": "code",
   "execution_count": 17,
   "id": "100f3980-1bdc-4b9e-90ea-577448d31641",
   "metadata": {},
   "outputs": [
    {
     "data": {
      "text/plain": [
       "6×6 Matrix{Float64}:\n",
       " 1.0       0.726205  0.702411  0.678616  0.654822  0.629842\n",
       " 0.726205  1.0       0.976205  0.952411  0.928616  0.903637\n",
       " 0.702411  0.976205  1.0       0.976205  0.952411  0.927431\n",
       " 0.678616  0.952411  0.976205  1.0       0.976205  0.951226\n",
       " 0.654822  0.928616  0.952411  0.976205  1.0       0.975021\n",
       " 0.629842  0.903637  0.927431  0.951226  0.975021  1.0"
      ]
     },
     "execution_count": 17,
     "metadata": {},
     "output_type": "execute_result"
    }
   ],
   "source": [
    "A=kinship_man(gene_mat)"
   ]
  },
  {
   "cell_type": "code",
   "execution_count": 18,
   "id": "2749e726-d2cf-41d5-bf79-830a66194ece",
   "metadata": {},
   "outputs": [
    {
     "name": "stdout",
     "output_type": "stream",
     "text": [
      "All mentioned properties of a kinship matrix are satisfied.\n"
     ]
    }
   ],
   "source": [
    "kinship_test(A)"
   ]
  },
  {
   "cell_type": "markdown",
   "id": "ae4400df-df08-4d92-91cd-c71c4d8c8438",
   "metadata": {
    "lines_to_next_cell": 2
   },
   "source": [
    "***Testing \"kinship_lin\"***"
   ]
  },
  {
   "cell_type": "code",
   "execution_count": 19,
   "id": "fb285b3e-8013-4ed2-acc0-7c9fddf32fc2",
   "metadata": {},
   "outputs": [
    {
     "data": {
      "text/plain": [
       "12×12 Matrix{Float64}:\n",
       " 1.0         1.81101e-6  4.87391e-7  2.67184e-9  …  1.82773e-7   1.55739e-9\n",
       " 1.81101e-6  1.0         1.17343e-8  7.3113e-7      6.49529e-9   4.26807e-7\n",
       " 4.87391e-7  1.17343e-8  1.0         6.09239e-7     0.15         4.26468e-7\n",
       " 2.67184e-9  7.3113e-7   6.09239e-7  1.0            1.82773e-7   0.349999\n",
       " 0.25        1.46635e-5  3.04623e-7  1.12992e-9     2.57283e-12  9.76623e-14\n",
       " 1.50606e-6  0.249984    1.10633e-8  3.04648e-7  …  5.82633e-9   3.3946e-10\n",
       " 1.82773e-7  6.49544e-9  0.15        1.82773e-7     0.15         1.11935e-12\n",
       " 1.55739e-9  4.26776e-7  4.26468e-7  0.349999       1.12499e-12  0.35\n",
       " 0.25        1.60827e-5  3.04624e-7  1.13165e-9     2.7425e-12   1.07266e-13\n",
       " 1.50603e-6  0.249982    1.1063e-8   3.04646e-7     5.82616e-9   3.3946e-10\n",
       " 1.82773e-7  6.49529e-9  0.15        1.82773e-7  …  1.0          1.12923e-12\n",
       " 1.55739e-9  4.26807e-7  4.26468e-7  0.349999       1.12923e-12  1.0"
      ]
     },
     "execution_count": 19,
     "metadata": {},
     "output_type": "execute_result"
    }
   ],
   "source": [
    "A=kinship_lin(gpr,1)"
   ]
  },
  {
   "cell_type": "code",
   "execution_count": 20,
   "id": "5469d32a-7080-4d6f-992b-530ee7ff34a0",
   "metadata": {},
   "outputs": [
    {
     "name": "stdout",
     "output_type": "stream",
     "text": [
      "All mentioned properties of a kinship matrix are satisfied.\n"
     ]
    }
   ],
   "source": [
    "kinship_test(A)"
   ]
  },
  {
   "cell_type": "code",
   "execution_count": 21,
   "id": "b5f0ea5a-5d95-4928-a98d-3f1d303e108c",
   "metadata": {},
   "outputs": [
    {
     "data": {
      "text/plain": [
       "6×6 Matrix{Float64}:\n",
       " 1.0         0.00917364  0.010309   0.0114443  0.0125796  0.0137711\n",
       " 0.00917364  1.0         0.0137012  0.0159649  0.0182287  0.0206048\n",
       " 0.010309    0.0137012   1.0        0.0204856  0.0238778  0.0274384\n",
       " 0.0114443   0.0159649   0.0204856  1.0        0.0295268  0.0342721\n",
       " 0.0125796   0.0182287   0.0238778  0.0295268  1.0        0.0411057\n",
       " 0.0137711   0.0206048   0.0274384  0.0342721  0.0411057  1.0"
      ]
     },
     "execution_count": 21,
     "metadata": {},
     "output_type": "execute_result"
    }
   ],
   "source": [
    "kinship_lin(gene_mat,1)"
   ]
  },
  {
   "cell_type": "code",
   "execution_count": 22,
   "id": "6e6b4194-7e9e-4192-affc-4e67c720053c",
   "metadata": {},
   "outputs": [
    {
     "name": "stdout",
     "output_type": "stream",
     "text": [
      "All mentioned properties of a kinship matrix are satisfied.\n"
     ]
    }
   ],
   "source": [
    "kinship_test(A)"
   ]
  },
  {
   "cell_type": "markdown",
   "id": "ac172d28-473b-41c8-a989-0ad6688f66aa",
   "metadata": {},
   "source": [
    "***Testing \"kinship_ctr\"***"
   ]
  },
  {
   "cell_type": "code",
   "execution_count": 38,
   "id": "0f2471ab-0bf3-4863-a23f-a5aec49f5df1",
   "metadata": {},
   "outputs": [
    {
     "data": {
      "text/plain": [
       "10×10 Matrix{Float64}:\n",
       "  0.36        -0.12          0.3   …  -0.02  -0.12         -0.24\n",
       " -0.12         0.8          -0.78      0.5    0.8          -0.32\n",
       "  0.3         -0.78          1.04     -0.28  -0.78          0.1\n",
       " -6.4837e-17  -0.48          0.34     -0.58  -0.48          1.77636e-18\n",
       "  0.14        -0.54          0.48     -0.44  -0.54          0.34\n",
       " -0.12         1.77636e-18  -0.38  …  -0.3    1.77636e-18   0.08\n",
       " -0.18         0.14         -0.04      0.24   0.14          0.02\n",
       " -0.02         0.5          -0.28      0.6    0.5          -0.22\n",
       " -0.12         0.8          -0.78      0.5    0.8          -0.32\n",
       " -0.24        -0.32          0.1      -0.22  -0.32          0.56"
      ]
     },
     "execution_count": 38,
     "metadata": {},
     "output_type": "execute_result"
    }
   ],
   "source": [
    "A=kinship_ctr(gene_mat2)"
   ]
  },
  {
   "cell_type": "code",
   "execution_count": 24,
   "id": "581b4b73-08ed-4f2b-a00a-9e04d74000b9",
   "metadata": {},
   "outputs": [
    {
     "name": "stdout",
     "output_type": "stream",
     "text": [
      "Not all elements of the matrix lie between -1 and 1.\n",
      "Not all elements of the diagonal  are 1.\n",
      "The matrix is not positive definite.\n"
     ]
    }
   ],
   "source": [
    "kinship_test(A)"
   ]
  },
  {
   "cell_type": "code",
   "execution_count": null,
   "id": "70cfffc4-69d8-4e97-a74f-f13f05e529cc",
   "metadata": {},
   "outputs": [],
   "source": []
  },
  {
   "cell_type": "code",
   "execution_count": null,
   "id": "d4e94ce4-2793-42a2-824e-f05913e779df",
   "metadata": {},
   "outputs": [],
   "source": []
  },
  {
   "cell_type": "markdown",
   "id": "c355fe7a-56b8-457f-b3e8-e41b5502ca4a",
   "metadata": {},
   "source": [
    "***Testing \"kinship_std\"***"
   ]
  },
  {
   "cell_type": "code",
   "execution_count": 25,
   "id": "04467cf3-3dad-4fad-8f09-59bfed417358",
   "metadata": {},
   "outputs": [
    {
     "data": {
      "text/plain": [
       "10×10 Matrix{Float64}:\n",
       "  0.445797   -0.134059    0.426824   …   0.0556646  -0.134059   -0.343341\n",
       " -0.134059    1.0259     -1.08386        0.545668    1.0259     -0.37048\n",
       "  0.426824   -1.08386     1.59955       -0.224177   -1.08386     0.0112049\n",
       " -0.0237687  -0.603624    0.478998      -0.67477    -0.603624   -0.0302971\n",
       "  0.0995515  -0.592952    0.454097      -0.55145    -0.592952    0.502114\n",
       " -0.239579    0.111396   -0.667642   …  -0.368841    0.111396    0.162984\n",
       " -0.153031    0.0761025   0.0888662      0.265826    0.0761025  -0.0159346\n",
       "  0.0556646   0.545668   -0.224177       0.735391    0.545668   -0.328978\n",
       " -0.134059    1.0259     -1.08386        0.545668    1.0259     -0.37048\n",
       " -0.343341   -0.37048     0.0112049     -0.328978   -0.37048     0.783208"
      ]
     },
     "execution_count": 25,
     "metadata": {},
     "output_type": "execute_result"
    }
   ],
   "source": [
    "A=kinship_std(gene_mat2)"
   ]
  },
  {
   "cell_type": "code",
   "execution_count": 26,
   "id": "37a51f53-8198-413a-a745-373757eeecf1",
   "metadata": {},
   "outputs": [
    {
     "name": "stdout",
     "output_type": "stream",
     "text": [
      "Not all elements of the matrix lie between -1 and 1.\n",
      "Not all elements of the diagonal  are 1.\n",
      "The matrix is not positive definite.\n"
     ]
    }
   ],
   "source": [
    "kinship_test(A)"
   ]
  },
  {
   "cell_type": "markdown",
   "id": "a08b51f9-e9dc-47cf-a574-f8d70014dc1f",
   "metadata": {},
   "source": [
    "***Testing \"kinship_gs\"***"
   ]
  },
  {
   "cell_type": "code",
   "execution_count": 27,
   "id": "6b19a8a9-1d18-4dd5-b9e4-291ba7af0744",
   "metadata": {},
   "outputs": [
    {
     "data": {
      "text/plain": [
       "12×12 Matrix{Float64}:\n",
       " 1.0       0.573759  0.641182  0.513418  …  0.573776  0.641181  0.513418\n",
       " 0.573759  1.0       0.641183  0.513421     1.0       0.641183  0.51342\n",
       " 0.641182  0.641183  1.0       0.573755     0.641203  1.0       0.573754\n",
       " 0.513418  0.513421  0.573755  1.0          0.513436  0.573755  1.0\n",
       " 1.0       0.573774  0.641181  0.513418     0.573792  0.64118   0.513417\n",
       " 0.573774  1.0       0.641201  0.513435  …  1.0       0.641201  0.513433\n",
       " 0.641181  0.641183  1.0       0.573755     0.641203  1.0       0.573753\n",
       " 0.513418  0.51342   0.573754  1.0          0.513435  0.573753  1.0\n",
       " 1.0       0.573776  0.641181  0.513418     0.573794  0.64118   0.513417\n",
       " 0.573776  1.0       0.641203  0.513436     1.0       0.641203  0.513435\n",
       " 0.641181  0.641183  1.0       0.573755  …  0.641203  1.0       0.573753\n",
       " 0.513418  0.51342   0.573754  1.0          0.513435  0.573753  1.0"
      ]
     },
     "execution_count": 27,
     "metadata": {},
     "output_type": "execute_result"
    }
   ],
   "source": [
    "A=kinship_gs(gpr,.9)"
   ]
  },
  {
   "cell_type": "code",
   "execution_count": 28,
   "id": "481413ac-c8c1-4bb7-be9c-48de1996f4bf",
   "metadata": {},
   "outputs": [
    {
     "name": "stdout",
     "output_type": "stream",
     "text": [
      "The matrix is not positive definite.\n"
     ]
    }
   ],
   "source": [
    "kinship_test(A)"
   ]
  },
  {
   "cell_type": "code",
   "execution_count": null,
   "id": "c8b6d528-168f-426d-9524-ff3ec1049b00",
   "metadata": {},
   "outputs": [],
   "source": []
  },
  {
   "cell_type": "code",
   "execution_count": null,
   "id": "c344a0f2-4d3c-44f9-9aa7-b982706a4aef",
   "metadata": {},
   "outputs": [],
   "source": []
  },
  {
   "cell_type": "code",
   "execution_count": 29,
   "id": "478be0e8-3295-499a-bce2-5880e783d981",
   "metadata": {},
   "outputs": [
    {
     "data": {
      "text/plain": [
       "12-element Vector{Float64}:\n",
       " -3.3890219084130043e-16\n",
       "  3.343379243579535e-18\n",
       "  2.5619639417050724e-15\n",
       "  8.707340037115258e-15\n",
       "  4.618277161739736e-13\n",
       "  1.658918297073593e-12\n",
       "  2.6019677547443854e-9\n",
       "  7.830101886748021e-9\n",
       "  0.9919112834404391\n",
       "  1.2786577053877741\n",
       "  1.5336564726604949\n",
       "  8.19577452807709"
      ]
     },
     "execution_count": 29,
     "metadata": {},
     "output_type": "execute_result"
    }
   ],
   "source": [
    "eigvals(A)"
   ]
  },
  {
   "cell_type": "code",
   "execution_count": 30,
   "id": "e281cfdd-326f-428c-9d7a-00e844c53519",
   "metadata": {},
   "outputs": [
    {
     "data": {
      "text/plain": [
       "6×6 Matrix{Float64}:\n",
       " 1.0       0.756516  0.753676  0.748966  0.742421  0.733628\n",
       " 0.756516  1.0       0.998747  0.994997  0.988779  0.979644\n",
       " 0.753676  0.998747  1.0       0.998747  0.994997  0.988403\n",
       " 0.748966  0.994997  0.998747  1.0       0.998747  0.994743\n",
       " 0.742421  0.988779  0.994997  0.998747  1.0       0.998616\n",
       " 0.733628  0.979644  0.988403  0.994743  0.998616  1.0"
      ]
     },
     "execution_count": 30,
     "metadata": {},
     "output_type": "execute_result"
    }
   ],
   "source": [
    "A=kinship_gs(gene_mat,.9)"
   ]
  },
  {
   "cell_type": "code",
   "execution_count": 31,
   "id": "99b0aa7c-7b68-4818-bf46-13289c1dd0cd",
   "metadata": {},
   "outputs": [
    {
     "name": "stdout",
     "output_type": "stream",
     "text": [
      "All mentioned properties of a kinship matrix are satisfied.\n"
     ]
    }
   ],
   "source": [
    "kinship_test(A)"
   ]
  },
  {
   "cell_type": "markdown",
   "id": "0779f5fd-a43e-4284-84fe-e03fbd6761a9",
   "metadata": {},
   "source": [
    "***Testing \"kinship_4way\"***"
   ]
  },
  {
   "cell_type": "code",
   "execution_count": 32,
   "id": "dc7e751b-a268-4938-a69a-10321e35e296",
   "metadata": {
    "scrolled": true
   },
   "outputs": [
    {
     "data": {
      "text/plain": [
       "12×12 Matrix{Float64}:\n",
       " 1.0    0.5  0.5  0.675  0.5    0.5  0.5    0.5    0.5    0.5  0.5    0.5\n",
       " 0.5    1.0  0.8  0.5    0.5    0.5  0.5    0.5    0.5    0.5  0.5    0.5\n",
       " 0.5    0.8  1.0  0.5    0.5    0.5  0.5    0.5    0.5    0.5  0.5    0.5\n",
       " 0.675  0.5  0.5  1.0    0.5    0.5  0.5    0.5    0.5    0.5  0.5    0.5\n",
       " 0.5    0.5  0.5  0.5    1.0    0.5  0.5    0.675  0.625  0.5  0.5    0.5\n",
       " 0.5    0.5  0.5  0.5    0.5    1.0  0.8    0.5    0.5    0.6  0.5    0.5\n",
       " 0.5    0.5  0.5  0.5    0.5    0.8  1.0    0.5    0.5    0.5  0.575  0.5\n",
       " 0.5    0.5  0.5  0.5    0.675  0.5  0.5    1.0    0.5    0.5  0.5    0.675\n",
       " 0.5    0.5  0.5  0.5    0.625  0.5  0.5    0.5    1.0    0.5  0.5    0.675\n",
       " 0.5    0.5  0.5  0.5    0.5    0.6  0.5    0.5    0.5    1.0  0.8    0.5\n",
       " 0.5    0.5  0.5  0.5    0.5    0.5  0.575  0.5    0.5    0.8  1.0    0.5\n",
       " 0.5    0.5  0.5  0.5    0.5    0.5  0.5    0.675  0.675  0.5  0.5    1.0"
      ]
     },
     "execution_count": 32,
     "metadata": {},
     "output_type": "execute_result"
    }
   ],
   "source": [
    "A=kinship_4way(gpr)"
   ]
  },
  {
   "cell_type": "code",
   "execution_count": 33,
   "id": "493cc00c-a65d-4bc3-99a4-496aeec67132",
   "metadata": {},
   "outputs": [
    {
     "name": "stdout",
     "output_type": "stream",
     "text": [
      "All mentioned properties of a kinship matrix are satisfied.\n"
     ]
    }
   ],
   "source": [
    "kinship_test(A)"
   ]
  },
  {
   "cell_type": "code",
   "execution_count": 34,
   "id": "a67ba6f5-c006-48a5-be7d-a214c78067e9",
   "metadata": {},
   "outputs": [
    {
     "data": {
      "text/plain": [
       "6×6 Matrix{Float64}:\n",
       " 1.0  0.5    0.5    0.5    0.5    0.5\n",
       " 0.5  1.0    0.625  0.625  0.625  0.625\n",
       " 0.5  0.625  1.0    0.625  0.625  0.625\n",
       " 0.5  0.625  0.625  1.0    0.625  0.625\n",
       " 0.5  0.625  0.625  0.625  1.0    0.625\n",
       " 0.5  0.625  0.625  0.625  0.625  1.0"
      ]
     },
     "execution_count": 34,
     "metadata": {},
     "output_type": "execute_result"
    }
   ],
   "source": [
    "A=kinship_4way(gene_mat)"
   ]
  },
  {
   "cell_type": "code",
   "execution_count": 35,
   "id": "1949b659-867d-4817-b0cd-11f5692790b1",
   "metadata": {},
   "outputs": [
    {
     "name": "stdout",
     "output_type": "stream",
     "text": [
      "All mentioned properties of a kinship matrix are satisfied.\n"
     ]
    }
   ],
   "source": [
    "kinship_test(A)"
   ]
  },
  {
   "cell_type": "code",
   "execution_count": 36,
   "id": "5efa0bea-ba77-49b4-a770-7e5a22baa81e",
   "metadata": {},
   "outputs": [
    {
     "data": {
      "text/plain": [
       "syrk (generic function with 2 methods)"
      ]
     },
     "execution_count": 36,
     "metadata": {},
     "output_type": "execute_result"
    }
   ],
   "source": [
    "BLAS.syrk"
   ]
  },
  {
   "cell_type": "code",
   "execution_count": 39,
   "id": "bfc76127-5a11-4f14-a0a5-2c972478d6a7",
   "metadata": {},
   "outputs": [
    {
     "data": {
      "text/plain": [
       "10-element Vector{Float64}:\n",
       " -1.7216490268634744e-16\n",
       " -7.826551404546656e-17\n",
       "  5.953972753597669e-17\n",
       "  2.27916078407676e-16\n",
       "  3.7174246919205995e-16\n",
       "  0.2999751999533997\n",
       "  0.5603858822989087\n",
       "  0.8548038399733343\n",
       "  1.4837582326376284\n",
       "  3.6010768451367294"
      ]
     },
     "execution_count": 39,
     "metadata": {},
     "output_type": "execute_result"
    }
   ],
   "source": [
    "eigvals(A)"
   ]
  },
  {
   "cell_type": "code",
   "execution_count": null,
   "id": "7f08fa67-3c75-46f6-bb31-69ec2dff4baf",
   "metadata": {},
   "outputs": [],
   "source": []
  }
 ],
 "metadata": {
  "jupytext": {
   "encoding": "# -*- coding: utf-8 -*-",
   "formats": "ipynb,jl:light"
  },
  "kernelspec": {
   "display_name": "Julia_6_Threads 1.10.3",
   "language": "julia",
   "name": "julia_6_threads-1.10"
  },
  "language_info": {
   "file_extension": ".jl",
   "mimetype": "application/julia",
   "name": "julia",
   "version": "1.10.3"
  }
 },
 "nbformat": 4,
 "nbformat_minor": 5
}
