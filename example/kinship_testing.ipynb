{
 "cells": [
  {
   "cell_type": "markdown",
   "id": "58b449c1-c84d-43e7-9440-2e4c518b9fb4",
   "metadata": {},
   "source": [
    "# Testing Kinship functions"
   ]
  },
  {
   "cell_type": "code",
   "execution_count": 45,
   "id": "cb278171-c79d-4e34-ad31-6ae846b33cd7",
   "metadata": {},
   "outputs": [],
   "source": [
    "using Pkg, Revise"
   ]
  },
  {
   "cell_type": "code",
   "execution_count": 46,
   "id": "16b122cb-2db4-4ea0-a54d-7bfd19a21043",
   "metadata": {},
   "outputs": [
    {
     "data": {
      "text/plain": [
       "\"/Users/durbadalghosh/git/BigRiverQTL.jl/example\""
      ]
     },
     "execution_count": 46,
     "metadata": {},
     "output_type": "execute_result"
    }
   ],
   "source": [
    "pwd()"
   ]
  },
  {
   "cell_type": "code",
   "execution_count": 47,
   "id": "40af0814-688d-4c98-b3b5-c56b9ce5a42b",
   "metadata": {},
   "outputs": [
    {
     "name": "stderr",
     "output_type": "stream",
     "text": [
      "\u001b[32m\u001b[1m  Activating\u001b[22m\u001b[39m project at `~/git/BigRiverQTL.jl`\n"
     ]
    }
   ],
   "source": [
    "Pkg.activate(\"..\")"
   ]
  },
  {
   "cell_type": "code",
   "execution_count": 48,
   "id": "bc2c30bf-9475-4e86-8649-7f031d7a69eb",
   "metadata": {},
   "outputs": [],
   "source": [
    "Pkg.instantiate()"
   ]
  },
  {
   "cell_type": "markdown",
   "id": "4d0fcead-dedc-48eb-978e-44ac528efd5a",
   "metadata": {},
   "source": [
    "### Libraries"
   ]
  },
  {
   "cell_type": "code",
   "execution_count": 49,
   "id": "3d8b2fac-88a8-4724-8460-b8d56492990c",
   "metadata": {},
   "outputs": [],
   "source": [
    "using BigRiverQTL"
   ]
  },
  {
   "cell_type": "code",
   "execution_count": 50,
   "id": "006e3233-b049-4215-bff2-edba82780874",
   "metadata": {},
   "outputs": [],
   "source": [
    "\n",
    "using Statistics\n",
    "using Distributed\n",
    "using LinearAlgebra\n",
    "import StatsBase: sample\n",
    "\n",
    "# include(\"Miscellanea.jl\")\n"
   ]
  },
  {
   "cell_type": "markdown",
   "id": "2d4ff65b-fb1b-45c9-80e5-1e55b9858647",
   "metadata": {},
   "source": [
    "### Data"
   ]
  },
  {
   "cell_type": "code",
   "execution_count": 51,
   "id": "09590627-3522-400e-98d3-701c31509867",
   "metadata": {},
   "outputs": [
    {
     "data": {
      "text/plain": [
       "20×12 Matrix{Float64}:\n",
       " 4.44965e-9  1.21848e-6  1.21848e-6  0.999998    …  2.25839e-12  1.0\n",
       " 1.21848e-6  4.44965e-9  0.999998    1.21848e-6     1.0          2.25839e-12\n",
       " 4.44965e-9  1.21848e-6  1.21848e-6  0.999998       2.25839e-12  1.0\n",
       " 1.21848e-6  0.999998    4.44965e-9  1.21848e-6     8.34192e-16  2.25839e-12\n",
       " 0.999998    1.21848e-6  1.21848e-6  4.44965e-9     2.25839e-12  8.34192e-16\n",
       " 0.999998    1.21848e-6  1.21848e-6  4.44965e-9  …  2.25839e-12  8.34192e-16\n",
       " 0.999998    1.21848e-6  1.21848e-6  4.44965e-9     2.25839e-12  8.34192e-16\n",
       " 2.52546e-5  0.999973    2.03526e-7  1.21937e-6     1.1656e-7    6.76649e-9\n",
       " 1.21848e-6  4.44965e-9  0.999998    1.21848e-6     1.0          2.25839e-12\n",
       " 1.21848e-6  0.999998    4.44965e-9  1.21848e-6     8.34192e-16  2.25839e-12\n",
       " 4.44965e-9  1.21848e-6  1.21848e-6  0.999998    …  2.25839e-12  1.0\n",
       " 0.999998    1.21848e-6  1.21848e-6  4.44965e-9     2.25839e-12  8.34192e-16\n",
       " 4.44965e-9  1.21848e-6  1.21848e-6  0.999998       2.25839e-12  1.0\n",
       " 1.21848e-6  4.44965e-9  0.999998    1.21848e-6     1.0          2.25839e-12\n",
       " 4.44965e-9  1.21848e-6  1.21848e-6  0.999998       2.25839e-12  1.0\n",
       " 1.21848e-6  0.999998    4.44965e-9  1.21848e-6  …  8.34192e-16  2.25839e-12\n",
       " 1.21848e-6  0.999998    4.44965e-9  1.21848e-6     8.34192e-16  2.25839e-12\n",
       " 0.999998    1.21848e-6  1.21848e-6  4.44965e-9     2.25839e-12  8.34192e-16\n",
       " 4.44965e-9  1.21848e-6  1.21848e-6  0.999998       2.25839e-12  1.0\n",
       " 4.44965e-9  1.21848e-6  1.21848e-6  0.999998       2.25839e-12  1.0"
      ]
     },
     "execution_count": 51,
     "metadata": {},
     "output_type": "execute_result"
    }
   ],
   "source": [
    "#genoprob\n",
    "gpr=[4.44965e-9  1.21848e-6  1.21848e-6  0.999998    8.34238e-16  2.23014e-12  2.23014e-12  1.0          8.34192e-16  2.25839e-12  2.25839e-12  1.0\n",
    " 1.21848e-6  4.44965e-9  0.999998    1.21848e-6  2.23014e-12  8.34238e-16  1.0          2.23014e-12  2.25839e-12  8.34192e-16  1.0          2.25839e-12\n",
    " 4.44965e-9  1.21848e-6  1.21848e-6  0.999998    8.34238e-16  2.23014e-12  2.23014e-12  1.0          8.34192e-16  2.25839e-12  2.25839e-12  1.0\n",
    " 1.21848e-6  0.999998    4.44965e-9  1.21848e-6  2.23014e-12  1.0          8.34238e-16  2.23014e-12  2.25839e-12  1.0          8.34192e-16  2.25839e-12\n",
    " 0.999998    1.21848e-6  1.21848e-6  4.44965e-9  1.0          2.23014e-12  2.23014e-12  8.34238e-16  1.0          2.25839e-12  2.25839e-12  8.34192e-16\n",
    " 0.999998    1.21848e-6  1.21848e-6  4.44965e-9  1.0          2.23014e-12  2.23014e-12  8.34238e-16  1.0          2.25839e-12  2.25839e-12  8.34192e-16\n",
    " 0.999998    1.21848e-6  1.21848e-6  4.44965e-9  1.0          2.23014e-12  2.23014e-12  8.34238e-16  1.0          2.25839e-12  2.25839e-12  8.34192e-16\n",
    " 2.52546e-5  0.999973    2.03526e-7  1.21937e-6  0.000287185  0.999713     1.16563e-7   6.15819e-9   0.000315571  0.999684     1.1656e-7    6.76649e-9\n",
    " 1.21848e-6  4.44965e-9  0.999998    1.21848e-6  2.23014e-12  8.34238e-16  1.0          2.23014e-12  2.25839e-12  8.34192e-16  1.0          2.25839e-12\n",
    " 1.21848e-6  0.999998    4.44965e-9  1.21848e-6  2.23014e-12  1.0          8.34238e-16  2.23014e-12  2.25839e-12  1.0          8.34192e-16  2.25839e-12\n",
    " 4.44965e-9  1.21848e-6  1.21848e-6  0.999998    8.34238e-16  2.23014e-12  2.23014e-12  1.0          8.34192e-16  2.25839e-12  2.25839e-12  1.0\n",
    " 0.999998    1.21848e-6  1.21848e-6  4.44965e-9  1.0          2.23014e-12  2.23014e-12  8.34238e-16  1.0          2.25839e-12  2.25839e-12  8.34192e-16\n",
    " 4.44965e-9  1.21848e-6  1.21848e-6  0.999998    8.34238e-16  2.23014e-12  2.23014e-12  1.0          8.34192e-16  2.25839e-12  2.25839e-12  1.0\n",
    " 1.21848e-6  4.44965e-9  0.999998    1.21848e-6  2.23014e-12  8.34238e-16  1.0          2.23014e-12  2.25839e-12  8.34192e-16  1.0          2.25839e-12\n",
    " 4.44965e-9  1.21848e-6  1.21848e-6  0.999998    8.34238e-16  2.23014e-12  2.23014e-12  1.0          8.34192e-16  2.25839e-12  2.25839e-12  1.0\n",
    " 1.21848e-6  0.999998    4.44965e-9  1.21848e-6  2.23014e-12  1.0          8.34238e-16  2.23014e-12  2.25839e-12  1.0          8.34192e-16  2.25839e-12\n",
    " 1.21848e-6  0.999998    4.44965e-9  1.21848e-6  2.23014e-12  1.0          8.34238e-16  2.23014e-12  2.25839e-12  1.0          8.34192e-16  2.25839e-12\n",
    " 0.999998    1.21848e-6  1.21848e-6  4.44965e-9  1.0          2.23014e-12  2.23014e-12  8.34238e-16  1.0          2.25839e-12  2.25839e-12  8.34192e-16\n",
    " 4.44965e-9  1.21848e-6  1.21848e-6  0.999998    8.34238e-16  2.23014e-12  2.23014e-12  1.0          8.34192e-16  2.25839e-12  2.25839e-12  1.0\n",
    " 4.44965e-9  1.21848e-6  1.21848e-6  0.999998    8.34238e-16  2.23014e-12  2.23014e-12  1.0          8.34192e-16  2.25839e-12  2.25839e-12  1.0\n",
    "]\n"
   ]
  },
  {
   "cell_type": "code",
   "execution_count": 52,
   "id": "05d69afa-df45-41d6-98cf-70cecf8ae931",
   "metadata": {},
   "outputs": [
    {
     "data": {
      "text/plain": [
       "4×6 Matrix{Float64}:\n",
       " 0.047619   0.0952381  0.142857  0.190476  0.238095  0.285714\n",
       " 1.0        0.0        0.0       0.0       0.0       0.0\n",
       " 0.166251   0.166418   0.166584  0.16675   0.166916  0.167082\n",
       " 0.0473934  0.0947867  0.14218   0.189573  0.236967  0.2891"
      ]
     },
     "execution_count": 52,
     "metadata": {},
     "output_type": "execute_result"
    }
   ],
   "source": [
    "# Another constructed data set\n",
    "gene_mat=[[1 2 3 4 5 6]/sum([1 2 3 4 5 6]); [1 0 0 0 0 0]/sum([1 0 0 0 0 0]); [1001 1002 1003 1004 1005 1006]/sum([1001 1002 1003 1004 1005 1006]); \n",
    "    [1 2 3 4 5 6.1]/sum([1 2 3 4 5 6.1])]\n"
   ]
  },
  {
   "cell_type": "markdown",
   "id": "b0951d8d-cc1d-42c9-a351-e23b1269d921",
   "metadata": {},
   "source": [
    "## Check the data sets for different functions:"
   ]
  },
  {
   "cell_type": "code",
   "execution_count": 53,
   "id": "c07827a8-ce05-4fbd-aacf-e59777cd2010",
   "metadata": {},
   "outputs": [
    {
     "data": {
      "text/plain": [
       "calckinship (generic function with 1 method)"
      ]
     },
     "execution_count": 53,
     "metadata": {},
     "output_type": "execute_result"
    }
   ],
   "source": [
    "# testing calckinship\n",
    "\n",
    "\n",
    "function calckinship(geno::Matrix{Float64})\n",
    "\n",
    "    # get dimensions\n",
    "    sz = size(geno)\n",
    "\n",
    "    # assign to variables for convenience\n",
    "    nr = sz[1]\n",
    "    nc = sz[2]\n",
    "\n",
    "    # if empty then there is nothing to do\n",
    "    if(nr==0)\n",
    "        error(\"Nothing to do here.\")\n",
    "    else\n",
    "        # make matrix to hold distances\n",
    "        d = zeros(nr,nr)\n",
    "    end\n",
    "\n",
    "    # assign diagonals to ones\n",
    "    for i=1:nr\n",
    "        d[i,i] = 1.0\n",
    "    end\n",
    "\n",
    "    ncomplete = nc\n",
    "    # off-diagonal elements need to be calculated\n",
    "    if(nr>=2)\n",
    "        for i=1:(nr-1)\n",
    "            for j=(i+1):nr\n",
    "                p1 = geno[i,:]\n",
    "                p2 = geno[j,:]\n",
    "                d[i,j] = d[j,i] = sum( p1 .* p2 + (1 .- p1) .* (1 .- p2) ) / ncomplete\n",
    "\n",
    "            end\n",
    "        end\n",
    "    end\n",
    "    return d\n",
    "end"
   ]
  },
  {
   "cell_type": "code",
   "execution_count": 54,
   "id": "58416e0c-f08a-41a7-a6ab-849cad8a6c35",
   "metadata": {},
   "outputs": [
    {
     "data": {
      "text/plain": [
       "20×20 Matrix{Float64}:\n",
       " 1.0       0.5       0.999999  0.5       …  0.5       0.999999  0.999999\n",
       " 0.5       1.0       0.5       0.5          0.5       0.5       0.5\n",
       " 0.999999  0.5       1.0       0.5          0.5       0.999999  0.999999\n",
       " 0.5       0.5       0.5       1.0          0.5       0.5       0.5\n",
       " 0.5       0.5       0.5       0.5          0.999999  0.5       0.5\n",
       " 0.5       0.5       0.5       0.5       …  0.999999  0.5       0.5\n",
       " 0.5       0.5       0.5       0.5          0.999999  0.5       0.5\n",
       " 0.5       0.5       0.5       0.999895     0.500105  0.5       0.5\n",
       " 0.5       0.999999  0.5       0.5          0.5       0.5       0.5\n",
       " 0.5       0.5       0.5       0.999999     0.5       0.5       0.5\n",
       " 0.999999  0.5       0.999999  0.5       …  0.5       0.999999  0.999999\n",
       " 0.5       0.5       0.5       0.5          0.999999  0.5       0.5\n",
       " 0.999999  0.5       0.999999  0.5          0.5       0.999999  0.999999\n",
       " 0.5       0.999999  0.5       0.5          0.5       0.5       0.5\n",
       " 0.999999  0.5       0.999999  0.5          0.5       0.999999  0.999999\n",
       " 0.5       0.5       0.5       0.999999  …  0.5       0.5       0.5\n",
       " 0.5       0.5       0.5       0.999999     0.5       0.5       0.5\n",
       " 0.5       0.5       0.5       0.5          1.0       0.5       0.5\n",
       " 0.999999  0.5       0.999999  0.5          0.5       1.0       0.999999\n",
       " 0.999999  0.5       0.999999  0.5          0.5       0.999999  1.0"
      ]
     },
     "execution_count": 54,
     "metadata": {},
     "output_type": "execute_result"
    }
   ],
   "source": [
    "calckinship(gpr)"
   ]
  },
  {
   "cell_type": "code",
   "execution_count": 55,
   "id": "d43a1fde-1e62-4f6a-9af6-9371e56e7103",
   "metadata": {},
   "outputs": [
    {
     "data": {
      "text/plain": [
       "4×4 Matrix{Float64}:\n",
       " 1.0       0.68254   0.722268  0.735575\n",
       " 0.68254   1.0       0.722084  0.682464\n",
       " 0.722268  0.722084  1.0       0.722269\n",
       " 0.735575  0.682464  0.722269  1.0"
      ]
     },
     "execution_count": 55,
     "metadata": {},
     "output_type": "execute_result"
    }
   ],
   "source": [
    "calckinship(gene_mat)"
   ]
  },
  {
   "cell_type": "code",
   "execution_count": 56,
   "id": "9170d6e1-6aa0-4e12-93e7-0f07ebc62fba",
   "metadata": {},
   "outputs": [
    {
     "data": {
      "text/plain": [
       "kinship_man (generic function with 1 method)"
      ]
     },
     "execution_count": 56,
     "metadata": {},
     "output_type": "execute_result"
    }
   ],
   "source": [
    "# testing kinship_man\n",
    "function kinship_man(genematrix::Matrix{Float64})\n",
    "#    c0=findall(.!isna.(genematrix[1,:]));\n",
    "#    c1=findall(.!isna.(genematrix[2,:]));\n",
    "#    ckeep=intersect(c0,c1);\n",
    "#                  for j=3:nrow\n",
    "#                  ck=find(.!isna.(genematrix[j,:]));\n",
    "#                  ckeep=intersect(ck,ckeep);\n",
    "#                   end\n",
    "#                         geneupdate = genematrix[:,ckeep];\n",
    "                        col = axes(genematrix,2)\n",
    "                    kin=zeros(col,col);\n",
    "                        @views for c=col, r=c:length(col)\n",
    "                            kin[r,c]= 1.0-mean(abs.(genematrix[:,c]-genematrix[:,r]))\n",
    "                                    kin[c,r]=kin[r,c]\n",
    "                        end\n",
    "\n",
    "return kin\n",
    "\n",
    "end\n"
   ]
  },
  {
   "cell_type": "code",
   "execution_count": 57,
   "id": "07df3669-a190-428a-9523-f79c0a71c3fd",
   "metadata": {},
   "outputs": [
    {
     "data": {
      "text/plain": [
       "12×12 Matrix{Float64}:\n",
       " 1.0       0.500003  0.599999  0.4       …  0.500018  0.599999  0.399999\n",
       " 0.500003  1.0       0.600002  0.400003     0.999984  0.600001  0.400002\n",
       " 0.599999  0.600002  1.0       0.500001     0.600015  0.999999  0.5\n",
       " 0.4       0.400003  0.500001  1.0          0.400017  0.500001  0.999999\n",
       " 0.999986  0.500016  0.599986  0.399986     0.50003   0.599986  0.399986\n",
       " 0.500016  0.999986  0.600014  0.400015  …  0.999999  0.600014  0.400014\n",
       " 0.599999  0.600001  0.999999  0.500001     0.600016  1.0       0.5\n",
       " 0.399999  0.400002  0.5       0.999999     0.400016  0.5       1.0\n",
       " 0.999985  0.500017  0.599984  0.399985     0.500032  0.599984  0.399984\n",
       " 0.500018  0.999984  0.600015  0.400017     1.0       0.600016  0.400016\n",
       " 0.599999  0.600001  0.999999  0.500001  …  0.600016  1.0       0.5\n",
       " 0.399999  0.400002  0.5       0.999999     0.400016  0.5       1.0"
      ]
     },
     "execution_count": 57,
     "metadata": {},
     "output_type": "execute_result"
    }
   ],
   "source": [
    "kinship_man(gpr)"
   ]
  },
  {
   "cell_type": "code",
   "execution_count": 58,
   "id": "100f3980-1bdc-4b9e-90ea-577448d31641",
   "metadata": {},
   "outputs": [
    {
     "data": {
      "text/plain": [
       "6×6 Matrix{Float64}:\n",
       " 1.0       0.726205  0.702411  0.678616  0.654822  0.629842\n",
       " 0.726205  1.0       0.976205  0.952411  0.928616  0.903637\n",
       " 0.702411  0.976205  1.0       0.976205  0.952411  0.927431\n",
       " 0.678616  0.952411  0.976205  1.0       0.976205  0.951226\n",
       " 0.654822  0.928616  0.952411  0.976205  1.0       0.975021\n",
       " 0.629842  0.903637  0.927431  0.951226  0.975021  1.0"
      ]
     },
     "execution_count": 58,
     "metadata": {},
     "output_type": "execute_result"
    }
   ],
   "source": [
    "kinship_man(gene_mat)"
   ]
  },
  {
   "cell_type": "code",
   "execution_count": 59,
   "id": "d7d07bb0-108f-4b71-8ea1-2825ec477cf8",
   "metadata": {},
   "outputs": [
    {
     "data": {
      "text/plain": [
       "kinship_lin (generic function with 1 method)"
      ]
     },
     "execution_count": 59,
     "metadata": {},
     "output_type": "execute_result"
    }
   ],
   "source": [
    "# testing kinship_lin\n",
    "function kinship_lin(mat,cross)\n",
    "r=size(mat,1)/cross; n=size(mat,2)\n",
    "     K=Symmetric(BLAS.syrk('U','T',1.0,mat))/r\n",
    "   @views for j=1:n\n",
    "        K[j,j]=1.0\n",
    "          end\n",
    "    return convert(Array{Float64,2},K)\n",
    "end\n"
   ]
  },
  {
   "cell_type": "code",
   "execution_count": 60,
   "id": "fb285b3e-8013-4ed2-acc0-7c9fddf32fc2",
   "metadata": {},
   "outputs": [
    {
     "data": {
      "text/plain": [
       "12×12 Matrix{Float64}:\n",
       " 1.0         1.81101e-6  4.87391e-7  2.67184e-9  …  1.82773e-7   1.55739e-9\n",
       " 1.81101e-6  1.0         1.17343e-8  7.3113e-7      6.49529e-9   4.26807e-7\n",
       " 4.87391e-7  1.17343e-8  1.0         6.09239e-7     0.15         4.26468e-7\n",
       " 2.67184e-9  7.3113e-7   6.09239e-7  1.0            1.82773e-7   0.349999\n",
       " 0.25        1.46635e-5  3.04623e-7  1.12992e-9     2.57283e-12  9.76623e-14\n",
       " 1.50606e-6  0.249984    1.10633e-8  3.04648e-7  …  5.82633e-9   3.3946e-10\n",
       " 1.82773e-7  6.49544e-9  0.15        1.82773e-7     0.15         1.11935e-12\n",
       " 1.55739e-9  4.26776e-7  4.26468e-7  0.349999       1.12499e-12  0.35\n",
       " 0.25        1.60827e-5  3.04624e-7  1.13165e-9     2.7425e-12   1.07266e-13\n",
       " 1.50603e-6  0.249982    1.1063e-8   3.04646e-7     5.82616e-9   3.3946e-10\n",
       " 1.82773e-7  6.49529e-9  0.15        1.82773e-7  …  1.0          1.12923e-12\n",
       " 1.55739e-9  4.26807e-7  4.26468e-7  0.349999       1.12923e-12  1.0"
      ]
     },
     "execution_count": 60,
     "metadata": {},
     "output_type": "execute_result"
    }
   ],
   "source": [
    "kinship_lin(gpr,1)"
   ]
  },
  {
   "cell_type": "code",
   "execution_count": 61,
   "id": "b5f0ea5a-5d95-4928-a98d-3f1d303e108c",
   "metadata": {},
   "outputs": [
    {
     "data": {
      "text/plain": [
       "6×6 Matrix{Float64}:\n",
       " 1.0         0.00917364  0.010309   0.0114443  0.0125796  0.0137711\n",
       " 0.00917364  1.0         0.0137012  0.0159649  0.0182287  0.0206048\n",
       " 0.010309    0.0137012   1.0        0.0204856  0.0238778  0.0274384\n",
       " 0.0114443   0.0159649   0.0204856  1.0        0.0295268  0.0342721\n",
       " 0.0125796   0.0182287   0.0238778  0.0295268  1.0        0.0411057\n",
       " 0.0137711   0.0206048   0.0274384  0.0342721  0.0411057  1.0"
      ]
     },
     "execution_count": 61,
     "metadata": {},
     "output_type": "execute_result"
    }
   ],
   "source": [
    "kinship_lin(gene_mat,1)"
   ]
  },
  {
   "cell_type": "code",
   "execution_count": 62,
   "id": "edb0a07f-2fa6-4fba-966d-8b7a3e1990a9",
   "metadata": {},
   "outputs": [
    {
     "data": {
      "text/plain": [
       "kinship_ctr (generic function with 1 method)"
      ]
     },
     "execution_count": 62,
     "metadata": {},
     "output_type": "execute_result"
    }
   ],
   "source": [
    "# testing kinship_ctr\n",
    "function kinship_ctr(genmat::Array{Float64,2})\n",
    "   p=size(genmat,1)\n",
    "    cgene= genmat.-mean(genmat,dims=2)\n",
    "    # K=(1-ρ)*transpose(cgene)*cgene/n+ρ*Matrix(1.0I,n,n)\n",
    "     #K=cgene'*cgene/p\n",
    "     K=Symmetric(BLAS.syrk('U','T',1.0,cgene))/p\n",
    "    return convert(Array{Float64,2},K)\n",
    "\n",
    "end"
   ]
  },
  {
   "cell_type": "code",
   "execution_count": 63,
   "id": "c1dfb733-7127-42a5-a7db-f69012e20579",
   "metadata": {},
   "outputs": [
    {
     "data": {
      "text/plain": [
       "12×12 Matrix{Float64}:\n",
       "  0.187498   -0.0624982  -0.0374999  …  -0.0624948  -0.0375001  -0.0875003\n",
       " -0.0624982   0.187497   -0.0374998      0.187487   -0.0374997  -0.0874993\n",
       " -0.0374999  -0.0374998   0.137499      -0.0374961   0.1375     -0.0624997\n",
       " -0.0875002  -0.087499   -0.0624995     -0.0874957  -0.0624998   0.237499\n",
       "  0.187496   -0.0624887  -0.0375034     -0.0624853  -0.0375036  -0.0875036\n",
       " -0.0624952   0.187488   -0.0374965  …   0.187477   -0.0374964  -0.0874964\n",
       " -0.0375001  -0.0374997   0.1375        -0.037496    0.1375     -0.0625\n",
       " -0.0875003  -0.0874993  -0.0624997     -0.0874961  -0.0625      0.2375\n",
       "  0.187495   -0.0624876  -0.0375037     -0.0624842  -0.0375039  -0.0875039\n",
       " -0.0624948   0.187487   -0.0374961      0.187476   -0.037496   -0.0874961\n",
       " -0.0375001  -0.0374997   0.1375     …  -0.037496    0.1375     -0.0625\n",
       " -0.0875003  -0.0874993  -0.0624997     -0.0874961  -0.0625      0.2375"
      ]
     },
     "execution_count": 63,
     "metadata": {},
     "output_type": "execute_result"
    }
   ],
   "source": [
    "kinship_ctr(gpr)"
   ]
  },
  {
   "cell_type": "code",
   "execution_count": 64,
   "id": "0f2471ab-0bf3-4863-a23f-a5aec49f5df1",
   "metadata": {},
   "outputs": [
    {
     "data": {
      "text/plain": [
       "6×6 Matrix{Float64}:\n",
       "  0.180711   -0.030453    -0.0332834   -0.0361139   -0.0389443   -0.0419161\n",
       " -0.030453    0.00951165   0.00780964   0.00610763   0.00440563   0.00261845\n",
       " -0.0332834   0.00780964   0.00723607   0.00666249   0.00608892   0.00548633\n",
       " -0.0361139   0.00610763   0.00666249   0.00721735   0.00777221   0.00835421\n",
       " -0.0389443   0.00440563   0.00608892   0.00777221   0.0094555    0.0112221\n",
       " -0.0419161   0.00261845   0.00548633   0.00835421   0.0112221    0.014235"
      ]
     },
     "execution_count": 64,
     "metadata": {},
     "output_type": "execute_result"
    }
   ],
   "source": [
    "kinship_ctr(gene_mat)"
   ]
  },
  {
   "cell_type": "code",
   "execution_count": 65,
   "id": "0c9a7976-b95d-4e92-8ed7-c77a5c963cc6",
   "metadata": {},
   "outputs": [
    {
     "data": {
      "text/plain": [
       "kinship_std (generic function with 1 method)"
      ]
     },
     "execution_count": 65,
     "metadata": {},
     "output_type": "execute_result"
    }
   ],
   "source": [
    "# testing kinship_std\n",
    "function kinship_std(genmat::Array{Float64,2})\n",
    "    p=size(genmat,1)\n",
    "    sgene=(genmat.-mean(genmat,dims=2))./std(genmat,dims=2)\n",
    "   #(1-ρ)*transpose(sgene)*sgene/n+ρ*Matrix(1.0I,n,n)\n",
    "     K=Symmetric(BLAS.syrk('U','T',1.0,sgene))/p\n",
    "\n",
    "    return convert(Array{Float64,2},K)\n",
    "end"
   ]
  },
  {
   "cell_type": "code",
   "execution_count": 66,
   "id": "6374b84c-f388-4a2d-b11b-54573636e7b0",
   "metadata": {},
   "outputs": [
    {
     "data": {
      "text/plain": [
       "12×12 Matrix{Float64}:\n",
       "  0.916669  -0.305573  -0.183325  …  -0.305556  -0.183326  -0.427772\n",
       " -0.305573   0.916731  -0.183358      0.91668   -0.183358  -0.427801\n",
       " -0.183325  -0.183358   0.672228     -0.18334    0.67223   -0.305546\n",
       " -0.427771  -0.427799  -0.305545     -0.427783  -0.305546   1.16112\n",
       "  0.916655  -0.305526  -0.183342     -0.30551   -0.183343  -0.427788\n",
       " -0.305558   0.916685  -0.183342  …   0.916635  -0.183342  -0.427787\n",
       " -0.183326  -0.183358   0.67223      -0.18334    0.672232  -0.305548\n",
       " -0.427772  -0.427801  -0.305546     -0.427785  -0.305548   1.16112\n",
       "  0.916654  -0.305521  -0.183343     -0.305505  -0.183344  -0.427789\n",
       " -0.305556   0.91668   -0.18334       0.916629  -0.18334   -0.427785\n",
       " -0.183326  -0.183358   0.67223   …  -0.18334    0.672232  -0.305548\n",
       " -0.427772  -0.427801  -0.305546     -0.427785  -0.305548   1.16112"
      ]
     },
     "execution_count": 66,
     "metadata": {},
     "output_type": "execute_result"
    }
   ],
   "source": [
    "kinship_std(gpr)"
   ]
  },
  {
   "cell_type": "code",
   "execution_count": 67,
   "id": "04467cf3-3dad-4fad-8f09-59bfed417358",
   "metadata": {},
   "outputs": [
    {
     "data": {
      "text/plain": [
       "6×6 Matrix{Float64}:\n",
       "  2.37415     0.592324   0.0604934  -0.471337   -1.00317   -1.55247\n",
       "  0.592324    0.522763   0.203202   -0.116359   -0.43592   -0.766009\n",
       "  0.0604934   0.203202   0.0959102  -0.0113814  -0.118673  -0.229551\n",
       " -0.471337   -0.116359  -0.0113814   0.0935964   0.198574   0.306907\n",
       " -1.00317    -0.43592   -0.118673    0.198574    0.515822   0.843365\n",
       " -1.55247    -0.766009  -0.229551    0.306907    0.843365   1.39775"
      ]
     },
     "execution_count": 67,
     "metadata": {},
     "output_type": "execute_result"
    }
   ],
   "source": [
    "kinship_std(gene_mat)"
   ]
  },
  {
   "cell_type": "code",
   "execution_count": 68,
   "id": "711b14dc-7597-4155-a6fb-5c862765c53f",
   "metadata": {},
   "outputs": [
    {
     "data": {
      "text/plain": [
       "kinship_gs (generic function with 1 method)"
      ]
     },
     "execution_count": 68,
     "metadata": {},
     "output_type": "execute_result"
    }
   ],
   "source": [
    "# testing kinship_gs\n",
    "function kinship_gs(climate::Array{Float64,2},ρ::Float64)\n",
    " env=axes(climate,2);\n",
    " Kc=zeros(env,env);\n",
    "\n",
    "    @views for c=env, r=c:length(env)\n",
    "            Kc[r,c]=exp(-mean(abs.(climate[:,c]-climate[:,r]).^2)/ρ)\n",
    "            Kc[c,r]=Kc[r,c]\n",
    "    end\n",
    "\n",
    "    return Kc\n",
    "\n",
    "end"
   ]
  },
  {
   "cell_type": "code",
   "execution_count": 69,
   "id": "6b19a8a9-1d18-4dd5-b9e4-291ba7af0744",
   "metadata": {},
   "outputs": [
    {
     "data": {
      "text/plain": [
       "12×12 Matrix{Float64}:\n",
       " 1.0       0.573759  0.641182  0.513418  …  0.573776  0.641181  0.513418\n",
       " 0.573759  1.0       0.641183  0.513421     1.0       0.641183  0.51342\n",
       " 0.641182  0.641183  1.0       0.573755     0.641203  1.0       0.573754\n",
       " 0.513418  0.513421  0.573755  1.0          0.513436  0.573755  1.0\n",
       " 1.0       0.573774  0.641181  0.513418     0.573792  0.64118   0.513417\n",
       " 0.573774  1.0       0.641201  0.513435  …  1.0       0.641201  0.513433\n",
       " 0.641181  0.641183  1.0       0.573755     0.641203  1.0       0.573753\n",
       " 0.513418  0.51342   0.573754  1.0          0.513435  0.573753  1.0\n",
       " 1.0       0.573776  0.641181  0.513418     0.573794  0.64118   0.513417\n",
       " 0.573776  1.0       0.641203  0.513436     1.0       0.641203  0.513435\n",
       " 0.641181  0.641183  1.0       0.573755  …  0.641203  1.0       0.573753\n",
       " 0.513418  0.51342   0.573754  1.0          0.513435  0.573753  1.0"
      ]
     },
     "execution_count": 69,
     "metadata": {},
     "output_type": "execute_result"
    }
   ],
   "source": [
    "kinship_gs(gpr,.9)"
   ]
  },
  {
   "cell_type": "code",
   "execution_count": 70,
   "id": "e281cfdd-326f-428c-9d7a-00e844c53519",
   "metadata": {},
   "outputs": [
    {
     "data": {
      "text/plain": [
       "6×6 Matrix{Float64}:\n",
       " 1.0       0.756516  0.753676  0.748966  0.742421  0.733628\n",
       " 0.756516  1.0       0.998747  0.994997  0.988779  0.979644\n",
       " 0.753676  0.998747  1.0       0.998747  0.994997  0.988403\n",
       " 0.748966  0.994997  0.998747  1.0       0.998747  0.994743\n",
       " 0.742421  0.988779  0.994997  0.998747  1.0       0.998616\n",
       " 0.733628  0.979644  0.988403  0.994743  0.998616  1.0"
      ]
     },
     "execution_count": 70,
     "metadata": {},
     "output_type": "execute_result"
    }
   ],
   "source": [
    "kinship_gs(gene_mat,.9)"
   ]
  },
  {
   "cell_type": "code",
   "execution_count": 71,
   "id": "fc634c76-972a-4e79-902d-62d6191a4429",
   "metadata": {},
   "outputs": [
    {
     "data": {
      "text/plain": [
       "kinship_4way (generic function with 1 method)"
      ]
     },
     "execution_count": 71,
     "metadata": {},
     "output_type": "execute_result"
    }
   ],
   "source": [
    "# testing kinship_4way\n",
    "function kinship_4way(genmat::Array{Float64,2})\n",
    "    nmar, nind=axes(genmat)\n",
    "    kmat=zeros(nind,nind);\n",
    "    dist=zeros(nmar);\n",
    "\n",
    "    for i=nind\n",
    "        for j=i:length(nind)\n",
    "            for k=nmar\n",
    "                if (genmat[k,i]==genmat[k,j])\n",
    "                    dist[k]= 0.0\n",
    "                elseif (genmat[k,i]+genmat[k,j]==5)\n",
    "                    dist[k]=2.0\n",
    "                else\n",
    "                    dist[k]=1.0\n",
    "                end\n",
    "\n",
    "            end\n",
    "        kmat[j,i]=1.0-0.5*mean(dist)\n",
    "        kmat[i,j]=kmat[j,i]\n",
    "        end\n",
    "    end\n",
    "\n",
    "return kmat\n",
    "\n",
    "end\n"
   ]
  },
  {
   "cell_type": "code",
   "execution_count": 72,
   "id": "dc7e751b-a268-4938-a69a-10321e35e296",
   "metadata": {
    "scrolled": true
   },
   "outputs": [
    {
     "data": {
      "text/plain": [
       "12×12 Matrix{Float64}:\n",
       " 1.0    0.5  0.5  0.675  0.5    0.5  0.5    0.5    0.5    0.5  0.5    0.5\n",
       " 0.5    1.0  0.8  0.5    0.5    0.5  0.5    0.5    0.5    0.5  0.5    0.5\n",
       " 0.5    0.8  1.0  0.5    0.5    0.5  0.5    0.5    0.5    0.5  0.5    0.5\n",
       " 0.675  0.5  0.5  1.0    0.5    0.5  0.5    0.5    0.5    0.5  0.5    0.5\n",
       " 0.5    0.5  0.5  0.5    1.0    0.5  0.5    0.675  0.625  0.5  0.5    0.5\n",
       " 0.5    0.5  0.5  0.5    0.5    1.0  0.8    0.5    0.5    0.6  0.5    0.5\n",
       " 0.5    0.5  0.5  0.5    0.5    0.8  1.0    0.5    0.5    0.5  0.575  0.5\n",
       " 0.5    0.5  0.5  0.5    0.675  0.5  0.5    1.0    0.5    0.5  0.5    0.675\n",
       " 0.5    0.5  0.5  0.5    0.625  0.5  0.5    0.5    1.0    0.5  0.5    0.675\n",
       " 0.5    0.5  0.5  0.5    0.5    0.6  0.5    0.5    0.5    1.0  0.8    0.5\n",
       " 0.5    0.5  0.5  0.5    0.5    0.5  0.575  0.5    0.5    0.8  1.0    0.5\n",
       " 0.5    0.5  0.5  0.5    0.5    0.5  0.5    0.675  0.675  0.5  0.5    1.0"
      ]
     },
     "execution_count": 72,
     "metadata": {},
     "output_type": "execute_result"
    }
   ],
   "source": [
    "kinship_4way(gpr)"
   ]
  },
  {
   "cell_type": "code",
   "execution_count": 73,
   "id": "a67ba6f5-c006-48a5-be7d-a214c78067e9",
   "metadata": {},
   "outputs": [
    {
     "data": {
      "text/plain": [
       "6×6 Matrix{Float64}:\n",
       " 1.0  0.5    0.5    0.5    0.5    0.5\n",
       " 0.5  1.0    0.625  0.625  0.625  0.625\n",
       " 0.5  0.625  1.0    0.625  0.625  0.625\n",
       " 0.5  0.625  0.625  1.0    0.625  0.625\n",
       " 0.5  0.625  0.625  0.625  1.0    0.625\n",
       " 0.5  0.625  0.625  0.625  0.625  1.0"
      ]
     },
     "execution_count": 73,
     "metadata": {},
     "output_type": "execute_result"
    }
   ],
   "source": [
    "kinship_4way(gene_mat)"
   ]
  },
  {
   "cell_type": "markdown",
   "id": "a1d4c546-1457-422d-ad6d-be6a7b27cd10",
   "metadata": {},
   "source": [
    "***All proporties of kinship are satisfied.***"
   ]
  },
  {
   "cell_type": "code",
   "execution_count": 75,
   "id": "34ea8657-d0bd-4569-a2ad-07adbb00cfc7",
   "metadata": {},
   "outputs": [
    {
     "data": {
      "text/plain": [
       "4×8 Matrix{Float64}:\n",
       " 7.0  7.0  7.0  7.0  7.0  7.0  7.0  7.0\n",
       " 7.0  7.0  7.0  7.0  7.0  7.0  7.0  7.0\n",
       " 7.0  7.0  7.0  7.0  7.0  7.0  7.0  7.0\n",
       " 7.0  7.0  7.0  7.0  7.0  7.0  7.0  7.0"
      ]
     },
     "execution_count": 75,
     "metadata": {},
     "output_type": "execute_result"
    }
   ],
   "source": [
    "A=ones(4,8)*7"
   ]
  },
  {
   "cell_type": "code",
   "execution_count": 84,
   "id": "b0b08c34-0211-4ac1-a233-51c5fab40fd3",
   "metadata": {},
   "outputs": [
    {
     "data": {
      "text/plain": [
       "8×8 Matrix{Float64}:\n",
       " 0.0  0.0  0.0  0.0  0.0  0.0  0.0  0.0\n",
       " 0.0  0.0  0.0  0.0  0.0  0.0  0.0  0.0\n",
       " 0.0  0.0  0.0  0.0  0.0  0.0  0.0  0.0\n",
       " 0.0  0.0  0.0  0.0  0.0  0.0  0.0  0.0\n",
       " 0.0  0.0  0.0  0.0  0.0  0.0  0.0  0.0\n",
       " 0.0  0.0  0.0  0.0  0.0  0.0  0.0  0.0\n",
       " 0.0  0.0  0.0  0.0  0.0  0.0  0.0  0.0\n",
       " 0.0  0.0  0.0  0.0  0.0  0.0  0.0  0.0"
      ]
     },
     "execution_count": 84,
     "metadata": {},
     "output_type": "execute_result"
    }
   ],
   "source": [
    "kinship_ctr(A)"
   ]
  },
  {
   "cell_type": "code",
   "execution_count": null,
   "id": "7088d188-c4fe-4860-8713-f619a0539217",
   "metadata": {},
   "outputs": [],
   "source": []
  }
 ],
 "metadata": {
  "jupytext": {
   "formats": "ipynb,auto:light"
  },
  "kernelspec": {
   "display_name": "Julia_6_Threads 1.10.3",
   "language": "julia",
   "name": "julia_6_threads-1.10"
  },
  "language_info": {
   "file_extension": ".jl",
   "mimetype": "application/julia",
   "name": "julia",
   "version": "1.10.3"
  }
 },
 "nbformat": 4,
 "nbformat_minor": 5
}
