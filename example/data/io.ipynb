{
 "cells": [
  {
   "cell_type": "code",
   "execution_count": 1,
   "id": "df75f33d-f7cc-45d9-8f24-29495965270e",
   "metadata": {},
   "outputs": [],
   "source": [
    "# libraries\n",
    "using CSV\n",
    "using DataFrames"
   ]
  },
  {
   "cell_type": "code",
   "execution_count": 5,
   "id": "baf7d95b-a2a1-4b89-b886-b0d2a05737ce",
   "metadata": {},
   "outputs": [
    {
     "name": "stderr",
     "output_type": "stream",
     "text": [
      "\u001b[33m\u001b[1m┌ \u001b[22m\u001b[39m\u001b[33m\u001b[1mWarning: \u001b[22m\u001b[39mthread = 2 warning: parsed expected 1 columns, but didn't reach end of line around data row: 16375. Parsing extra columns and widening final columnset\n",
      "\u001b[33m\u001b[1m└ \u001b[22m\u001b[39m\u001b[90m@ CSV ~/.julia/packages/CSV/cwX2w/src/file.jl:587\u001b[39m\n",
      "\u001b[33m\u001b[1m┌ \u001b[22m\u001b[39m\u001b[33m\u001b[1mWarning: \u001b[22m\u001b[39mthread = 3 warning: parsed expected 1 columns, but didn't reach end of line around data row: 4. Parsing extra columns and widening final columnset\n",
      "\u001b[33m\u001b[1m└ \u001b[22m\u001b[39m\u001b[90m@ CSV ~/.julia/packages/CSV/cwX2w/src/file.jl:587\u001b[39m\n",
      "\u001b[33m\u001b[1m┌ \u001b[22m\u001b[39m\u001b[33m\u001b[1mWarning: \u001b[22m\u001b[39mthread = 1 warning: parsed expected 1 columns, but didn't reach end of line around data row: 24561. Parsing extra columns and widening final columnset\n",
      "\u001b[33m\u001b[1m└ \u001b[22m\u001b[39m\u001b[90m@ CSV ~/.julia/packages/CSV/cwX2w/src/file.jl:587\u001b[39m\n",
      "\u001b[33m\u001b[1m┌ \u001b[22m\u001b[39m\u001b[33m\u001b[1mWarning: \u001b[22m\u001b[39mthread = 4 warning: parsed expected 1 columns, but didn't reach end of line around data row: 32747. Parsing extra columns and widening final columnset\n",
      "\u001b[33m\u001b[1m└ \u001b[22m\u001b[39m\u001b[90m@ CSV ~/.julia/packages/CSV/cwX2w/src/file.jl:587\u001b[39m\n",
      "\u001b[33m\u001b[1m┌ \u001b[22m\u001b[39m\u001b[33m\u001b[1mWarning: \u001b[22m\u001b[39mthread = 5 warning: parsed expected 1 columns, but didn't reach end of line around data row: 8189. Parsing extra columns and widening final columnset\n",
      "\u001b[33m\u001b[1m└ \u001b[22m\u001b[39m\u001b[90m@ CSV ~/.julia/packages/CSV/cwX2w/src/file.jl:587\u001b[39m\n",
      "\u001b[33m\u001b[1m┌ \u001b[22m\u001b[39m\u001b[33m\u001b[1mWarning: \u001b[22m\u001b[39mthread = 4 warning: only found 1 / 3 columns around data row: 32746. Filling remaining columns with `missing`\n",
      "\u001b[33m\u001b[1m└ \u001b[22m\u001b[39m\u001b[90m@ CSV ~/.julia/packages/CSV/cwX2w/src/file.jl:586\u001b[39m\n",
      "\u001b[33m\u001b[1m┌ \u001b[22m\u001b[39m\u001b[33m\u001b[1mWarning: \u001b[22m\u001b[39mthread = 1 warning: only found 1 / 3 columns around data row: 3703. Filling remaining columns with `missing`\n",
      "\u001b[33m\u001b[1m└ \u001b[22m\u001b[39m\u001b[90m@ CSV ~/.julia/packages/CSV/cwX2w/src/file.jl:586\u001b[39m\n",
      "\u001b[33m\u001b[1m┌ \u001b[22m\u001b[39m\u001b[33m\u001b[1mWarning: \u001b[22m\u001b[39mthread = 4 warning: only found 1 / 3 columns around data row: 4916. Filling remaining columns with `missing`\n",
      "\u001b[33m\u001b[1m└ \u001b[22m\u001b[39m\u001b[90m@ CSV ~/.julia/packages/CSV/cwX2w/src/file.jl:586\u001b[39m\n",
      "\u001b[33m\u001b[1m┌ \u001b[22m\u001b[39m\u001b[33m\u001b[1mWarning: \u001b[22m\u001b[39mthread = 4 warning: only found 1 / 3 columns around data row: 7328. Filling remaining columns with `missing`\n",
      "\u001b[33m\u001b[1m└ \u001b[22m\u001b[39m\u001b[90m@ CSV ~/.julia/packages/CSV/cwX2w/src/file.jl:586\u001b[39m\n",
      "\u001b[33m\u001b[1m┌ \u001b[22m\u001b[39m\u001b[33m\u001b[1mWarning: \u001b[22m\u001b[39mthread = 3 warning: only found 1 / 3 columns around data row: 3703. Filling remaining columns with `missing`\n",
      "\u001b[33m\u001b[1m└ \u001b[22m\u001b[39m\u001b[90m@ CSV ~/.julia/packages/CSV/cwX2w/src/file.jl:586\u001b[39m\n",
      "\u001b[33m\u001b[1m┌ \u001b[22m\u001b[39m\u001b[33m\u001b[1mWarning: \u001b[22m\u001b[39mthread = 3 warning: only found 1 / 3 columns around data row: 4916. Filling remaining columns with `missing`\n",
      "\u001b[33m\u001b[1m└ \u001b[22m\u001b[39m\u001b[90m@ CSV ~/.julia/packages/CSV/cwX2w/src/file.jl:586\u001b[39m\n",
      "\u001b[33m\u001b[1m┌ \u001b[22m\u001b[39m\u001b[33m\u001b[1mWarning: \u001b[22m\u001b[39mthread = 3 warning: only found 1 / 3 columns around data row: 6121. Filling remaining columns with `missing`\n",
      "\u001b[33m\u001b[1m└ \u001b[22m\u001b[39m\u001b[90m@ CSV ~/.julia/packages/CSV/cwX2w/src/file.jl:586\u001b[39m\n",
      "\u001b[33m\u001b[1m┌ \u001b[22m\u001b[39m\u001b[33m\u001b[1mWarning: \u001b[22m\u001b[39mthread = 3 warning: only found 1 / 3 columns around data row: 7328. Filling remaining columns with `missing`\n",
      "\u001b[33m\u001b[1m└ \u001b[22m\u001b[39m\u001b[90m@ CSV ~/.julia/packages/CSV/cwX2w/src/file.jl:586\u001b[39m\n"
     ]
    },
    {
     "ename": "LoadError",
     "evalue": "TaskFailedException\n\n\u001b[91m    nested task error: \u001b[39mTypeError: in typeassert, expected SentinelArrays.SentinelVector{String3, String3, Missing, Vector{String3}}, got a value of type SentinelArrays.SentinelVector{Int64, Int64, Missing, Vector{Int64}}\n    Stacktrace:\n     [1] \u001b[0m\u001b[1mcheckpooled!\u001b[22m\u001b[0m\u001b[1m(\u001b[22m::\u001b[0mType\u001b[90m{Union{Missing, String3}}\u001b[39m, \u001b[90mpertaskcolumns\u001b[39m::\u001b[0mVector\u001b[90m{Vector{CSV.Column}}\u001b[39m, \u001b[90mcol\u001b[39m::\u001b[0mCSV.Column, \u001b[90mj\u001b[39m::\u001b[0mInt64, \u001b[90mntasks\u001b[39m::\u001b[0mInt64, \u001b[90mnrows\u001b[39m::\u001b[0mInt64, \u001b[90mctx\u001b[39m::\u001b[0mCSV.Context\u001b[0m\u001b[1m)\u001b[22m\n    \u001b[90m   @\u001b[39m \u001b[35mCSV\u001b[39m \u001b[90m~/.julia/packages/CSV/cwX2w/src/\u001b[39m\u001b[90m\u001b[4mfile.jl:484\u001b[24m\u001b[39m\n     [2] \u001b[0m\u001b[1mmultithreadpostparse\u001b[22m\u001b[0m\u001b[1m(\u001b[22m\u001b[90mctx\u001b[39m::\u001b[0mCSV.Context, \u001b[90mntasks\u001b[39m::\u001b[0mInt64, \u001b[90mpertaskcolumns\u001b[39m::\u001b[0mVector\u001b[90m{Vector{CSV.Column}}\u001b[39m, \u001b[90mrows\u001b[39m::\u001b[0mVector\u001b[90m{Int64}\u001b[39m, \u001b[90mfinalrows\u001b[39m::\u001b[0mInt64, \u001b[90mj\u001b[39m::\u001b[0mInt64, \u001b[90mcol\u001b[39m::\u001b[0mCSV.Column\u001b[0m\u001b[1m)\u001b[22m\n    \u001b[90m   @\u001b[39m \u001b[35mCSV\u001b[39m \u001b[90m~/.julia/packages/CSV/cwX2w/src/\u001b[39m\u001b[90m\u001b[4mfile.jl:433\u001b[24m\u001b[39m\n     [3] \u001b[0m\u001b[1m(::CSV.var\"#35#40\"{CSV.Context, Int64, Vector{Vector{CSV.Column}}, Vector{Int64}, Int64, Int64, CSV.Column})\u001b[22m\u001b[0m\u001b[1m(\u001b[22m\u001b[0m\u001b[1m)\u001b[22m\n    \u001b[90m   @\u001b[39m \u001b[35mCSV\u001b[39m \u001b[90m~/.julia/packages/WorkerUtilities/ey0fP/src/\u001b[39m\u001b[90m\u001b[4mWorkerUtilities.jl:384\u001b[24m\u001b[39m\n\n...and 1 more exception.\n",
     "output_type": "error",
     "traceback": [
      "TaskFailedException\n\n\u001b[91m    nested task error: \u001b[39mTypeError: in typeassert, expected SentinelArrays.SentinelVector{String3, String3, Missing, Vector{String3}}, got a value of type SentinelArrays.SentinelVector{Int64, Int64, Missing, Vector{Int64}}\n    Stacktrace:\n     [1] \u001b[0m\u001b[1mcheckpooled!\u001b[22m\u001b[0m\u001b[1m(\u001b[22m::\u001b[0mType\u001b[90m{Union{Missing, String3}}\u001b[39m, \u001b[90mpertaskcolumns\u001b[39m::\u001b[0mVector\u001b[90m{Vector{CSV.Column}}\u001b[39m, \u001b[90mcol\u001b[39m::\u001b[0mCSV.Column, \u001b[90mj\u001b[39m::\u001b[0mInt64, \u001b[90mntasks\u001b[39m::\u001b[0mInt64, \u001b[90mnrows\u001b[39m::\u001b[0mInt64, \u001b[90mctx\u001b[39m::\u001b[0mCSV.Context\u001b[0m\u001b[1m)\u001b[22m\n    \u001b[90m   @\u001b[39m \u001b[35mCSV\u001b[39m \u001b[90m~/.julia/packages/CSV/cwX2w/src/\u001b[39m\u001b[90m\u001b[4mfile.jl:484\u001b[24m\u001b[39m\n     [2] \u001b[0m\u001b[1mmultithreadpostparse\u001b[22m\u001b[0m\u001b[1m(\u001b[22m\u001b[90mctx\u001b[39m::\u001b[0mCSV.Context, \u001b[90mntasks\u001b[39m::\u001b[0mInt64, \u001b[90mpertaskcolumns\u001b[39m::\u001b[0mVector\u001b[90m{Vector{CSV.Column}}\u001b[39m, \u001b[90mrows\u001b[39m::\u001b[0mVector\u001b[90m{Int64}\u001b[39m, \u001b[90mfinalrows\u001b[39m::\u001b[0mInt64, \u001b[90mj\u001b[39m::\u001b[0mInt64, \u001b[90mcol\u001b[39m::\u001b[0mCSV.Column\u001b[0m\u001b[1m)\u001b[22m\n    \u001b[90m   @\u001b[39m \u001b[35mCSV\u001b[39m \u001b[90m~/.julia/packages/CSV/cwX2w/src/\u001b[39m\u001b[90m\u001b[4mfile.jl:433\u001b[24m\u001b[39m\n     [3] \u001b[0m\u001b[1m(::CSV.var\"#35#40\"{CSV.Context, Int64, Vector{Vector{CSV.Column}}, Vector{Int64}, Int64, Int64, CSV.Column})\u001b[22m\u001b[0m\u001b[1m(\u001b[22m\u001b[0m\u001b[1m)\u001b[22m\n    \u001b[90m   @\u001b[39m \u001b[35mCSV\u001b[39m \u001b[90m~/.julia/packages/WorkerUtilities/ey0fP/src/\u001b[39m\u001b[90m\u001b[4mWorkerUtilities.jl:384\u001b[24m\u001b[39m\n\n...and 1 more exception.\n",
      "",
      "Stacktrace:",
      " [1] sync_end(c::Channel{Any})",
      "   @ Base ./task.jl:448",
      " [2] macro expansion",
      "   @ ./task.jl:480 [inlined]",
      " [3] CSV.File(ctx::CSV.Context, chunking::Bool)",
      "   @ CSV ~/.julia/packages/CSV/cwX2w/src/file.jl:282",
      " [4] File",
      "   @ ~/.julia/packages/CSV/cwX2w/src/file.jl:227 [inlined]",
      " [5] #File#32",
      "   @ ~/.julia/packages/CSV/cwX2w/src/file.jl:223 [inlined]",
      " [6] CSV.File(source::String)",
      "   @ CSV ~/.julia/packages/CSV/cwX2w/src/file.jl:162",
      " [7] read(source::String, sink::Module; copycols::Bool, kwargs::@Kwargs{})",
      "   @ CSV ~/.julia/packages/CSV/cwX2w/src/CSV.jl:117",
      " [8] read(source::String, sink::Module)",
      "   @ CSV ~/.julia/packages/CSV/cwX2w/src/CSV.jl:113",
      " [9] top-level scope",
      "   @ In[5]:1"
     ]
    }
   ],
   "source": [
    "CSV.read(\"bxd_gmap.csv\", DataFrames)"
   ]
  },
  {
   "cell_type": "code",
   "execution_count": null,
   "id": "f45698bf-33bd-4eea-9257-9252dd50dc17",
   "metadata": {},
   "outputs": [],
   "source": []
  }
 ],
 "metadata": {
  "kernelspec": {
   "display_name": "Julia_6_Threads 1.10.3",
   "language": "julia",
   "name": "julia_6_threads-1.10"
  },
  "language_info": {
   "file_extension": ".jl",
   "mimetype": "application/julia",
   "name": "julia",
   "version": "1.10.3"
  }
 },
 "nbformat": 4,
 "nbformat_minor": 5
}
