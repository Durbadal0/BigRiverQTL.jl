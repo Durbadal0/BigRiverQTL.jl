{
 "cells": [
  {
   "cell_type": "code",
   "execution_count": 1,
   "metadata": {},
   "outputs": [
    {
     "name": "stderr",
     "output_type": "stream",
     "text": [
      "\u001b[32m\u001b[1m  Activating\u001b[22m\u001b[39m project at `~/git/BigRiverQTL.jl`\n"
     ]
    }
   ],
   "source": [
    "using Pkg\n",
    "Pkg.activate(\"../\")"
   ]
  },
  {
   "cell_type": "code",
   "execution_count": 2,
   "metadata": {},
   "outputs": [],
   "source": [
    "using BigRiverQTLPlots\n",
    "using BulkLMM\n",
    "using Random, Statistics\n",
    "using Plots\n",
    "using Helium\n",
    "using BigRiverQTL\n",
    "using CSV\n",
    "using DataFrames\n",
    "using CategoricalArrays"
   ]
  },
  {
   "cell_type": "code",
   "execution_count": 3,
   "metadata": {},
   "outputs": [
    {
     "ename": "UndefVarError",
     "evalue": "UndefVarError: `data_dir` not defined",
     "output_type": "error",
     "traceback": [
      "UndefVarError: `data_dir` not defined\n",
      "\n",
      "Stacktrace:\n",
      " [1] get_geneticstudydata(filename::String)\n",
      "   @ BigRiverQTL ~/git/BigRiverQTL.jl/src/io/export_to_type.jl:668\n",
      " [2] top-level scope\n",
      "   @ ~/git/BigRiverQTL.jl/example/Example1.ipynb:9"
     ]
    }
   ],
   "source": [
    "##############\n",
    "# BXD spleen #\n",
    "##############\n",
    "\n",
    "########\n",
    "# Data #\n",
    "########\n",
    "data_dir = joinpath(@__DIR__, \"../data/BXD/\");\n",
    "file = joinpath(data_dir, \"bxd.json\");\n",
    "data=get_geneticstudydata(file);\n",
    "\n",
    "\n",
    "\n",
    "\n"
   ]
  },
  {
   "cell_type": "code",
   "execution_count": 141,
   "metadata": {},
   "outputs": [],
   "source": [
    "gInfo=data.gmap;\n",
    "pInfo=data.phenocov;\n",
    "pheno=data.pheno;\n",
    "pheno=data.pheno.val;\n",
    "geno=data.geno.val[1];\n",
    "geno_processed=convert(Array{Float64}, geno);\n"
   ]
  },
  {
   "cell_type": "code",
   "execution_count": 88,
   "metadata": {},
   "outputs": [],
   "source": [
    "#################\n",
    "# Preprocessing #\n",
    "#################\n",
    "traitID = 1112;\n",
    "pheno_y = pheno[:, traitID];\n",
    "pheno_y2=ones(length(pheno_y));\n",
    "pheno_y2[findall(x->x!=nothing,pheno_y)]=pheno_y[findall(x->x!=nothing,pheno_y)];"
   ]
  },
  {
   "cell_type": "code",
   "execution_count": 131,
   "metadata": {},
   "outputs": [
    {
     "data": {
      "text/plain": [
       "198×198 Matrix{Float64}:\n",
       " 1.0       0.762171  0.422149  0.602517  …  0.69842   0.586467  0.432326\n",
       " 0.762171  1.0       0.553876  0.457765     0.835715  0.331607  0.367086\n",
       " 0.422149  0.553876  1.0       0.518135     0.355609  0.129096  0.10468\n",
       " 0.602517  0.457765  0.518135  1.0          0.321239  0.239075  0.168574\n",
       " 0.638985  0.528944  0.496387  0.736001     0.386838  0.318698  0.201712\n",
       " 0.554757  0.727863  0.760962  0.394281  …  0.528944  0.226508  0.183087\n",
       " 0.523096  0.614111  0.726708  0.514037     0.451986  0.16671   0.226148\n",
       " 0.830423  0.746596  0.465094  0.613136     0.684147  0.357875  0.455589\n",
       " 0.48779   0.549495  0.809586  0.544284     0.403146  0.181639  0.113873\n",
       " 0.73134   0.864058  0.555638  0.529785     0.688507  0.291115  0.315175\n",
       " ⋮                                       ⋱  ⋮                   \n",
       " 0.691796  0.907664  0.47329   0.380139     0.829105  0.320729  0.378332\n",
       " 0.827789  0.628916  0.391784  0.727863  …  0.576311  0.412866  0.377731\n",
       " 0.530627  0.680895  0.727863  0.463619     0.494812  0.180202  0.173462\n",
       " 0.798097  0.954987  0.528944  0.479342     0.875107  0.347237  0.384388\n",
       " 0.451986  0.360156  0.142003  0.191412     0.305806  0.356174  0.153495\n",
       " 0.691796  0.558292  0.335847  0.576311     0.490899  0.337451  0.341766\n",
       " 0.69842   0.835715  0.355609  0.321239  …  1.0       0.367669  0.439247\n",
       " 0.586467  0.331607  0.129096  0.239075     0.367669  1.0       0.245618\n",
       " 0.432326  0.367086  0.10468   0.168574     0.439247  0.245618  1.0"
      ]
     },
     "metadata": {},
     "output_type": "display_data"
    }
   ],
   "source": [
    "###########\n",
    "# Kinship #\n",
    "###########\n",
    "kinship = kinship_gs(geno_processed,.99)"
   ]
  },
  {
   "cell_type": "code",
   "execution_count": null,
   "metadata": {},
   "outputs": [],
   "source": []
  },
  {
   "cell_type": "code",
   "execution_count": 149,
   "metadata": {},
   "outputs": [],
   "source": [
    "\n",
    "\n",
    "\n",
    "\n",
    "\n",
    "\n",
    "########\n",
    "# Scan #\n",
    "########\n",
    "\n",
    "single_results_perms = scan(\n",
    "\tpheno_y2,\n",
    "\tgeno_processed,\n",
    "\tkinship;\n",
    "\tpermutation_test = true,\n",
    "\tnperms = 1000,\n",
    ");\n",
    "\n",
    "\n"
   ]
  },
  {
   "cell_type": "code",
   "execution_count": null,
   "metadata": {},
   "outputs": [],
   "source": []
  },
  {
   "cell_type": "code",
   "execution_count": 150,
   "metadata": {},
   "outputs": [
    {
     "ename": "MethodError",
     "evalue": "MethodError: no method matching plot_QTL(::@NamedTuple{sigma2_e::Float64, h2_null::Float64, lod::Vector{Float64}, L_perms::Matrix{Float64}}, ::Gmap)\n\nClosest candidates are:\n  plot_QTL(::NamedTuple, !Matched::DataFrame; chrColname, mbColname, significance, kwargs...)\n   @ BigRiverQTLPlots ~/.julia/packages/BigRiverQTLPlots/3RIW6/src/qtl/plot_QTL.jl:49\n",
     "output_type": "error",
     "traceback": [
      "MethodError: no method matching plot_QTL(::@NamedTuple{sigma2_e::Float64, h2_null::Float64, lod::Vector{Float64}, L_perms::Matrix{Float64}}, ::Gmap)\n",
      "\n",
      "Closest candidates are:\n",
      "  plot_QTL(::NamedTuple, !Matched::DataFrame; chrColname, mbColname, significance, kwargs...)\n",
      "   @ BigRiverQTLPlots ~/.julia/packages/BigRiverQTLPlots/3RIW6/src/qtl/plot_QTL.jl:49\n",
      "\n",
      "\n",
      "Stacktrace:\n",
      " [1] top-level scope\n",
      "   @ ~/git/BigRiverQTL.jl/example/Example1.ipynb:7"
     ]
    }
   ],
   "source": [
    "\n",
    "\n",
    "########\n",
    "# Plot #\n",
    "########\n",
    "\n",
    "plot_QTL(single_results_perms, gInfo)\n",
    "\n"
   ]
  }
 ],
 "metadata": {
  "kernelspec": {
   "display_name": "Julia 1.10.3",
   "language": "julia",
   "name": "julia-1.10"
  },
  "language_info": {
   "file_extension": ".jl",
   "mimetype": "application/julia",
   "name": "julia",
   "version": "1.10.3"
  }
 },
 "nbformat": 4,
 "nbformat_minor": 2
}
