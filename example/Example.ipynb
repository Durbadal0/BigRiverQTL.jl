{
 "cells": [
  {
   "cell_type": "code",
   "execution_count": 1,
   "id": "176d9cda-79fa-47ef-bbec-fd7360263dad",
   "metadata": {},
   "outputs": [
    {
     "name": "stderr",
     "output_type": "stream",
     "text": [
      "\u001b[32m\u001b[1m  Activating\u001b[22m\u001b[39m project at `~/git/BigRiverQTL.jl`\n"
     ]
    }
   ],
   "source": [
    "using Pkg\n",
    "Pkg.activate(\"../\")"
   ]
  },
  {
   "cell_type": "code",
   "execution_count": 2,
   "id": "4a6bd24d-9976-4cc5-9fad-b4af33af55a7",
   "metadata": {},
   "outputs": [],
   "source": [
    "Pkg.instantiate()"
   ]
  },
  {
   "cell_type": "code",
   "execution_count": 3,
   "id": "d64b005f-c5ec-43a6-89a9-29f17b5fb20d",
   "metadata": {},
   "outputs": [],
   "source": [
    "using Revise"
   ]
  },
  {
   "cell_type": "code",
   "execution_count": 4,
   "id": "d4ff7d71-fa39-41d5-b15c-917fe015f23f",
   "metadata": {},
   "outputs": [
    {
     "name": "stderr",
     "output_type": "stream",
     "text": [
      "\u001b[32m\u001b[1mPrecompiling\u001b[22m\u001b[39m BigRiverQTL\n",
      "\u001b[32m  ✓ \u001b[39mBigRiverQTL\n",
      "  1 dependency successfully precompiled in 1 seconds. 92 already precompiled.\n"
     ]
    }
   ],
   "source": [
    "# Libraries\n",
    "using BigRiverQTLPlots\n",
    "using Random, Statistics\n",
    "using Plots\n",
    "using Helium\n",
    "using BigRiverQTL\n",
    "using CSV\n",
    "using DataFrames\n",
    "using BulkLMM"
   ]
  },
  {
   "cell_type": "code",
   "execution_count": null,
   "id": "b295953f-5a0e-4334-a6ce-2b478bbbb804",
   "metadata": {},
   "outputs": [],
   "source": [
    "##############\n",
    "# BXD spleen #\n",
    "##############\n",
    "\n",
    "########\n",
    "# Data #\n",
    "########\n",
    "data_dir = joinpath(@__DIR__, \"../data/BXD/\");\n",
    "file = joinpath(data_dir, \"bxd.json\");"
   ]
  },
  {
   "cell_type": "code",
   "execution_count": null,
   "id": "4c9e4e74-d0b6-401c-98db-dac8a5c44ed8",
   "metadata": {},
   "outputs": [],
   "source": [
    "# Transforming data to a optimised and accessible data type\n",
    "data = get_geneticstudydata(file);"
   ]
  },
  {
   "cell_type": "code",
   "execution_count": null,
   "id": "464012b2-9515-4e5c-b484-b99d466eb213",
   "metadata": {},
   "outputs": [],
   "source": [
    "# Data types\n",
    "gInfo=data.gmap;\n",
    "pInfo=data.phenocov;\n",
    "pheno=data.pheno;\n",
    "pheno=data.pheno.val;\n",
    "geno=reduce(hcat, data.geno.val);\n",
    "geno_processed=convert(Array{Float64}, geno);"
   ]
  },
  {
   "cell_type": "code",
   "execution_count": null,
   "id": "63c0bfba-3b6d-49c6-9060-b672f20fde94",
   "metadata": {},
   "outputs": [],
   "source": [
    "#################\n",
    "# Preprocessing #\n",
    "#################\n",
    "traitID = 1112;\n",
    "pheno_y = pheno[:, traitID];\n",
    "pheno_y2=ones(length(pheno_y));\n",
    "idx_nothing = findall(x->x!=nothing,pheno_y)\n",
    "pheno_y2[idx_nothing]=pheno_y[idx_nothing];"
   ]
  },
  {
   "cell_type": "code",
   "execution_count": null,
   "id": "01ba32dc-426c-4a4e-baa5-21f829a12cc6",
   "metadata": {},
   "outputs": [],
   "source": [
    "###########\n",
    "# Kinship #\n",
    "###########\n",
    "kinship = kinship_gs(geno_processed,.99);"
   ]
  },
  {
   "cell_type": "code",
   "execution_count": null,
   "id": "d9b62999-ed62-4c44-b845-52c944dd28ba",
   "metadata": {},
   "outputs": [],
   "source": [
    "########\n",
    "# Scan #\n",
    "########\n",
    "\n",
    "single_results_perms = scan(\n",
    "\tpheno_y2,\n",
    "\tgeno_processed,\n",
    "\tkinship;\n",
    "\tpermutation_test = true,\n",
    "\tnperms = 1000,\n",
    ");"
   ]
  },
  {
   "cell_type": "code",
   "execution_count": null,
   "id": "1d1c8e26-d00a-4d72-b38e-a3d814e33257",
   "metadata": {},
   "outputs": [],
   "source": [
    "#########\n",
    "# Plots #\n",
    "#########\n",
    "\n",
    "plot_QTL(single_results_perms, gInfo, mbColname = \"Pos\")"
   ]
  }
 ],
 "metadata": {
  "jupytext": {
   "formats": "ipynb,auto:light"
  },
  "kernelspec": {
   "display_name": "Julia_6_Threads 1.10.3",
   "language": "julia",
   "name": "julia_6_threads-1.10"
  },
  "language_info": {
   "file_extension": ".jl",
   "mimetype": "application/julia",
   "name": "julia",
   "version": "1.10.3"
  }
 },
 "nbformat": 4,
 "nbformat_minor": 5
}
