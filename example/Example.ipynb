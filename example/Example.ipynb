{
 "cells": [
  {
   "cell_type": "code",
   "execution_count": 1,
   "id": "176d9cda-79fa-47ef-bbec-fd7360263dad",
   "metadata": {},
   "outputs": [
    {
     "name": "stderr",
     "output_type": "stream",
     "text": [
      "\u001b[32m\u001b[1m  Activating\u001b[22m\u001b[39m project at `~/git/BigRiverQTL.jl`\n"
     ]
    }
   ],
   "source": [
    "using Pkg\n",
    "Pkg.activate(\"../\")"
   ]
  },
  {
   "cell_type": "code",
   "execution_count": 2,
   "id": "4a6bd24d-9976-4cc5-9fad-b4af33af55a7",
   "metadata": {},
   "outputs": [],
   "source": [
    "Pkg.instantiate()"
   ]
  },
  {
   "cell_type": "code",
   "execution_count": 3,
   "id": "d64b005f-c5ec-43a6-89a9-29f17b5fb20d",
   "metadata": {},
   "outputs": [],
   "source": [
    "using Revise"
   ]
  },
  {
   "cell_type": "code",
   "execution_count": 4,
   "id": "d4ff7d71-fa39-41d5-b15c-917fe015f23f",
   "metadata": {},
   "outputs": [
    {
     "name": "stderr",
     "output_type": "stream",
     "text": [
      "\u001b[32m\u001b[1mPrecompiling\u001b[22m\u001b[39m BigRiverQTL\n",
      "\u001b[36m\u001b[1m        Info\u001b[22m\u001b[39m Given BigRiverQTL was explicitly requested, output will be shown live \u001b[0K\n",
      "\u001b[0K\u001b[91m\u001b[1mERROR: \u001b[22m\u001b[39mLoadError: ParseError:\n",
      "\u001b[0K\u001b[90m# Error @ \u001b[0;0m\u001b]8;;file:///Users/durbadalghosh/git/BigRiverQTL.jl/src/BigRiverQTL.jl#77:21\u001b\\\u001b[90m/Users/durbadalghosh/git/BigRiverQTL.jl/src/BigRiverQTL.jl:77:21\u001b[0;0m\u001b]8;;\u001b\\\n",
      "\u001b[0K    include(\"plots/plots_qtl.jl\")\n",
      "\u001b[0K\u001b[90m#                   ┌─────────\u001b[0;0m\n",
      "\u001b[0K    export plot_QTL \u001b[48;2;120;70;70mplot_QTL! \u001b[0;0m\n",
      "\u001b[0K\u001b[48;2;120;70;70m\u001b[0;0m\n",
      "\u001b[0K\u001b[48;2;120;70;70m    include(\"plots/plots_manhattan.jl\"\u001b[0;0m)\n",
      "\u001b[0K\u001b[90m#────────────────────────────────────┘ ── \u001b[0;0m\u001b[91mExpected `end`\u001b[0;0m\n",
      "\u001b[0KStacktrace:\n",
      "\u001b[0K [1] top-level scope\n",
      "\u001b[0K\u001b[90m   @\u001b[39m \u001b[90m~/git/BigRiverQTL.jl/src/\u001b[39m\u001b[90m\u001b[4mBigRiverQTL.jl:77\u001b[24m\u001b[39m\n",
      "\u001b[0K [2] \u001b[0m\u001b[1minclude\u001b[22m\n",
      "\u001b[0K\u001b[90m   @\u001b[39m \u001b[90m./\u001b[39m\u001b[90m\u001b[4mBase.jl:495\u001b[24m\u001b[39m\u001b[90m [inlined]\u001b[39m\n",
      "\u001b[0K [3] \u001b[0m\u001b[1minclude_package_for_output\u001b[22m\u001b[0m\u001b[1m(\u001b[22m\u001b[90mpkg\u001b[39m::\u001b[0mBase.PkgId, \u001b[90minput\u001b[39m::\u001b[0mString, \u001b[90mdepot_path\u001b[39m::\u001b[0mVector\u001b[90m{String}\u001b[39m, \u001b[90mdl_load_path\u001b[39m::\u001b[0mVector\u001b[90m{String}\u001b[39m, \u001b[90mload_path\u001b[39m::\u001b[0mVector\u001b[90m{String}\u001b[39m, \u001b[90mconcrete_deps\u001b[39m::\u001b[0mVector\u001b[90m{Pair{Base.PkgId, UInt128}}\u001b[39m, \u001b[90msource\u001b[39m::\u001b[0mNothing\u001b[0m\u001b[1m)\u001b[22m\n",
      "\u001b[0K\u001b[90m   @\u001b[39m \u001b[90mBase\u001b[39m \u001b[90m./\u001b[39m\u001b[90m\u001b[4mloading.jl:2222\u001b[24m\u001b[39m\n",
      "\u001b[0K [4] top-level scope\n",
      "\u001b[0K\u001b[90m   @\u001b[39m \u001b[90m\u001b[4mstdin:3\u001b[24m\u001b[39m\n",
      "\u001b[0Kin expression starting at /Users/durbadalghosh/git/BigRiverQTL.jl/src/BigRiverQTL.jl:77\n",
      "\u001b[0Kin expression starting at stdin:3\n",
      "\u001b[91m  ✗ \u001b[39mBigRiverQTL\n",
      "  0 dependencies successfully precompiled in 1 seconds. 92 already precompiled.\n",
      "\n"
     ]
    },
    {
     "ename": "LoadError",
     "evalue": "The following 1 direct dependency failed to precompile:\n\nBigRiverQTL [8f8ec94a-26d1-428c-aa0e-4e66223094bc]\n\nFailed to precompile BigRiverQTL [8f8ec94a-26d1-428c-aa0e-4e66223094bc] to \"/Users/durbadalghosh/.julia/compiled/v1.10/BigRiverQTL/jl_9kE19g\".\n\u001b[91m\u001b[1mERROR: \u001b[22m\u001b[39mLoadError: ParseError:\n\u001b[90m# Error @ \u001b[0;0m\u001b]8;;file:///Users/durbadalghosh/git/BigRiverQTL.jl/src/BigRiverQTL.jl#77:21\u001b\\\u001b[90m/Users/durbadalghosh/git/BigRiverQTL.jl/src/BigRiverQTL.jl:77:21\u001b[0;0m\u001b]8;;\u001b\\\n    include(\"plots/plots_qtl.jl\")\n\u001b[90m#                   ┌─────────\u001b[0;0m\n    export plot_QTL \u001b[48;2;120;70;70mplot_QTL! \u001b[0;0m\n\u001b[48;2;120;70;70m\u001b[0;0m\n\u001b[48;2;120;70;70m    include(\"plots/plots_manhattan.jl\"\u001b[0;0m)\n\u001b[90m#────────────────────────────────────┘ ── \u001b[0;0m\u001b[91mExpected `end`\u001b[0;0m\nStacktrace:\n [1] top-level scope\n\u001b[90m   @\u001b[39m \u001b[90m~/git/BigRiverQTL.jl/src/\u001b[39m\u001b[90m\u001b[4mBigRiverQTL.jl:77\u001b[24m\u001b[39m\n [2] \u001b[0m\u001b[1minclude\u001b[22m\n\u001b[90m   @\u001b[39m \u001b[90m./\u001b[39m\u001b[90m\u001b[4mBase.jl:495\u001b[24m\u001b[39m\u001b[90m [inlined]\u001b[39m\n [3] \u001b[0m\u001b[1minclude_package_for_output\u001b[22m\u001b[0m\u001b[1m(\u001b[22m\u001b[90mpkg\u001b[39m::\u001b[0mBase.PkgId, \u001b[90minput\u001b[39m::\u001b[0mString, \u001b[90mdepot_path\u001b[39m::\u001b[0mVector\u001b[90m{String}\u001b[39m, \u001b[90mdl_load_path\u001b[39m::\u001b[0mVector\u001b[90m{String}\u001b[39m, \u001b[90mload_path\u001b[39m::\u001b[0mVector\u001b[90m{String}\u001b[39m, \u001b[90mconcrete_deps\u001b[39m::\u001b[0mVector\u001b[90m{Pair{Base.PkgId, UInt128}}\u001b[39m, \u001b[90msource\u001b[39m::\u001b[0mNothing\u001b[0m\u001b[1m)\u001b[22m\n\u001b[90m   @\u001b[39m \u001b[90mBase\u001b[39m \u001b[90m./\u001b[39m\u001b[90m\u001b[4mloading.jl:2222\u001b[24m\u001b[39m\n [4] top-level scope\n\u001b[90m   @\u001b[39m \u001b[90m\u001b[4mstdin:3\u001b[24m\u001b[39m\nin expression starting at /Users/durbadalghosh/git/BigRiverQTL.jl/src/BigRiverQTL.jl:77\nin expression starting at stdin:",
     "output_type": "error",
     "traceback": [
      "The following 1 direct dependency failed to precompile:\n\nBigRiverQTL [8f8ec94a-26d1-428c-aa0e-4e66223094bc]\n\nFailed to precompile BigRiverQTL [8f8ec94a-26d1-428c-aa0e-4e66223094bc] to \"/Users/durbadalghosh/.julia/compiled/v1.10/BigRiverQTL/jl_9kE19g\".\n\u001b[91m\u001b[1mERROR: \u001b[22m\u001b[39mLoadError: ParseError:\n\u001b[90m# Error @ \u001b[0;0m\u001b]8;;file:///Users/durbadalghosh/git/BigRiverQTL.jl/src/BigRiverQTL.jl#77:21\u001b\\\u001b[90m/Users/durbadalghosh/git/BigRiverQTL.jl/src/BigRiverQTL.jl:77:21\u001b[0;0m\u001b]8;;\u001b\\\n    include(\"plots/plots_qtl.jl\")\n\u001b[90m#                   ┌─────────\u001b[0;0m\n    export plot_QTL \u001b[48;2;120;70;70mplot_QTL! \u001b[0;0m\n\u001b[48;2;120;70;70m\u001b[0;0m\n\u001b[48;2;120;70;70m    include(\"plots/plots_manhattan.jl\"\u001b[0;0m)\n\u001b[90m#────────────────────────────────────┘ ── \u001b[0;0m\u001b[91mExpected `end`\u001b[0;0m\nStacktrace:\n [1] top-level scope\n\u001b[90m   @\u001b[39m \u001b[90m~/git/BigRiverQTL.jl/src/\u001b[39m\u001b[90m\u001b[4mBigRiverQTL.jl:77\u001b[24m\u001b[39m\n [2] \u001b[0m\u001b[1minclude\u001b[22m\n\u001b[90m   @\u001b[39m \u001b[90m./\u001b[39m\u001b[90m\u001b[4mBase.jl:495\u001b[24m\u001b[39m\u001b[90m [inlined]\u001b[39m\n [3] \u001b[0m\u001b[1minclude_package_for_output\u001b[22m\u001b[0m\u001b[1m(\u001b[22m\u001b[90mpkg\u001b[39m::\u001b[0mBase.PkgId, \u001b[90minput\u001b[39m::\u001b[0mString, \u001b[90mdepot_path\u001b[39m::\u001b[0mVector\u001b[90m{String}\u001b[39m, \u001b[90mdl_load_path\u001b[39m::\u001b[0mVector\u001b[90m{String}\u001b[39m, \u001b[90mload_path\u001b[39m::\u001b[0mVector\u001b[90m{String}\u001b[39m, \u001b[90mconcrete_deps\u001b[39m::\u001b[0mVector\u001b[90m{Pair{Base.PkgId, UInt128}}\u001b[39m, \u001b[90msource\u001b[39m::\u001b[0mNothing\u001b[0m\u001b[1m)\u001b[22m\n\u001b[90m   @\u001b[39m \u001b[90mBase\u001b[39m \u001b[90m./\u001b[39m\u001b[90m\u001b[4mloading.jl:2222\u001b[24m\u001b[39m\n [4] top-level scope\n\u001b[90m   @\u001b[39m \u001b[90m\u001b[4mstdin:3\u001b[24m\u001b[39m\nin expression starting at /Users/durbadalghosh/git/BigRiverQTL.jl/src/BigRiverQTL.jl:77\nin expression starting at stdin:",
      "",
      "Stacktrace:",
      "  [1] pkgerror(msg::String)",
      "    @ Pkg.Types ~/.julia/juliaup/julia-1.10.3+0.aarch64.apple.darwin14/share/julia/stdlib/v1.10/Pkg/src/Types.jl:70",
      "  [2] precompile(ctx::Pkg.Types.Context, pkgs::Vector{Pkg.Types.PackageSpec}; internal_call::Bool, strict::Bool, warn_loaded::Bool, already_instantiated::Bool, timing::Bool, _from_loading::Bool, kwargs::@Kwargs{io::IJulia.IJuliaStdio{Base.PipeEndpoint}})",
      "    @ Pkg.API ~/.julia/juliaup/julia-1.10.3+0.aarch64.apple.darwin14/share/julia/stdlib/v1.10/Pkg/src/API.jl:1659",
      "  [3] precompile(pkgs::Vector{Pkg.Types.PackageSpec}; io::IJulia.IJuliaStdio{Base.PipeEndpoint}, kwargs::@Kwargs{_from_loading::Bool})",
      "    @ Pkg.API ~/.julia/juliaup/julia-1.10.3+0.aarch64.apple.darwin14/share/julia/stdlib/v1.10/Pkg/src/API.jl:159",
      "  [4] precompile",
      "    @ ~/.julia/juliaup/julia-1.10.3+0.aarch64.apple.darwin14/share/julia/stdlib/v1.10/Pkg/src/API.jl:147 [inlined]",
      "  [5] #precompile#114",
      "    @ ~/.julia/juliaup/julia-1.10.3+0.aarch64.apple.darwin14/share/julia/stdlib/v1.10/Pkg/src/API.jl:146 [inlined]",
      "  [6] #invokelatest#2",
      "    @ ./essentials.jl:894 [inlined]",
      "  [7] invokelatest",
      "    @ ./essentials.jl:889 [inlined]",
      "  [8] _require(pkg::Base.PkgId, env::String)",
      "    @ Base ./loading.jl:1963",
      "  [9] __require_prelocked(uuidkey::Base.PkgId, env::String)",
      "    @ Base ./loading.jl:1812",
      " [10] #invoke_in_world#3",
      "    @ ./essentials.jl:926 [inlined]",
      " [11] invoke_in_world",
      "    @ ./essentials.jl:923 [inlined]",
      " [12] _require_prelocked(uuidkey::Base.PkgId, env::String)",
      "    @ Base ./loading.jl:1803",
      " [13] macro expansion",
      "    @ ./loading.jl:1790 [inlined]",
      " [14] macro expansion",
      "    @ ./lock.jl:267 [inlined]",
      " [15] __require(into::Module, mod::Symbol)",
      "    @ Base ./loading.jl:1753",
      " [16] #invoke_in_world#3",
      "    @ ./essentials.jl:926 [inlined]",
      " [17] invoke_in_world",
      "    @ ./essentials.jl:923 [inlined]",
      " [18] require(into::Module, mod::Symbol)",
      "    @ Base ./loading.jl:1746"
     ]
    }
   ],
   "source": [
    "# Libraries\n",
    "using BigRiverQTLPlots\n",
    "using Random, Statistics\n",
    "using Plots\n",
    "using Helium\n",
    "using BigRiverQTL\n",
    "using CSV\n",
    "using DataFrames\n",
    "using BulkLMM"
   ]
  },
  {
   "cell_type": "code",
   "execution_count": 5,
   "id": "b295953f-5a0e-4334-a6ce-2b478bbbb804",
   "metadata": {},
   "outputs": [],
   "source": [
    "##############\n",
    "# BXD spleen #\n",
    "##############\n",
    "\n",
    "########\n",
    "# Data #\n",
    "########\n",
    "data_dir = joinpath(@__DIR__, \"../data/BXD/\");\n",
    "file = joinpath(data_dir, \"bxd.json\");"
   ]
  },
  {
   "cell_type": "code",
   "execution_count": 6,
   "id": "4c9e4e74-d0b6-401c-98db-dac8a5c44ed8",
   "metadata": {},
   "outputs": [
    {
     "ename": "LoadError",
     "evalue": "UndefVarError: `get_geneticstudydata` not defined",
     "output_type": "error",
     "traceback": [
      "UndefVarError: `get_geneticstudydata` not defined",
      "",
      "Stacktrace:",
      " [1] top-level scope",
      "   @ In[6]:1"
     ]
    }
   ],
   "source": [
    "# Transforming data to a optimised and accessible data type\n",
    "data = get_geneticstudydata(file);"
   ]
  },
  {
   "cell_type": "code",
   "execution_count": 7,
   "id": "464012b2-9515-4e5c-b484-b99d466eb213",
   "metadata": {},
   "outputs": [
    {
     "ename": "LoadError",
     "evalue": "UndefVarError: `data` not defined",
     "output_type": "error",
     "traceback": [
      "UndefVarError: `data` not defined",
      "",
      "Stacktrace:",
      " [1] top-level scope",
      "   @ In[7]:1"
     ]
    }
   ],
   "source": [
    "# Data types\n",
    "gInfo=data.gmap;\n",
    "pInfo=data.phenocov;\n",
    "pheno=data.pheno;\n",
    "pheno=data.pheno.val;\n",
    "geno=reduce(hcat, data.geno.val);\n",
    "geno_processed=convert(Array{Float64}, geno);"
   ]
  },
  {
   "cell_type": "code",
   "execution_count": 8,
   "id": "63c0bfba-3b6d-49c6-9060-b672f20fde94",
   "metadata": {},
   "outputs": [
    {
     "ename": "LoadError",
     "evalue": "UndefVarError: `pheno` not defined",
     "output_type": "error",
     "traceback": [
      "UndefVarError: `pheno` not defined",
      "",
      "Stacktrace:",
      " [1] top-level scope",
      "   @ In[8]:4"
     ]
    }
   ],
   "source": [
    "#################\n",
    "# Preprocessing #\n",
    "#################\n",
    "traitID = 1112;\n",
    "pheno_y = pheno[:, traitID];\n",
    "pheno_y2=ones(length(pheno_y));\n",
    "idx_nothing = findall(x->x!=nothing,pheno_y)\n",
    "pheno_y2[idx_nothing]=pheno_y[idx_nothing];"
   ]
  },
  {
   "cell_type": "code",
   "execution_count": 9,
   "id": "01ba32dc-426c-4a4e-baa5-21f829a12cc6",
   "metadata": {},
   "outputs": [
    {
     "ename": "LoadError",
     "evalue": "UndefVarError: `kinship_gs` not defined",
     "output_type": "error",
     "traceback": [
      "UndefVarError: `kinship_gs` not defined",
      "",
      "Stacktrace:",
      " [1] top-level scope",
      "   @ In[9]:1"
     ]
    }
   ],
   "source": [
    "###########\n",
    "# Kinship #\n",
    "###########\n",
    "kinship = kinship_gs(geno_processed,.99);"
   ]
  },
  {
   "cell_type": "code",
   "execution_count": 10,
   "id": "d9b62999-ed62-4c44-b845-52c944dd28ba",
   "metadata": {},
   "outputs": [
    {
     "ename": "LoadError",
     "evalue": "UndefVarError: `scan` not defined",
     "output_type": "error",
     "traceback": [
      "UndefVarError: `scan` not defined",
      "",
      "Stacktrace:",
      " [1] top-level scope",
      "   @ In[10]:1"
     ]
    }
   ],
   "source": [
    "########\n",
    "# Scan #\n",
    "########\n",
    "\n",
    "single_results_perms = scan(\n",
    "\tpheno_y2,\n",
    "\tgeno_processed,\n",
    "\tkinship;\n",
    "\tpermutation_test = true,\n",
    "\tnperms = 1000,\n",
    ");"
   ]
  },
  {
   "cell_type": "code",
   "execution_count": 11,
   "id": "1d1c8e26-d00a-4d72-b38e-a3d814e33257",
   "metadata": {},
   "outputs": [
    {
     "ename": "LoadError",
     "evalue": "UndefVarError: `single_results_perms` not defined",
     "output_type": "error",
     "traceback": [
      "UndefVarError: `single_results_perms` not defined",
      "",
      "Stacktrace:",
      " [1] top-level scope",
      "   @ In[11]:7"
     ]
    }
   ],
   "source": [
    "#########\n",
    "# Plots #\n",
    "#########\n",
    "\n",
    "\n",
    "# QTL plots\n",
    "plot_QTL(single_results_perms, gInfo, mbColname = \"Pos\")\n",
    "\n",
    "\n",
    "\n"
   ]
  },
  {
   "cell_type": "code",
   "execution_count": 12,
   "id": "34a389dc-b3d9-440f-a411-1eb236de8bb7",
   "metadata": {},
   "outputs": [
    {
     "ename": "LoadError",
     "evalue": "UndefVarError: `single_results_perms` not defined",
     "output_type": "error",
     "traceback": [
      "UndefVarError: `single_results_perms` not defined",
      "",
      "Stacktrace:",
      " [1] top-level scope",
      "   @ In[12]:2"
     ]
    }
   ],
   "source": [
    "# Manhattan plots\n",
    "plot_manhattan(single_results_perms, gInfo, mbColname = \"Pos\")"
   ]
  },
  {
   "cell_type": "code",
   "execution_count": null,
   "id": "51299881-03f8-483a-b0ab-d485fd9b9477",
   "metadata": {},
   "outputs": [],
   "source": []
  }
 ],
 "metadata": {
  "jupytext": {
   "formats": "ipynb,jl:light"
  },
  "kernelspec": {
   "display_name": "Julia_6_Threads 1.10.3",
   "language": "julia",
   "name": "julia_6_threads-1.10"
  },
  "language_info": {
   "file_extension": ".jl",
   "mimetype": "application/julia",
   "name": "julia",
   "version": "1.10.3"
  }
 },
 "nbformat": 4,
 "nbformat_minor": 5
}
