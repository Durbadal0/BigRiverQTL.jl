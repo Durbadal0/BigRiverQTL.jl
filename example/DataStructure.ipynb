{
 "cells": [
  {
   "cell_type": "markdown",
   "id": "72b92a29-e4eb-4a29-8759-40fd802a23f9",
   "metadata": {},
   "source": [
    "# Data Structure for genomics data"
   ]
  },
  {
   "cell_type": "markdown",
   "id": "ddb7893a-7986-4874-8a44-42bdc428cbea",
   "metadata": {},
   "source": [
    "### geno: vector of 2D named Array of genotype data\n",
    "* one 2D array per chromosome\n",
    "* row names are genotype\n",
    "* columns names are markers\n",
    "* value: numeric"
   ]
  },
  {
   "cell_type": "code",
   "execution_count": 51,
   "id": "17842692-3420-42a5-b01c-ef6d60c5ef92",
   "metadata": {},
   "outputs": [],
   "source": [
    "struct geno2\n",
    "    gno_name::Vector{String}\n",
    "    chr_name::Vector{String}\n",
    "    mkrs_name::Vector{Vector{String}}\n",
    "    val::Vector{Array{Float64}}\n",
    "end"
   ]
  },
  {
   "cell_type": "markdown",
   "id": "29fde893-e148-425d-9389-0608f2170189",
   "metadata": {},
   "source": [
    "### gmap: vector of 1D named Array of genetic map\n",
    "* one 1D array per chromosome\n",
    "* row names are genotype\n",
    "* columns names are markers\n",
    "* value: numeric"
   ]
  },
  {
   "cell_type": "code",
   "execution_count": 60,
   "id": "b8f1c16f-45b9-4dae-b5b3-ca29c08ac9bc",
   "metadata": {},
   "outputs": [],
   "source": [
    "struct gmap\n",
    "    chr_name::Vector{String}\n",
    "    mkrs_name::Vector{Vector{String}}\n",
    "    val::Vector{Vector{Float64}}\n",
    "end\n",
    "    "
   ]
  },
  {
   "cell_type": "markdown",
   "id": "e25203ed-c92b-418b-9853-8c42411686c7",
   "metadata": {},
   "source": [
    "### pheno: vector of 2D named Array of phenotypes\n",
    "* row names are genotype\n",
    "* columns names are traits\n",
    "* value: numeric"
   ]
  },
  {
   "cell_type": "code",
   "execution_count": 58,
   "id": "5d46b391-b38a-4a7a-831d-f1b011fba479",
   "metadata": {},
   "outputs": [],
   "source": [
    "struct pheno\n",
    "    gno_name::Vector{String}\n",
    "    traits::Vector{String}\n",
    "    val::Array{Float64,2}\n",
    "end\n",
    "    "
   ]
  },
  {
   "cell_type": "markdown",
   "id": "d6a20023-2d3d-4738-bba3-ecd967316140",
   "metadata": {},
   "source": [
    "### phenocov: 1D named Array of phenotype covariates\n",
    "* row names are traits\n",
    "* columns contain description\n",
    "* value: character"
   ]
  },
  {
   "cell_type": "code",
   "execution_count": 59,
   "id": "f7c25593-3bdf-45d4-887c-4fd4b84a6664",
   "metadata": {},
   "outputs": [],
   "source": [
    "struct phenocov\n",
    "    traits::Vector{String}\n",
    "    dscrpt::Vector{String}\n",
    "end\n",
    "    "
   ]
  },
  {
   "cell_type": "markdown",
   "id": "495cee59-87d3-46d9-8e23-c5233bfa676c",
   "metadata": {},
   "source": [
    "### pmap: vector of 1D named Array of genetic map\n",
    "* one 1D array per chromosome\n",
    "* row names are genotype\n",
    "* columns names are markers\n",
    "* value: numeric"
   ]
  },
  {
   "cell_type": "code",
   "execution_count": 61,
   "id": "6add0766-8176-4b11-b02b-68f45af2465d",
   "metadata": {},
   "outputs": [],
   "source": [
    "struct pmap\n",
    "    chr_name::Vector{String}\n",
    "    mkrs_name::Vector{Vector{String}}\n",
    "    val::Vector{Vector{Float64}}\n",
    "end\n",
    "    "
   ]
  },
  {
   "cell_type": "markdown",
   "id": "639a8633-d7e6-4159-951c-90cb070a289b",
   "metadata": {},
   "source": [
    "### is_female: a named 1D-array of boolean values which individual/genotype is female"
   ]
  },
  {
   "cell_type": "code",
   "execution_count": 52,
   "id": "4344b6e6-7f6c-4461-be16-ea3a37a38cbc",
   "metadata": {
    "lines_to_next_cell": 2
   },
   "outputs": [],
   "source": [
    "struct is_female\n",
    "    chr_name::Vector{String}\n",
    "    is_f::Vector{Bool}\n",
    "end"
   ]
  },
  {
   "cell_type": "code",
   "execution_count": 54,
   "id": "df586af1-df69-4a0f-942b-7e0adae39c19",
   "metadata": {},
   "outputs": [],
   "source": [
    "struct cross_type\n",
    "    crs_typ::String\n",
    "end"
   ]
  },
  {
   "cell_type": "code",
   "execution_count": 55,
   "id": "85493515-71ef-44b4-97ca-e1710b6e93d5",
   "metadata": {},
   "outputs": [],
   "source": [
    "struct cross_info\n",
    "    crs_drc:: Vector{Int64}\n",
    "end"
   ]
  },
  {
   "cell_type": "code",
   "execution_count": 63,
   "id": "32c02006-9f86-4937-ad7f-8005549994c0",
   "metadata": {},
   "outputs": [],
   "source": [
    "struct alleles\n",
    "    allele::Vector{String}\n",
    "end"
   ]
  },
  {
   "cell_type": "code",
   "execution_count": 57,
   "id": "79a85603-0764-4703-827b-0cd881794293",
   "metadata": {},
   "outputs": [],
   "source": [
    "struct is_X_char\n",
    "    is_X::Vector{Bool}\n",
    "end"
   ]
  },
  {
   "cell_type": "code",
   "execution_count": 65,
   "id": "13b8ac14-7836-4064-817c-dc482c918bda",
   "metadata": {},
   "outputs": [],
   "source": [
    " struct geno_data1\n",
    "    cross_type::cross_type\n",
    "    geno::geno\n",
    "    gmap::gmap\n",
    "    pheno::pheno\n",
    "    pmap::pmap\n",
    "    phenocov::phenocov\n",
    "    is_X_char::is_X_char\n",
    "    is_female::is_female\n",
    "    cross_info::cross_info\n",
    "    alleles::alleles\n",
    "end\n",
    "    "
   ]
  }
 ],
 "metadata": {
  "jupytext": {
   "formats": "ipynb,jl:light"
  },
  "kernelspec": {
   "display_name": "Julia_6_Threads 1.10.3",
   "language": "julia",
   "name": "julia_6_threads-1.10"
  },
  "language_info": {
   "file_extension": ".jl",
   "mimetype": "application/julia",
   "name": "julia",
   "version": "1.10.3"
  }
 },
 "nbformat": 4,
 "nbformat_minor": 5
}
