{
 "cells": [
  {
   "cell_type": "code",
   "execution_count": 51,
   "id": "17842692-3420-42a5-b01c-ef6d60c5ef92",
   "metadata": {},
   "outputs": [],
   "source": [
    "struct geno2\n",
    "    gno_name::Vector{String}\n",
    "    chr_name::Vector{String}\n",
    "    mkrs_name::Vector{Vector{String}}\n",
    "    val::Vector{Array{Float64}}\n",
    "end"
   ]
  },
  {
   "cell_type": "code",
   "execution_count": 52,
   "id": "4344b6e6-7f6c-4461-be16-ea3a37a38cbc",
   "metadata": {
    "lines_to_next_cell": 2
   },
   "outputs": [],
   "source": [
    "struct is_female\n",
    "    is_f::Vector{Bool}\n",
    "end"
   ]
  },
  {
   "cell_type": "code",
   "execution_count": 53,
   "id": "040e5ebe-30a3-41dc-88cf-4bd707c94ba0",
   "metadata": {},
   "outputs": [
    {
     "data": {
      "text/plain": [
       "is_female(Bool[1, 0, 1])"
      ]
     },
     "execution_count": 53,
     "metadata": {},
     "output_type": "execute_result"
    }
   ],
   "source": [
    "IS_F=is_female([true, false, true])"
   ]
  },
  {
   "cell_type": "code",
   "execution_count": 54,
   "id": "df586af1-df69-4a0f-942b-7e0adae39c19",
   "metadata": {},
   "outputs": [],
   "source": [
    "struct cross_type\n",
    "    crs_typ::String\n",
    "end"
   ]
  },
  {
   "cell_type": "code",
   "execution_count": 55,
   "id": "85493515-71ef-44b4-97ca-e1710b6e93d5",
   "metadata": {},
   "outputs": [],
   "source": [
    "struct cross_info\n",
    "    crs_drc:: Vector{Int64}\n",
    "end"
   ]
  },
  {
   "cell_type": "code",
   "execution_count": 63,
   "id": "32c02006-9f86-4937-ad7f-8005549994c0",
   "metadata": {},
   "outputs": [],
   "source": [
    "struct alleles\n",
    "    allele::Vector{String}\n",
    "end"
   ]
  },
  {
   "cell_type": "code",
   "execution_count": 57,
   "id": "79a85603-0764-4703-827b-0cd881794293",
   "metadata": {},
   "outputs": [],
   "source": [
    "struct is_X_char\n",
    "    is_X::Vector{Bool}\n",
    "end"
   ]
  },
  {
   "cell_type": "code",
   "execution_count": 58,
   "id": "5d46b391-b38a-4a7a-831d-f1b011fba479",
   "metadata": {},
   "outputs": [],
   "source": [
    "struct pheno\n",
    "    gno_name::Vector{String}\n",
    "    traits::Vector{String}\n",
    "    val::Array{Float64,2}\n",
    "end\n",
    "    "
   ]
  },
  {
   "cell_type": "code",
   "execution_count": 59,
   "id": "f7c25593-3bdf-45d4-887c-4fd4b84a6664",
   "metadata": {},
   "outputs": [],
   "source": [
    "struct phenocov\n",
    "    traits::Vector{String}\n",
    "    dscrpt::Vector{String}\n",
    "end\n",
    "    "
   ]
  },
  {
   "cell_type": "code",
   "execution_count": 60,
   "id": "b8f1c16f-45b9-4dae-b5b3-ca29c08ac9bc",
   "metadata": {},
   "outputs": [],
   "source": [
    "struct gmap\n",
    "    chr_name::Vector{String}\n",
    "    mkrs_name::Vector{Vector{String}}\n",
    "    val::Vector{Vector{Float64}}\n",
    "end\n",
    "    "
   ]
  },
  {
   "cell_type": "code",
   "execution_count": 61,
   "id": "6add0766-8176-4b11-b02b-68f45af2465d",
   "metadata": {},
   "outputs": [],
   "source": [
    "struct pmap\n",
    "    chr_name::Vector{String}\n",
    "    mkrs_name::Vector{Vector{String}}\n",
    "    val::Vector{Vector{Float64}}\n",
    "end\n",
    "    "
   ]
  },
  {
   "cell_type": "code",
   "execution_count": 65,
   "id": "13b8ac14-7836-4064-817c-dc482c918bda",
   "metadata": {},
   "outputs": [],
   "source": [
    " struct geno_data1\n",
    "    cross_type::cross_type\n",
    "    geno::geno\n",
    "    gmap::gmap\n",
    "    pheno::pheno\n",
    "    pmap::pmap\n",
    "    phenocov::phenocov\n",
    "    is_X_char::is_X_char\n",
    "    is_female::is_female\n",
    "    cross_info::cross_info\n",
    "    alleles::alleles\n",
    "end\n",
    "    "
   ]
  }
 ],
 "metadata": {
  "jupytext": {
   "formats": "ipynb,jl:light"
  },
  "kernelspec": {
   "display_name": "Julia_6_Threads 1.10.3",
   "language": "julia",
   "name": "julia_6_threads-1.10"
  },
  "language_info": {
   "file_extension": ".jl",
   "mimetype": "application/julia",
   "name": "julia",
   "version": "1.10.3"
  }
 },
 "nbformat": 4,
 "nbformat_minor": 5
}
