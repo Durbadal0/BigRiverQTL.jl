{
 "cells": [
  {
   "cell_type": "markdown",
   "id": "72b92a29-e4eb-4a29-8759-40fd802a23f9",
   "metadata": {},
   "source": [
    "# Data Structure for genomics data"
   ]
  },
  {
   "cell_type": "markdown",
   "id": "12a6f9a7-d3e7-4a41-8dec-45c2de96e4bb",
   "metadata": {},
   "source": [
    "## Libraries"
   ]
  },
  {
   "cell_type": "code",
   "execution_count": 4,
   "id": "a91393d4-b8cb-435d-96c8-48a1e6b37086",
   "metadata": {},
   "outputs": [],
   "source": [
    "using Revise"
   ]
  },
  {
   "cell_type": "markdown",
   "id": "ddb7893a-7986-4874-8a44-42bdc428cbea",
   "metadata": {},
   "source": [
    "### `Geno`: vector of 2D named Array of genotype data\n",
    "* one 2D array per chromosome\n",
    "* `samples` contains sample names such as genotypes or individual IDs\n",
    "* `markers` contains marker names for each chromosome\n",
    "* `val` contains alleles information"
   ]
  },
  {
   "cell_type": "code",
   "execution_count": 3,
   "id": "17842692-3420-42a5-b01c-ef6d60c5ef92",
   "metadata": {},
   "outputs": [
    {
     "data": {
      "text/plain": [
       "Geno"
      ]
     },
     "execution_count": 3,
     "metadata": {},
     "output_type": "execute_result"
    }
   ],
   "source": [
    "\"\"\"\n",
    "`Geno` type containing genotype information for all chromosomes.\n",
    "\n",
    "* `samples` contains sample names such as genotypes or individual IDs\n",
    "* `chromosomes` contains chromosome names\n",
    "* `markers` contains marker names for each chromosome\n",
    "* `val` is a vector of matrices containing allele information in each chromosome\n",
    "\"\"\"\n",
    "struct Geno\n",
    "    samples::Vector{String}\n",
    "    chromosomes::Vector{String}\n",
    "    markers::Vector{Vector{String}}\n",
    "    val::Vector{Array{Int}}\n",
    "end"
   ]
  },
  {
   "cell_type": "code",
   "execution_count": 4,
   "id": "35fadbe3-f783-41e8-8741-c6d4fe2ec587",
   "metadata": {},
   "outputs": [
    {
     "name": "stdout",
     "output_type": "stream",
     "text": [
      "search: \u001b[0m\u001b[1mG\u001b[22m\u001b[0m\u001b[1me\u001b[22m\u001b[0m\u001b[1mn\u001b[22m\u001b[0m\u001b[1mo\u001b[22m \u001b[0m\u001b[1mg\u001b[22m\u001b[0m\u001b[1me\u001b[22m\u001b[0m\u001b[1mn\u001b[22m\u001b[0m\u001b[1mo\u001b[22m Se\u001b[0m\u001b[1mg\u001b[22mm\u001b[0m\u001b[1me\u001b[22m\u001b[0m\u001b[1mn\u001b[22mtati\u001b[0m\u001b[1mo\u001b[22mnFault Ar\u001b[0m\u001b[1mg\u001b[22mum\u001b[0m\u001b[1me\u001b[22m\u001b[0m\u001b[1mn\u001b[22mtErr\u001b[0m\u001b[1mo\u001b[22mr \u001b[0m\u001b[1mg\u001b[22m\u001b[0m\u001b[1me\u001b[22mt_zero_sub\u001b[0m\u001b[1mn\u001b[22m\u001b[0m\u001b[1mo\u001b[22mrmals \u001b[0m\u001b[1mg\u001b[22m\u001b[0m\u001b[1me\u001b[22m\u001b[0m\u001b[1mn\u001b[22msym\n",
      "\n"
     ]
    },
    {
     "data": {
      "text/latex": [
       "\\texttt{Geno} type\n",
       "\n",
       "\\begin{itemize}\n",
       "\\item \\texttt{samples} contains sample names such as genotypes or individual IDs\n",
       "\n",
       "\n",
       "\\item \\texttt{chromosomes} contains chromosome names\n",
       "\n",
       "\n",
       "\\item \\texttt{markers} contains marker names for each chromosome\n",
       "\n",
       "\n",
       "\\item \\texttt{val} is a vector of matrices containing allele information in each chromosome\n",
       "\n",
       "\\end{itemize}\n"
      ],
      "text/markdown": [
       "`Geno` type\n",
       "\n",
       "  * `samples` contains sample names such as genotypes or individual IDs\n",
       "  * `chromosomes` contains chromosome names\n",
       "  * `markers` contains marker names for each chromosome\n",
       "  * `val` is a vector of matrices containing allele information in each chromosome\n"
      ],
      "text/plain": [
       "  \u001b[36mGeno\u001b[39m type\n",
       "\n",
       "    •  \u001b[36msamples\u001b[39m contains sample names such as genotypes or individual IDs\n",
       "\n",
       "    •  \u001b[36mchromosomes\u001b[39m contains chromosome names\n",
       "\n",
       "    •  \u001b[36mmarkers\u001b[39m contains marker names for each chromosome\n",
       "\n",
       "    •  \u001b[36mval\u001b[39m is a vector of matrices containing allele information in each\n",
       "       chromosome"
      ]
     },
     "execution_count": 4,
     "metadata": {},
     "output_type": "execute_result"
    }
   ],
   "source": [
    "?Geno"
   ]
  },
  {
   "cell_type": "markdown",
   "id": "29fde893-e148-425d-9389-0608f2170189",
   "metadata": {},
   "source": [
    "### `Gmap`: vector of 1D named Array of genetic map\n",
    "\n",
    "* `chromosomes` contains chromosomes names\n",
    "* `markers` contains markers's names for each chromosome\n",
    "* `val` contains relative position of markers in each chromosome"
   ]
  },
  {
   "cell_type": "code",
   "execution_count": 5,
   "id": "b8f1c16f-45b9-4dae-b5b3-ca29c08ac9bc",
   "metadata": {
    "lines_to_next_cell": 2
   },
   "outputs": [],
   "source": [
    "struct Gmap\n",
    "    chromosomes::Vector{String}\n",
    "    markers::Vector{Vector{String}}\n",
    "    val::Vector{Vector{Float64}}\n",
    "end"
   ]
  },
  {
   "cell_type": "markdown",
   "id": "e25203ed-c92b-418b-9853-8c42411686c7",
   "metadata": {},
   "source": [
    "### pheno: vector of 2D named Array of phenotypes\n",
    "* row names are genotype\n",
    "* columns names are traits\n",
    "* value: numeric"
   ]
  },
  {
   "cell_type": "code",
   "execution_count": 58,
   "id": "5d46b391-b38a-4a7a-831d-f1b011fba479",
   "metadata": {
    "lines_to_next_cell": 2
   },
   "outputs": [],
   "source": [
    "struct Pheno\n",
    "    samples::Vector{String}\n",
    "    traits::Vector{String}\n",
    "    val::Matrix{Float64}\n",
    "end"
   ]
  },
  {
   "cell_type": "markdown",
   "id": "d6a20023-2d3d-4738-bba3-ecd967316140",
   "metadata": {},
   "source": [
    "### phenocov: 1D named Array of phenotype covariates\n",
    "* row names are traits\n",
    "* columns contain description\n",
    "* value: character"
   ]
  },
  {
   "cell_type": "code",
   "execution_count": 59,
   "id": "f7c25593-3bdf-45d4-887c-4fd4b84a6664",
   "metadata": {
    "lines_to_next_cell": 2
   },
   "outputs": [],
   "source": [
    "struct Phenocov\n",
    "    traits::Vector{String}\n",
    "    descriptions::Vector{String}\n",
    "end"
   ]
  },
  {
   "cell_type": "markdown",
   "id": "495cee59-87d3-46d9-8e23-c5233bfa676c",
   "metadata": {},
   "source": [
    "### pmap: vector of 1D named Array of genetic map\n",
    "* one 1D array per chromosome\n",
    "* row names are genotype\n",
    "* columns names are markers\n",
    "* value: numeric"
   ]
  },
  {
   "cell_type": "code",
   "execution_count": 13,
   "id": "6add0766-8176-4b11-b02b-68f45af2465d",
   "metadata": {
    "lines_to_next_cell": 2
   },
   "outputs": [
    {
     "data": {
      "text/plain": [
       "Pmap"
      ]
     },
     "execution_count": 13,
     "metadata": {},
     "output_type": "execute_result"
    }
   ],
   "source": [
    "\"\"\"\n",
    "`Pmap` type contains the genetic map showing the relative location of genetic markers as phenotype.\n",
    "\n",
    "\"\"\"\n",
    "struct Pmap\n",
    "    chromosomes::Vector{String}\n",
    "    markers::Vector{Vector{String}}\n",
    "    locations::Vector{Vector{Float64}}\n",
    "    unit::String\n",
    "end"
   ]
  },
  {
   "cell_type": "markdown",
   "id": "639a8633-d7e6-4159-951c-90cb070a289b",
   "metadata": {},
   "source": [
    "### is_female: a named 1D-array of boolean values which individual/genotype is female"
   ]
  },
  {
   "cell_type": "code",
   "execution_count": 52,
   "id": "4344b6e6-7f6c-4461-be16-ea3a37a38cbc",
   "metadata": {
    "lines_to_next_cell": 2
   },
   "outputs": [],
   "source": [
    "struct IsFemale\n",
    "    samples::Vector{String}\n",
    "    isfemale::Vector{Bool}\n",
    "end"
   ]
  },
  {
   "cell_type": "code",
   "execution_count": 54,
   "id": "df586af1-df69-4a0f-942b-7e0adae39c19",
   "metadata": {},
   "outputs": [],
   "source": [
    "struct cross_type\n",
    "    crs_typ::String\n",
    "end"
   ]
  },
  {
   "cell_type": "code",
   "execution_count": 55,
   "id": "85493515-71ef-44b4-97ca-e1710b6e93d5",
   "metadata": {},
   "outputs": [],
   "source": [
    "struct cross_info\n",
    "    crs_drc:: Vector{Int64}\n",
    "end"
   ]
  },
  {
   "cell_type": "code",
   "execution_count": 63,
   "id": "32c02006-9f86-4937-ad7f-8005549994c0",
   "metadata": {},
   "outputs": [],
   "source": [
    "struct alleles\n",
    "    allele::Vector{String}\n",
    "end"
   ]
  },
  {
   "cell_type": "code",
   "execution_count": null,
   "id": "641d21a0-b0dd-4858-ba02-7de67b10602c",
   "metadata": {
    "lines_to_next_cell": 2
   },
   "outputs": [],
   "source": [
    "struct is_X_char\n",
    "    chromosomes::Vector{String}\n",
    "    is_X::Vector{Bool}\n",
    "end"
   ]
  },
  {
   "cell_type": "code",
   "execution_count": null,
   "id": "f9b86678-1968-4b71-951e-2864ac47deac",
   "metadata": {
    "lines_to_next_cell": 2
   },
   "outputs": [],
   "source": [
    "struct BigRiverQTLData\n",
    "    cross_type::cross_type\n",
    "    geno::geno\n",
    "    gmap::gmap\n",
    "    pheno::pheno\n",
    "    pmap::pmap\n",
    "    phenocov::phenocov\n",
    "    is_X_char::is_X_char\n",
    "    is_female::is_female\n",
    "    cross_info::cross_info\n",
    "    alleles::alleles\n",
    "end"
   ]
  }
 ],
 "metadata": {
  "jupytext": {
   "formats": "ipynb,jl:light"
  },
  "kernelspec": {
   "display_name": "Julia 1.10.4",
   "language": "julia",
   "name": "julia-1.10"
  },
  "language_info": {
   "file_extension": ".jl",
   "mimetype": "application/julia",
   "name": "julia",
   "version": "1.10.4"
  }
 },
 "nbformat": 4,
 "nbformat_minor": 5
}
