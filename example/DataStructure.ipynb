{
 "cells": [
  {
   "cell_type": "markdown",
   "id": "72b92a29-e4eb-4a29-8759-40fd802a23f9",
   "metadata": {},
   "source": [
    "# Data Structure for genomics data"
   ]
  },
  {
   "cell_type": "markdown",
   "id": "12a6f9a7-d3e7-4a41-8dec-45c2de96e4bb",
   "metadata": {},
   "source": [
    "## Libraries"
   ]
  },
  {
   "cell_type": "code",
   "execution_count": 13,
   "id": "a91393d4-b8cb-435d-96c8-48a1e6b37086",
   "metadata": {},
   "outputs": [],
   "source": [
    "using Revise"
   ]
  },
  {
   "cell_type": "markdown",
   "id": "ddb7893a-7986-4874-8a44-42bdc428cbea",
   "metadata": {},
   "source": [
    "### `Geno` type containing genotype information for all chromosomes.\n",
    "* `samples` contains sample names such as genotypes or individual IDs.\n",
    "* `chromosomes` contains chromosome names.\n",
    "* `markers` contains marker names for each chromosome.\n",
    "* `val` is a vector of matrices containing allele information in each chromosome."
   ]
  },
  {
   "cell_type": "code",
   "execution_count": 14,
   "id": "17842692-3420-42a5-b01c-ef6d60c5ef92",
   "metadata": {},
   "outputs": [
    {
     "data": {
      "text/plain": [
       "Geno"
      ]
     },
     "execution_count": 14,
     "metadata": {},
     "output_type": "execute_result"
    }
   ],
   "source": [
    "\"\"\"\n",
    "`Geno` type containing genotype information for all chromosomes.\n",
    "\n",
    "* `samples` contains sample names such as genotypes or individual IDs.\n",
    "* `chromosomes` contains chromosome names.\n",
    "* `markers` contains marker names for each chromosome.\n",
    "* `val` is a vector of matrices containing allele information in each chromosome.\n",
    "\"\"\"\n",
    "struct Geno\n",
    "    samples::Vector{String}\n",
    "    chromosomes::Vector{String}\n",
    "    markers::Vector{Vector{String}}\n",
    "    val::Vector{Array{Int}}\n",
    "end"
   ]
  },
  {
   "cell_type": "markdown",
   "id": "29fde893-e148-425d-9389-0608f2170189",
   "metadata": {},
   "source": [
    "### `Gmap` type containing relative position of markers in each chromosome.\n",
    "\n",
    "* `chromosomes` contains chromosomes names.\n",
    "* `markers` contains markers's names for each chromosome.\n",
    "* `val` is a vector of vector  containing relative position of markers in each chromosome."
   ]
  },
  {
   "cell_type": "code",
   "execution_count": 15,
   "id": "b8f1c16f-45b9-4dae-b5b3-ca29c08ac9bc",
   "metadata": {
    "lines_to_next_cell": 2
   },
   "outputs": [
    {
     "data": {
      "text/plain": [
       "Gmap"
      ]
     },
     "execution_count": 15,
     "metadata": {},
     "output_type": "execute_result"
    }
   ],
   "source": [
    "\"\"\"\n",
    "`Gmap` type containing relative position of markers in each chromosome.\n",
    "\n",
    "* `chromosomes` contains chromosomes names.\n",
    "* `markers` contains markers's names for each chromosome.\n",
    "* `val` is a vector of vector  containing relative position of markers in each chromosome.\n",
    "\"\"\"\n",
    "struct Gmap\n",
    "    chromosomes::Vector{String}\n",
    "    markers::Vector{Vector{String}}\n",
    "    val::Vector{Vector{Float64}}\n",
    "end"
   ]
  },
  {
   "cell_type": "markdown",
   "id": "e25203ed-c92b-418b-9853-8c42411686c7",
   "metadata": {},
   "source": [
    "### `Pheno` type containing phenotypes information.\n",
    "* `samples` contains sample names such as genotypes or individual IDs.\n",
    "* `traits` contains trait names.\n",
    "*  `val` is a matrix containing phenotype/ traits values.  "
   ]
  },
  {
   "cell_type": "code",
   "execution_count": 16,
   "id": "5d46b391-b38a-4a7a-831d-f1b011fba479",
   "metadata": {
    "lines_to_next_cell": 2
   },
   "outputs": [
    {
     "data": {
      "text/plain": [
       "Pheno"
      ]
     },
     "execution_count": 16,
     "metadata": {},
     "output_type": "execute_result"
    }
   ],
   "source": [
    "\"\"\"\n",
    "`Pheno` type containing phenotypes information.\n",
    "* `samples` contains sample names such as genotypes or individual IDs.\n",
    "* `traits` contains trait names.\n",
    "*  `val` is a matrix containing phenotype/ traits values.\n",
    "\"\"\"\n",
    "struct Pheno\n",
    "    samples::Vector{String}\n",
    "    traits::Vector{String}\n",
    "    val::Matrix{Float64}\n",
    "end"
   ]
  },
  {
   "cell_type": "markdown",
   "id": "d6a20023-2d3d-4738-bba3-ecd967316140",
   "metadata": {},
   "source": [
    "### `Phenocov`: type containing the description of the phenotypes.\n",
    "* `traits` contains trait names.\n",
    "* `descriptions` is a vector containing the description for each phenotype.\n",
    "  "
   ]
  },
  {
   "cell_type": "code",
   "execution_count": 17,
   "id": "f7c25593-3bdf-45d4-887c-4fd4b84a6664",
   "metadata": {
    "lines_to_next_cell": 2
   },
   "outputs": [
    {
     "data": {
      "text/plain": [
       "Phenocov"
      ]
     },
     "execution_count": 17,
     "metadata": {},
     "output_type": "execute_result"
    }
   ],
   "source": [
    "\"\"\"\n",
    "`Phenocov`: type containing the description of the phenotypes.\n",
    "* `traits` contains trait names.\n",
    "* `descriptions` is a vector containing the description for each phenotype.\n",
    "\"\"\"\n",
    "struct Phenocov\n",
    "    traits::Vector{String}\n",
    "    descriptions::Vector{String}\n",
    "end"
   ]
  },
  {
   "cell_type": "markdown",
   "id": "495cee59-87d3-46d9-8e23-c5233bfa676c",
   "metadata": {},
   "source": [
    "### `Pmap`: type contains the genetic map showing the relative location of genetic markers as phenotype.\n",
    "* `chromosomes` contains chromosomes names\n",
    "* `markers` contains markers's names for each chromosome\n",
    "* `val` is a vector of vector containing relative position of markers as phenotypes in each chromosome"
   ]
  },
  {
   "cell_type": "code",
   "execution_count": 18,
   "id": "6add0766-8176-4b11-b02b-68f45af2465d",
   "metadata": {
    "lines_to_next_cell": 2
   },
   "outputs": [
    {
     "data": {
      "text/plain": [
       "Pmap"
      ]
     },
     "execution_count": 18,
     "metadata": {},
     "output_type": "execute_result"
    }
   ],
   "source": [
    "\"\"\"\n",
    " `Pmap`: type contains the genetic map showing the relative location of genetic markers as phenotype.\n",
    "* `chromosomes` contains chromosomes names.\n",
    "* `markers` contains markers's names for each chromosome.\n",
    "* `val` is a vector of vector containing relative position of markers as phenotypes in each chromosome.\n",
    "\"\"\"\n",
    "struct Pmap\n",
    "    chromosomes::Vector{String}\n",
    "    markers::Vector{Vector{String}}\n",
    "    locations::Vector{Vector{Float64}}\n",
    "    unit::String\n",
    "end"
   ]
  },
  {
   "cell_type": "markdown",
   "id": "639a8633-d7e6-4159-951c-90cb070a289b",
   "metadata": {},
   "source": [
    "### IsFemale: type indicating if the samples (genotypes or individuals) are females.\n",
    "* `samples` contains sample names such as genotypes or individual IDs.\n",
    "* `isfemale` is a vector containing boolean values indicating if each sample (genotype or individual) is a female."
   ]
  },
  {
   "cell_type": "code",
   "execution_count": 19,
   "id": "4344b6e6-7f6c-4461-be16-ea3a37a38cbc",
   "metadata": {
    "lines_to_next_cell": 2
   },
   "outputs": [
    {
     "data": {
      "text/plain": [
       "IsFemale"
      ]
     },
     "execution_count": 19,
     "metadata": {},
     "output_type": "execute_result"
    }
   ],
   "source": [
    "\"\"\"\n",
    "IsFemale: type indicating if the samples (genotypes or individuals) are females.\n",
    "* `samples` contains sample names such as genotypes or individual IDs.\n",
    "* `isfemale` is a vector containing boolean values indicating if each sample (genotype or individual) is a female.\n",
    "\"\"\"\n",
    "struct IsFemale\n",
    "    samples::Vector{String}\n",
    "    isfemale::Vector{Bool}\n",
    "end"
   ]
  },
  {
   "cell_type": "markdown",
   "id": "0cc2a30f-a515-40b2-9cb2-f8abb5cb8a30",
   "metadata": {},
   "source": [
    "### `CrossType`: type containing the cross type for example: risib => Recombinant inbred lines (RILs) by sibling mating.\n",
    "* crs_typ is a string indicating the type of the cross."
   ]
  },
  {
   "cell_type": "code",
   "execution_count": 20,
   "id": "df586af1-df69-4a0f-942b-7e0adae39c19",
   "metadata": {},
   "outputs": [
    {
     "data": {
      "text/plain": [
       "CrossType"
      ]
     },
     "execution_count": 20,
     "metadata": {},
     "output_type": "execute_result"
    }
   ],
   "source": [
    "\"\"\"\n",
    "`CrossType`: type containing the cross type for example: risib => Recombinant inbred lines (RILs) by sibling mating.\n",
    "* crs_typ is a string indicating the type of the cross.\n",
    "\"\"\"\n",
    "struct CrossType\n",
    "    crs_typ::String\n",
    "end"
   ]
  },
  {
   "cell_type": "markdown",
   "id": "a3f3ddc2-9e42-4641-b3a1-209fe43ab08c",
   "metadata": {},
   "source": [
    "### `CrossInfo`: type containing information about the cross direction of samples.\n",
    "* `samples` contains sample names such as genotypes or individual IDs.\n",
    "* `crsdrc` is a vector containing the cross direction of samples."
   ]
  },
  {
   "cell_type": "code",
   "execution_count": 21,
   "id": "85493515-71ef-44b4-97ca-e1710b6e93d5",
   "metadata": {},
   "outputs": [
    {
     "data": {
      "text/plain": [
       "CrossInfo"
      ]
     },
     "execution_count": 21,
     "metadata": {},
     "output_type": "execute_result"
    }
   ],
   "source": [
    "\"\"\"\n",
    "`CrossInfo`: type containing information about the cross direction of samples.\n",
    "* `samples` contains sample names such as genotypes or individual IDs.\n",
    "* `crsdrc` is a vector containing the cross direction of samples.\n",
    "\"\"\"\n",
    "struct CrossInfo\n",
    "    samples::Vector{String}\n",
    "    crsdrc:: Vector{Int}\n",
    "end"
   ]
  },
  {
   "cell_type": "markdown",
   "id": "1c441bb0-5262-472a-88b9-4293be13f373",
   "metadata": {},
   "source": [
    "### `Alleles`: type containing the names of the alleles.\n",
    "* `allele` is a vector containing the names of the alleles."
   ]
  },
  {
   "cell_type": "code",
   "execution_count": 22,
   "id": "32c02006-9f86-4937-ad7f-8005549994c0",
   "metadata": {},
   "outputs": [
    {
     "data": {
      "text/plain": [
       "Alleles"
      ]
     },
     "execution_count": 22,
     "metadata": {},
     "output_type": "execute_result"
    }
   ],
   "source": [
    "\"\"\"\n",
    "`Alleles`: type containing the names of the alleles.\n",
    "* `allele` is a vector containing the names of the alleles.\n",
    "\"\"\"\n",
    "struct Alleles\n",
    "    allele::Vector{String}\n",
    "end"
   ]
  },
  {
   "cell_type": "markdown",
   "id": "36bf5acb-f4b3-4316-9f75-d8085a07d076",
   "metadata": {},
   "source": [
    "### `IsXChar`: type indicating which chromosome is the X one.\n",
    "* `chromosomes` contains chromosome names.\n",
    "* `isX` is a vector of boolean values indicating which chromosome is the X one."
   ]
  },
  {
   "cell_type": "code",
   "execution_count": 23,
   "id": "641d21a0-b0dd-4858-ba02-7de67b10602c",
   "metadata": {
    "lines_to_next_cell": 2
   },
   "outputs": [
    {
     "data": {
      "text/plain": [
       "IsXChar"
      ]
     },
     "execution_count": 23,
     "metadata": {},
     "output_type": "execute_result"
    }
   ],
   "source": [
    "\"\"\"\n",
    "`IsXChar`: type indicating which chromosome is the X one.\n",
    "* `chromosomes` contains chromosome names.\n",
    "* `isX` is a vector of boolean values indicating which chromosome is the X one.\n",
    "\"\"\"\n",
    "struct IsXChar\n",
    "    chromosomes::Vector{String}\n",
    "    isX::Vector{Bool}\n",
    "end"
   ]
  },
  {
   "cell_type": "markdown",
   "id": "e0c7184a-1c0a-448b-9773-4b76ace2b5ff",
   "metadata": {},
   "source": [
    "### `BigRiverQTLData`: type containing genomics data suitable to use for QTL analysis using the BigRiverQTl package.\n",
    "* `geno` is a object of type `Geno`. Refer to `Geno` type for more imformation.\n",
    "* `gmap` is a object of type `Gmap`. Refer to `Gmap` type for more imformation.\n",
    "* `pheno` is a object of type `Pheno`. Refer to `Pheno` type for more imformation.\n",
    "* `pmap` is a object of type `Pmap`. Refer to `Pmap` type for more imformation.\n",
    "* `phenocov` is a object of type `Phenocov`. Refer to `Phenocov` type for more imformation.\n",
    "* `isXchar` is a object of type `IsXChar`. Refer to `IsXChar` type for more imformation.\n",
    "* `isfemale` is a object of type `IsFemale`. Refer to `IsFemale` type for more imformation.\n",
    "* `crosstype` is a object of type `CrossType`. Refer to `CrossType` type for more imformation.\n",
    "* `crossinfo` is a object of type `CrossInfo`. Refer to `CrossInfo` type for more imformation.\n",
    "* `alleles` is a object of type `Alleles`. Refer to `Alleles` type for more imformation."
   ]
  },
  {
   "cell_type": "code",
   "execution_count": 24,
   "id": "f9b86678-1968-4b71-951e-2864ac47deac",
   "metadata": {},
   "outputs": [
    {
     "data": {
      "text/plain": [
       "BigRiverQTLData"
      ]
     },
     "execution_count": 24,
     "metadata": {},
     "output_type": "execute_result"
    }
   ],
   "source": [
    "\"\"\"\n",
    "`BigRiverQTLData`: type containing genomics data suitable to use for QTL analysis using the BigRiverQTl package.\n",
    "* `geno` is a object of type `Geno`. Refer to `Geno` type for more imformation.\n",
    "* `gmap` is a object of type `Gmap`. Refer to `Gmap` type for more imformation.\n",
    "* `pheno` is a object of type `Pheno`. Refer to `Pheno` type for more imformation.\n",
    "* `pmap` is a object of type `Pmap`. Refer to `Pmap` type for more imformation.\n",
    "* `phenocov` is a object of type `Phenocov`. Refer to `Phenocov` type for more imformation.\n",
    "* `isXchar` is a object of type `IsXChar`. Refer to `IsXChar` type for more imformation.\n",
    "* `isfemale` is a object of type `IsFemale`. Refer to `IsFemale` type for more imformation.\n",
    "* `crosstype` is a object of type `CrossType`. Refer to `CrossType` type for more imformation.\n",
    "* `crossinfo` is a object of type `CrossInfo`. Refer to `CrossInfo` type for more imformation.\n",
    "* `alleles` is a object of type `Alleles`. Refer to `Alleles` type for more imformation.\n",
    "\"\"\"\n",
    "struct BigRiverQTLData\n",
    "    geno::Geno\n",
    "    gmap::Gmap\n",
    "    pheno::Pheno\n",
    "    pmap::Pmap\n",
    "    phenocov::Phenocov\n",
    "    isXchar::IsXChar\n",
    "    isfemale::IsFemale\n",
    "    crosstype::CrossType\n",
    "    crossinfo::CrossInfo\n",
    "    alleles::Alleles\n",
    "end"
   ]
  }
 ],
 "metadata": {
  "jupytext": {
   "formats": "ipynb,jl:light"
  },
  "kernelspec": {
   "display_name": "Julia_6_Threads 1.10.3",
   "language": "julia",
   "name": "julia_6_threads-1.10"
  },
  "language_info": {
   "file_extension": ".jl",
   "mimetype": "application/julia",
   "name": "julia",
   "version": "1.10.3"
  }
 },
 "nbformat": 4,
 "nbformat_minor": 5
}
