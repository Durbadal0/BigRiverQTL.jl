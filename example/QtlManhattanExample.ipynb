{
 "cells": [
  {
   "cell_type": "code",
   "execution_count": 4,
   "id": "6b6eedcc-ce69-46f8-b1ec-4bdd9f4d58ea",
   "metadata": {},
   "outputs": [
    {
     "name": "stderr",
     "output_type": "stream",
     "text": [
      "\u001b[32m\u001b[1m  Activating\u001b[22m\u001b[39m project at `~/git/BigRiverQTL.jl`\n"
     ]
    }
   ],
   "source": [
    "using Pkg\n",
    "Pkg.activate(\"../\")\n"
   ]
  },
  {
   "cell_type": "code",
   "execution_count": 5,
   "id": "4885c3b2-c740-4898-ba51-3210ad30fb8b",
   "metadata": {},
   "outputs": [
    {
     "name": "stderr",
     "output_type": "stream",
     "text": [
      "\u001b[32m\u001b[1mPrecompiling\u001b[22m\u001b[39m project...\n",
      "\u001b[36m\u001b[1m        Info\u001b[22m\u001b[39m Given BigRiverQTL was explicitly requested, output will be shown live \u001b[0K\n",
      "\u001b[0KWARNING: Method definition plot_eQTL(Array{Float64, 2}, DataFrames.DataFrame, DataFrames.DataFrame) in module BigRiverQTLPlots at /Users/durbadalghosh/.julia/packages/BigRiverQTLPlots/3RIW6/src/eqtl/plot_eQTL.jl:15 overwritten in module BigRiverQTL at /Users/durbadalghosh/git/BigRiverQTL.jl/src/plots/plots_eqtl.jl:15.\n",
      "\u001b[0KERROR: Method overwriting is not permitted during Module precompilation. Use `__precompile__(false)` to opt-out of precompilation.\n",
      "\u001b[33m  ? \u001b[39mBigRiverQTL\n"
     ]
    }
   ],
   "source": [
    "Pkg.instantiate()"
   ]
  },
  {
   "cell_type": "code",
   "execution_count": 3,
   "id": "a586da13-d121-4a12-980b-6d16e1d78296",
   "metadata": {},
   "outputs": [
    {
     "name": "stderr",
     "output_type": "stream",
     "text": [
      "\u001b[32m\u001b[1mPrecompiling\u001b[22m\u001b[39m BigRiverQTL\n",
      "\u001b[36m\u001b[1m        Info\u001b[22m\u001b[39m Given BigRiverQTL was explicitly requested, output will be shown live \u001b[0K\n",
      "\u001b[0KWARNING: Method definition plot_eQTL(Array{Float64, 2}, DataFrames.DataFrame, DataFrames.DataFrame) in module BigRiverQTLPlots at /Users/durbadalghosh/.julia/packages/BigRiverQTLPlots/3RIW6/src/eqtl/plot_eQTL.jl:15 overwritten in module BigRiverQTL at /Users/durbadalghosh/git/BigRiverQTL.jl/src/plots/plots_eqtl.jl:15.\n",
      "\u001b[0KERROR: Method overwriting is not permitted during Module precompilation. Use `__precompile__(false)` to opt-out of precompilation.\n",
      "\u001b[33m  ? \u001b[39mBigRiverQTL\n",
      "\u001b[36m\u001b[1m[ \u001b[22m\u001b[39m\u001b[36m\u001b[1mInfo: \u001b[22m\u001b[39mPrecompiling BigRiverQTL [8f8ec94a-26d1-428c-aa0e-4e66223094bc]\n",
      "WARNING: Method definition plot_eQTL(Array{Float64, 2}, DataFrames.DataFrame, DataFrames.DataFrame) in module BigRiverQTLPlots at /Users/durbadalghosh/.julia/packages/BigRiverQTLPlots/3RIW6/src/eqtl/plot_eQTL.jl:15 overwritten in module BigRiverQTL at /Users/durbadalghosh/git/BigRiverQTL.jl/src/plots/plots_eqtl.jl:15.\n",
      "ERROR: Method overwriting is not permitted during Module precompilation. Use `__precompile__(false)` to opt-out of precompilation.\n",
      "\u001b[36m\u001b[1m[ \u001b[22m\u001b[39m\u001b[36m\u001b[1mInfo: \u001b[22m\u001b[39mSkipping precompilation since __precompile__(false). Importing BigRiverQTL [8f8ec94a-26d1-428c-aa0e-4e66223094bc].\n"
     ]
    }
   ],
   "source": [
    "# Libraries\n",
    "using BigRiverQTLPlots\n",
    "using Random, Statistics\n",
    "using Plots\n",
    "using Helium\n",
    "using BigRiverQTL\n",
    "using CSV\n",
    "using DataFrames\n",
    "using BulkLMM"
   ]
  },
  {
   "cell_type": "code",
   "execution_count": null,
   "id": "9c02a7d6-d794-4811-9589-aa1d455bcf82",
   "metadata": {},
   "outputs": [],
   "source": [
    "##############\n",
    "# BXD spleen #\n",
    "##############\n",
    "\n",
    "########\n",
    "# Data #\n",
    "########\n",
    "data_dir = joinpath(@__DIR__, \"../data/BXD/\");\n",
    "file = joinpath(data_dir, \"bxd.json\");"
   ]
  },
  {
   "cell_type": "code",
   "execution_count": null,
   "id": "41dbfea7-91b4-4342-bc6f-dca6765d9f2a",
   "metadata": {},
   "outputs": [],
   "source": [
    "# Transforming data to a optimised and accessible data type\n",
    "data = get_geneticstudydata(file);\n"
   ]
  },
  {
   "cell_type": "code",
   "execution_count": null,
   "id": "e7086b1b-99b5-40cb-bfdf-f73e994a8ee3",
   "metadata": {},
   "outputs": [],
   "source": [
    "# Data types\n",
    "gInfo=data.gmap;\n",
    "pInfo=data.phenocov;\n",
    "pheno=data.pheno;\n",
    "pheno=data.pheno.val;\n",
    "geno=reduce(hcat, data.geno.val);\n",
    "geno_processed=convert(Array{Float64}, geno);"
   ]
  },
  {
   "cell_type": "code",
   "execution_count": null,
   "id": "92337adf-1576-4142-9aaa-649577665fd1",
   "metadata": {},
   "outputs": [],
   "source": [
    "#################\n",
    "# Preprocessing #\n",
    "#################\n",
    "traitID = 1112;\n",
    "pheno_y = pheno[:, traitID];\n",
    "pheno_y2=ones(length(pheno_y));\n",
    "idx_nothing = findall(x->x!=nothing,pheno_y)\n",
    "pheno_y2[idx_nothing]=pheno_y[idx_nothing];"
   ]
  },
  {
   "cell_type": "code",
   "execution_count": null,
   "id": "fae415fc-1a56-415b-b646-8c027a7c1b80",
   "metadata": {},
   "outputs": [],
   "source": [
    "###########\n",
    "# Kinship #\n",
    "###########\n",
    "kinship = kinship_gs(geno_processed,.99);"
   ]
  },
  {
   "cell_type": "code",
   "execution_count": null,
   "id": "11ed327a-de19-47f6-9dbb-f481b0d58f07",
   "metadata": {},
   "outputs": [],
   "source": [
    "########\n",
    "# Scan #\n",
    "########\n",
    "\n",
    "single_results_perms = scan(\n",
    "\tpheno_y2,\n",
    "\tgeno_processed,\n",
    "\tkinship;\n",
    "\tpermutation_test = true,\n",
    "\tnperms = 1000,\n",
    ")"
   ]
  },
  {
   "cell_type": "code",
   "execution_count": null,
   "id": "00f37758-5085-4c98-8997-e048ff0ecabe",
   "metadata": {},
   "outputs": [],
   "source": [
    "#########\n",
    "# Plots #\n",
    "#########\n",
    "\n",
    "\n",
    "# QTL plots\n",
    "plot_QTL(single_results_perms, gInfo, mbColname = \"Pos\")\n"
   ]
  },
  {
   "cell_type": "code",
   "execution_count": null,
   "id": "920df7b9-4103-4be6-a2af-2963846a01c2",
   "metadata": {},
   "outputs": [],
   "source": [
    "# Manhattan plots\n",
    "plot_manhattan(single_results_perms, gInfo, mbColname = \"Pos\")"
   ]
  }
 ],
 "metadata": {
  "jupytext": {
   "formats": "ipynb,auto:light"
  },
  "kernelspec": {
   "display_name": "Julia_6_Threads 1.10.3",
   "language": "julia",
   "name": "julia_6_threads-1.10"
  },
  "language_info": {
   "file_extension": ".jl",
   "mimetype": "application/julia",
   "name": "julia",
   "version": "1.10.3"
  }
 },
 "nbformat": 4,
 "nbformat_minor": 5
}
