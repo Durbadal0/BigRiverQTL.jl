{
 "cells": [
  {
   "cell_type": "code",
   "execution_count": 3,
   "id": "331e2ca3-d2bd-49b5-955c-f0c7bc64e8f4",
   "metadata": {},
   "outputs": [
    {
     "name": "stderr",
     "output_type": "stream",
     "text": [
      "\u001b[32m\u001b[1m  Activating\u001b[22m\u001b[39m project at `~/git/BigRiverQTL.jl`\n"
     ]
    }
   ],
   "source": [
    "using Pkg\n",
    "Pkg.activate(\"../..\")"
   ]
  },
  {
   "cell_type": "code",
   "execution_count": 4,
   "id": "df75f33d-f7cc-45d9-8f24-29495965270e",
   "metadata": {},
   "outputs": [],
   "source": [
    "# libraries\n",
    "using CSV\n",
    "using DataFrames\n",
    "import JSON"
   ]
  },
  {
   "cell_type": "code",
   "execution_count": 7,
   "id": "baf7d95b-a2a1-4b89-b886-b0d2a05737ce",
   "metadata": {},
   "outputs": [
    {
     "data": {
      "text/plain": [
       "Dict{String, Any} with 15 entries:\n",
       "  \"genotypes\"       => Dict{String, Any}(\"B\"=>1, \"D\"=>2)\n",
       "  \"alleles\"         => Any[\"B\", \"D\"]\n",
       "  \"na.strings\"      => Any[\"-\", \"NA\"]\n",
       "  \"phenocovar\"      => \"bxd_phenocovar.csv\"\n",
       "  \"geno\"            => \"bxd_geno.csv\"\n",
       "  \"cross_info\"      => Dict{String, Any}(\"file\"=>\"bxd_crossinfo.csv\", \"BxD\"=>0)\n",
       "  \"x_chr\"           => \"X\"\n",
       "  \"description\"     => \"BXD mouse data from GeneNetwork\"\n",
       "  \"pmap\"            => \"bxd_pmap.csv\"\n",
       "  \"gmap\"            => \"bxd_gmap.csv\"\n",
       "  \"geno_transposed\" => true\n",
       "  \"pheno\"           => \"bxd_pheno.csv\"\n",
       "  \"comment.char\"    => \"#\"\n",
       "  \"crosstype\"       => \"risib\"\n",
       "  \"sep\"             => \",\""
      ]
     },
     "execution_count": 7,
     "metadata": {},
     "output_type": "execute_result"
    }
   ],
   "source": [
    "##################################\n",
    "### Read JSON file from data #####\n",
    "##################################\n",
    "function read_json(file)\n",
    "    open(file,\"r\") do f\n",
    "        \n",
    "        inDict = JSON.parse(f)\n",
    "    end\n",
    "    return inDict\n",
    "end\n",
    "\n",
    "# create variable to write the information\n",
    "bxd_json = read_json(\"bxd.json\")\n"
   ]
  },
  {
   "cell_type": "code",
   "execution_count": null,
   "id": "6d3f1316-1226-4cf3-9fdd-cd9ed2a65bad",
   "metadata": {},
   "outputs": [],
   "source": []
  }
 ],
 "metadata": {
  "kernelspec": {
   "display_name": "Julia_6_Threads 1.10.3",
   "language": "julia",
   "name": "julia_6_threads-1.10"
  },
  "language_info": {
   "file_extension": ".jl",
   "mimetype": "application/julia",
   "name": "julia",
   "version": "1.10.3"
  }
 },
 "nbformat": 4,
 "nbformat_minor": 5
}
